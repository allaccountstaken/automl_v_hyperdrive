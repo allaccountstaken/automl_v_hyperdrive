{
 "cells": [
  {
   "cell_type": "code",
   "execution_count": 66,
   "metadata": {},
   "outputs": [],
   "source": [
    "import pandas as pd\n",
    "import numpy as np\n",
    "import matplotlib.pyplot as plt \n",
    "\n",
    "from pathlib import Path\n",
    "from sklearn import tree\n",
    "from sklearn.preprocessing import StandardScaler\n",
    "from sklearn.model_selection import train_test_split\n",
    "from sklearn.ensemble import GradientBoostingClassifier\n",
    "\n",
    "from sklearn.metrics import confusion_matrix\n",
    "from sklearn.metrics import accuracy_score\n",
    "from sklearn.metrics import classification_report\n",
    "\n",
    "from sklearn.metrics import precision_recall_curve\n",
    "from sklearn.model_selection import cross_val_predict\n",
    "from sklearn.metrics import confusion_matrix\n",
    "\n",
    "from sklearn.metrics import roc_curve\n",
    "%matplotlib inline\n",
    "\n",
    "# Needed for decision tree visualization\n",
    "import pydotplus\n",
    "from IPython.display import Image"
   ]
  },
  {
   "cell_type": "markdown",
   "metadata": {},
   "source": [
    "### Preprocessing"
   ]
  },
  {
   "cell_type": "code",
   "execution_count": 45,
   "metadata": {},
   "outputs": [
    {
     "data": {
      "text/html": [
       "<div>\n",
       "<style scoped>\n",
       "    .dataframe tbody tr th:only-of-type {\n",
       "        vertical-align: middle;\n",
       "    }\n",
       "\n",
       "    .dataframe tbody tr th {\n",
       "        vertical-align: top;\n",
       "    }\n",
       "\n",
       "    .dataframe thead th {\n",
       "        text-align: right;\n",
       "    }\n",
       "</style>\n",
       "<table border=\"1\" class=\"dataframe\">\n",
       "  <thead>\n",
       "    <tr style=\"text-align: right;\">\n",
       "      <th></th>\n",
       "      <th>Target</th>\n",
       "      <th>EQTA</th>\n",
       "      <th>EQTL</th>\n",
       "      <th>LLRTA</th>\n",
       "      <th>LLRGL</th>\n",
       "      <th>OEXTA</th>\n",
       "      <th>INCEMP</th>\n",
       "      <th>ROA</th>\n",
       "      <th>ROE</th>\n",
       "      <th>TDTL</th>\n",
       "      <th>TDTA</th>\n",
       "      <th>TATA</th>\n",
       "    </tr>\n",
       "  </thead>\n",
       "  <tbody>\n",
       "    <tr>\n",
       "      <th>count</th>\n",
       "      <td>7020.000000</td>\n",
       "      <td>7020.000000</td>\n",
       "      <td>7020.000000</td>\n",
       "      <td>7020.000000</td>\n",
       "      <td>7020.000000</td>\n",
       "      <td>7020.000000</td>\n",
       "      <td>7014.000000</td>\n",
       "      <td>7020.000000</td>\n",
       "      <td>7020.000000</td>\n",
       "      <td>7020.000000</td>\n",
       "      <td>7020.000000</td>\n",
       "      <td>7020.000000</td>\n",
       "    </tr>\n",
       "    <tr>\n",
       "      <th>mean</th>\n",
       "      <td>0.019516</td>\n",
       "      <td>0.107825</td>\n",
       "      <td>8.025950</td>\n",
       "      <td>0.012320</td>\n",
       "      <td>0.021934</td>\n",
       "      <td>0.024020</td>\n",
       "      <td>33.658510</td>\n",
       "      <td>0.002020</td>\n",
       "      <td>-0.234058</td>\n",
       "      <td>44.756417</td>\n",
       "      <td>0.835683</td>\n",
       "      <td>0.176412</td>\n",
       "    </tr>\n",
       "    <tr>\n",
       "      <th>std</th>\n",
       "      <td>0.138338</td>\n",
       "      <td>0.048877</td>\n",
       "      <td>573.594468</td>\n",
       "      <td>0.009366</td>\n",
       "      <td>0.160890</td>\n",
       "      <td>0.030903</td>\n",
       "      <td>1156.779875</td>\n",
       "      <td>0.015031</td>\n",
       "      <td>11.397990</td>\n",
       "      <td>3147.677966</td>\n",
       "      <td>0.080119</td>\n",
       "      <td>0.142363</td>\n",
       "    </tr>\n",
       "    <tr>\n",
       "      <th>min</th>\n",
       "      <td>0.000000</td>\n",
       "      <td>-0.160659</td>\n",
       "      <td>-0.195857</td>\n",
       "      <td>0.000000</td>\n",
       "      <td>0.000000</td>\n",
       "      <td>-0.012004</td>\n",
       "      <td>-3639.467742</td>\n",
       "      <td>-0.295750</td>\n",
       "      <td>-887.458333</td>\n",
       "      <td>0.000000</td>\n",
       "      <td>0.000000</td>\n",
       "      <td>0.000000</td>\n",
       "    </tr>\n",
       "    <tr>\n",
       "      <th>25%</th>\n",
       "      <td>0.000000</td>\n",
       "      <td>0.087487</td>\n",
       "      <td>0.125263</td>\n",
       "      <td>0.007216</td>\n",
       "      <td>0.012119</td>\n",
       "      <td>0.018253</td>\n",
       "      <td>3.084559</td>\n",
       "      <td>0.000907</td>\n",
       "      <td>0.009412</td>\n",
       "      <td>1.126635</td>\n",
       "      <td>0.805493</td>\n",
       "      <td>0.066298</td>\n",
       "    </tr>\n",
       "    <tr>\n",
       "      <th>50%</th>\n",
       "      <td>0.000000</td>\n",
       "      <td>0.101018</td>\n",
       "      <td>0.156656</td>\n",
       "      <td>0.010040</td>\n",
       "      <td>0.015915</td>\n",
       "      <td>0.022036</td>\n",
       "      <td>18.162698</td>\n",
       "      <td>0.004832</td>\n",
       "      <td>0.045176</td>\n",
       "      <td>1.273882</td>\n",
       "      <td>0.850135</td>\n",
       "      <td>0.148018</td>\n",
       "    </tr>\n",
       "    <tr>\n",
       "      <th>75%</th>\n",
       "      <td>0.000000</td>\n",
       "      <td>0.121013</td>\n",
       "      <td>0.212105</td>\n",
       "      <td>0.014293</td>\n",
       "      <td>0.022124</td>\n",
       "      <td>0.026400</td>\n",
       "      <td>34.348039</td>\n",
       "      <td>0.008417</td>\n",
       "      <td>0.078245</td>\n",
       "      <td>1.527407</td>\n",
       "      <td>0.883593</td>\n",
       "      <td>0.258563</td>\n",
       "    </tr>\n",
       "    <tr>\n",
       "      <th>max</th>\n",
       "      <td>1.000000</td>\n",
       "      <td>0.968116</td>\n",
       "      <td>47829.250000</td>\n",
       "      <td>0.161906</td>\n",
       "      <td>12.250000</td>\n",
       "      <td>2.164806</td>\n",
       "      <td>73600.000000</td>\n",
       "      <td>0.173673</td>\n",
       "      <td>21.963100</td>\n",
       "      <td>260238.500000</td>\n",
       "      <td>1.151905</td>\n",
       "      <td>0.868327</td>\n",
       "    </tr>\n",
       "  </tbody>\n",
       "</table>\n",
       "</div>"
      ],
      "text/plain": [
       "            Target         EQTA          EQTL        LLRTA        LLRGL  \\\n",
       "count  7020.000000  7020.000000   7020.000000  7020.000000  7020.000000   \n",
       "mean      0.019516     0.107825      8.025950     0.012320     0.021934   \n",
       "std       0.138338     0.048877    573.594468     0.009366     0.160890   \n",
       "min       0.000000    -0.160659     -0.195857     0.000000     0.000000   \n",
       "25%       0.000000     0.087487      0.125263     0.007216     0.012119   \n",
       "50%       0.000000     0.101018      0.156656     0.010040     0.015915   \n",
       "75%       0.000000     0.121013      0.212105     0.014293     0.022124   \n",
       "max       1.000000     0.968116  47829.250000     0.161906    12.250000   \n",
       "\n",
       "             OEXTA        INCEMP          ROA          ROE           TDTL  \\\n",
       "count  7020.000000   7014.000000  7020.000000  7020.000000    7020.000000   \n",
       "mean      0.024020     33.658510     0.002020    -0.234058      44.756417   \n",
       "std       0.030903   1156.779875     0.015031    11.397990    3147.677966   \n",
       "min      -0.012004  -3639.467742    -0.295750  -887.458333       0.000000   \n",
       "25%       0.018253      3.084559     0.000907     0.009412       1.126635   \n",
       "50%       0.022036     18.162698     0.004832     0.045176       1.273882   \n",
       "75%       0.026400     34.348039     0.008417     0.078245       1.527407   \n",
       "max       2.164806  73600.000000     0.173673    21.963100  260238.500000   \n",
       "\n",
       "              TDTA         TATA  \n",
       "count  7020.000000  7020.000000  \n",
       "mean      0.835683     0.176412  \n",
       "std       0.080119     0.142363  \n",
       "min       0.000000     0.000000  \n",
       "25%       0.805493     0.066298  \n",
       "50%       0.850135     0.148018  \n",
       "75%       0.883593     0.258563  \n",
       "max       1.151905     0.868327  "
      ]
     },
     "execution_count": 45,
     "metadata": {},
     "output_type": "execute_result"
    }
   ],
   "source": [
    "# Load data\n",
    "file_path = Path(\"data/camel_data_after2010Q3.csv\")\n",
    "banks_df = pd.read_csv(file_path, index_col=0)\n",
    "banks_df.describe()"
   ]
  },
  {
   "cell_type": "markdown",
   "metadata": {},
   "source": [
    "Check if there are any missing values"
   ]
  },
  {
   "cell_type": "code",
   "execution_count": 46,
   "metadata": {},
   "outputs": [
    {
     "data": {
      "text/plain": [
       "True"
      ]
     },
     "execution_count": 46,
     "metadata": {},
     "output_type": "execute_result"
    }
   ],
   "source": [
    "banks_df.isnull().values.any()"
   ]
  },
  {
   "cell_type": "markdown",
   "metadata": {},
   "source": [
    "Count the missing values and consider different mitigation strategies"
   ]
  },
  {
   "cell_type": "code",
   "execution_count": 47,
   "metadata": {},
   "outputs": [
    {
     "data": {
      "text/plain": [
       "6"
      ]
     },
     "execution_count": 47,
     "metadata": {},
     "output_type": "execute_result"
    }
   ],
   "source": [
    "banks_df.isnull().sum().sum()"
   ]
  },
  {
   "cell_type": "markdown",
   "metadata": {},
   "source": [
    "Only 6 instances have missing data, thus drop raws"
   ]
  },
  {
   "cell_type": "code",
   "execution_count": 48,
   "metadata": {},
   "outputs": [],
   "source": [
    "banks_df.dropna(inplace=True)"
   ]
  },
  {
   "cell_type": "markdown",
   "metadata": {},
   "source": [
    "Count the features of failed banks (Target of 1)"
   ]
  },
  {
   "cell_type": "code",
   "execution_count": 49,
   "metadata": {},
   "outputs": [
    {
     "data": {
      "text/plain": [
       "AsOfDate    137\n",
       "Target      137\n",
       "EQTA        137\n",
       "EQTL        137\n",
       "LLRTA       137\n",
       "LLRGL       137\n",
       "OEXTA       137\n",
       "INCEMP      137\n",
       "ROA         137\n",
       "ROE         137\n",
       "TDTL        137\n",
       "TDTA        137\n",
       "TATA        137\n",
       "dtype: int64"
      ]
     },
     "execution_count": 49,
     "metadata": {},
     "output_type": "execute_result"
    }
   ],
   "source": [
    "banks_df.loc[banks_df.Target == 1].count()"
   ]
  },
  {
   "cell_type": "markdown",
   "metadata": {},
   "source": [
    "Take a copy of predictors and store in X, count all instances available."
   ]
  },
  {
   "cell_type": "code",
   "execution_count": 52,
   "metadata": {},
   "outputs": [
    {
     "data": {
      "text/plain": [
       "7014"
      ]
     },
     "execution_count": 52,
     "metadata": {},
     "output_type": "execute_result"
    }
   ],
   "source": [
    "X = banks_df[['EQTA', 'EQTL', 'LLRTA', 'LLRGL', 'OEXTA', 'INCEMP', 'ROA', 'ROE', 'TDTL', 'TDTA', 'TATA']].copy()\n",
    "len(X)"
   ]
  },
  {
   "cell_type": "markdown",
   "metadata": {},
   "source": [
    "Define the target vector y, reshape as well."
   ]
  },
  {
   "cell_type": "code",
   "execution_count": 55,
   "metadata": {},
   "outputs": [],
   "source": [
    "y = banks_df[\"Target\"].values.reshape(-1, 1)"
   ]
  },
  {
   "cell_type": "markdown",
   "metadata": {},
   "source": [
    "## Naive model"
   ]
  },
  {
   "cell_type": "code",
   "execution_count": 59,
   "metadata": {},
   "outputs": [
    {
     "name": "stdout",
     "output_type": "stream",
     "text": [
      "Prediction accuracy is 0.99601\n"
     ]
    }
   ],
   "source": [
    "naive_model = GradientBoostingClassifier().fit(X, y.ravel())\n",
    "print(\"Prediction accuracy is {0:.5f}\".format(accuracy_score(y.ravel(), naive_model.predict(X))))"
   ]
  },
  {
   "cell_type": "code",
   "execution_count": 60,
   "metadata": {},
   "outputs": [],
   "source": [
    "# Splitting into Train and Test sets\n",
    "X_train, X_test, y_train, y_test = train_test_split(X, y, random_state=123)\n",
    "\n",
    "# Creating StandardScaler instance\n",
    "scaler = StandardScaler()\n",
    "\n",
    "# Fitting Standard Scaler, i.e. remove the mean and scaling to unit variance\n",
    "X_scaler = scaler.fit(X_train)\n",
    "\n",
    "# Scaling data\n",
    "X_train_scaled = X_scaler.transform(X_train)\n",
    "X_test_scaled = X_scaler.transform(X_test)"
   ]
  },
  {
   "cell_type": "markdown",
   "metadata": {},
   "source": [
    "### Choose best learning rate"
   ]
  },
  {
   "cell_type": "code",
   "execution_count": 61,
   "metadata": {},
   "outputs": [],
   "source": [
    "# Iterate over learning rate to identify the best classifier learning rate\n",
    "learning_rates = [0.03, 0.06, 0.07, 0.1, 0.25, 0.5, 0.75, 1]\n"
   ]
  },
  {
   "cell_type": "markdown",
   "metadata": {},
   "source": [
    "### Create Gradient Boosting Classifier"
   ]
  },
  {
   "cell_type": "code",
   "execution_count": 77,
   "metadata": {},
   "outputs": [],
   "source": [
    "#Represent Precision and Recall graphically\n",
    "def plot_precision_recall(precisions, recalls, thresholds):\n",
    "\n",
    "    plt.plot(thresholds, precisions[: -1], 'b--', label='Precision')\n",
    "    plt.plot(thresholds, recalls[: -1], 'g-', label='Recall')\n",
    "    plt.ylabel('Precision/Recall')\n",
    "    plt.xlabel('Threshold')\n",
    "    plt.legend(loc='center left')\n",
    "    plt.ylim([0,1])\n",
    "    plt.show()\n",
    "    \n",
    "\n",
    "def plot_roc_curve(fpr, tpr, label=None):\n",
    "    plt.plot(fpr, tpr, linewidth=2, label=label)\n",
    "    plt.plot([0,1], [0,1], 'k--')\n",
    "    plt.axis([0,1,0,1])\n",
    "    plt.xlabel('False Positive Rate')\n",
    "    plt.ylabel('True Negatove Rate')"
   ]
  },
  {
   "cell_type": "code",
   "execution_count": 78,
   "metadata": {},
   "outputs": [
    {
     "name": "stdout",
     "output_type": "stream",
     "text": [
      "For learning rate of 0.030000\n",
      "Training accuracy is 0.982\n",
      "Testing accuracy is 0.985\n",
      "Prediction accuracy is 0.98518\n",
      "\n",
      "For learning rate of 0.060000\n",
      "Training accuracy is 0.993\n",
      "Testing accuracy is 0.987\n",
      "Prediction accuracy is 0.98746\n",
      "\n",
      "For learning rate of 0.070000\n",
      "Training accuracy is 0.994\n",
      "Testing accuracy is 0.988\n",
      "Prediction accuracy is 0.98803\n",
      "\n",
      "For learning rate of 0.100000\n",
      "Training accuracy is 0.994\n",
      "Testing accuracy is 0.987\n",
      "Prediction accuracy is 0.98746\n",
      "\n",
      "For learning rate of 0.250000\n",
      "Training accuracy is 0.993\n",
      "Testing accuracy is 0.985\n",
      "Prediction accuracy is 0.98461\n",
      "\n",
      "For learning rate of 0.500000\n",
      "Training accuracy is 0.983\n",
      "Testing accuracy is 0.984\n",
      "Prediction accuracy is 0.98404\n",
      "\n",
      "For learning rate of 0.750000\n",
      "Training accuracy is 0.982\n",
      "Testing accuracy is 0.981\n",
      "Prediction accuracy is 0.98119\n",
      "\n",
      "For learning rate of 1.000000\n",
      "Training accuracy is 0.983\n",
      "Testing accuracy is 0.985\n",
      "Prediction accuracy is 0.98461\n",
      "\n"
     ]
    }
   ],
   "source": [
    "# Choose a learning rate and create the classifier\n",
    "for rate in learning_rates:\n",
    "    clf = GradientBoostingClassifier(n_estimators=20,\n",
    "                                     learning_rate=rate,\n",
    "                                     max_features=5,\n",
    "                                     max_depth=3,\n",
    "                                     random_state=0\n",
    "    )\n",
    "\n",
    "# Fit the model\n",
    "    clf.fit(X_train_scaled, y_train.ravel()) # dont forget to flatten the y array\n",
    "    predictions = clf.predict(X_test_scaled)\n",
    "    \n",
    "    \n",
    "    \n",
    "    print(\"For learning rate of {0:.6f}\".format(rate))\n",
    "    # Make Prediction\n",
    "    print(\"Training accuracy is {0:.3f}\".format(clf.score(X_train_scaled, y_train.ravel())))\n",
    "    print(\"Testing accuracy is {0:.3f}\". format(clf.score(X_test_scaled, y_test.ravel())))\n",
    "    print(\"Prediction accuracy is {0:.5f}\".format(accuracy_score(y_test, predictions)))\n",
    "    print()\n"
   ]
  },
  {
   "cell_type": "markdown",
   "metadata": {},
   "source": [
    "### Validation Curve: Precision/Recall and ROC/AUC"
   ]
  },
  {
   "cell_type": "code",
   "execution_count": 79,
   "metadata": {},
   "outputs": [
    {
     "data": {
      "image/png": "[encoded data removed]",
      "text/plain": [
       "<Figure size 432x288 with 1 Axes>"
      ]
     },
     "metadata": {
      "needs_background": "light"
     },
     "output_type": "display_data"
    },
    {
     "data": {
      "image/png": "[encoded data removed]",
      "text/plain": [
       "<Figure size 432x288 with 1 Axes>"
      ]
     },
     "metadata": {
      "needs_background": "light"
     },
     "output_type": "display_data"
    }
   ],
   "source": [
    "from sklearn.model_selection import validation_curve\n",
    "from sklearn.metrics import roc_curve\n",
    "y_scores = cross_val_predict(clf, X_train_scaled, y_train.ravel(), cv=3)\n",
    "precisions, recalls, thresholds = precision_recall_curve(y_test, predictions)\n",
    "plot_precision_recall(precisions, recalls, thresholds)\n",
    "false_positive, true_negative, thresholds = roc_curve(y_train, y_scores)\n",
    "plot_roc_curve(false_positive, true_negative)"
   ]
  },
  {
   "cell_type": "markdown",
   "metadata": {},
   "source": [
    "### Grid Search"
   ]
  },
  {
   "cell_type": "code",
   "execution_count": 365,
   "metadata": {},
   "outputs": [
    {
     "data": {
      "text/plain": [
       "{'learning_rate': 0.2, 'max_depth': 2, 'max_features': 2, 'n_estimators': 20}"
      ]
     },
     "execution_count": 365,
     "metadata": {},
     "output_type": "execute_result"
    }
   ],
   "source": [
    "from sklearn.model_selection import GridSearchCV\n",
    "\n",
    "param_grid = {'learning_rate': [0.05, 0.1, 0.2, 0.5, 0.7, 0.8, 1], \n",
    "             \"n_estimators\" : [10, 30, 50],\n",
    "              \"max_features\": [2, 3, 4, 5],\n",
    "              \"max_depth\" : [2, 3, 4]\n",
    "             \n",
    "             \n",
    "             } \n",
    "\n",
    "grid = GridSearchCV(GradientBoostingClassifier(), param_grid, cv=7)\n",
    "\n",
    "grid.fit(X, y.ravel());\n",
    "\n",
    "grid.best_params_"
   ]
  },
  {
   "cell_type": "markdown",
   "metadata": {},
   "source": [
    "### The best model"
   ]
  },
  {
   "cell_type": "code",
   "execution_count": 459,
   "metadata": {},
   "outputs": [
    {
     "data": {
      "text/html": [
       "<div>\n",
       "<style scoped>\n",
       "    .dataframe tbody tr th:only-of-type {\n",
       "        vertical-align: middle;\n",
       "    }\n",
       "\n",
       "    .dataframe tbody tr th {\n",
       "        vertical-align: top;\n",
       "    }\n",
       "\n",
       "    .dataframe thead th {\n",
       "        text-align: right;\n",
       "    }\n",
       "</style>\n",
       "<table border=\"1\" class=\"dataframe\">\n",
       "  <thead>\n",
       "    <tr style=\"text-align: right;\">\n",
       "      <th></th>\n",
       "      <th>Prediction</th>\n",
       "      <th>Actual</th>\n",
       "    </tr>\n",
       "  </thead>\n",
       "  <tbody>\n",
       "    <tr>\n",
       "      <th>0</th>\n",
       "      <td>0</td>\n",
       "      <td>1</td>\n",
       "    </tr>\n",
       "    <tr>\n",
       "      <th>1</th>\n",
       "      <td>0</td>\n",
       "      <td>0</td>\n",
       "    </tr>\n",
       "    <tr>\n",
       "      <th>2</th>\n",
       "      <td>0</td>\n",
       "      <td>1</td>\n",
       "    </tr>\n",
       "    <tr>\n",
       "      <th>3</th>\n",
       "      <td>0</td>\n",
       "      <td>0</td>\n",
       "    </tr>\n",
       "    <tr>\n",
       "      <th>4</th>\n",
       "      <td>0</td>\n",
       "      <td>0</td>\n",
       "    </tr>\n",
       "  </tbody>\n",
       "</table>\n",
       "</div>"
      ],
      "text/plain": [
       "   Prediction  Actual\n",
       "0           0       1\n",
       "1           0       0\n",
       "2           0       1\n",
       "3           0       0\n",
       "4           0       0"
      ]
     },
     "execution_count": 459,
     "metadata": {},
     "output_type": "execute_result"
    }
   ],
   "source": [
    "# Calculating the accuracy score\n",
    "clf_best = GradientBoostingClassifier(n_estimators=20,\n",
    "                                     learning_rate=0.2,\n",
    "                                     max_features=2,\n",
    "                                     max_depth=2,\n",
    "                                     random_state=0\n",
    "    )\n",
    "clf_best.fit(X_train_scaled, y_train.ravel())\n",
    "#{'learning_rate': 0.2, 'max_depth': 2, 'max_features': 2, 'n_estimators': 20}\n",
    "predictions = clf_best.predict(X_test_scaled)\n",
    "pd.DataFrame({\"Prediction\": predictions, \"Actual\": y_test.ravel()}).head(5)"
   ]
  },
  {
   "cell_type": "code",
   "execution_count": 460,
   "metadata": {},
   "outputs": [
    {
     "data": {
      "text/plain": [
       "0.586"
      ]
     },
     "execution_count": 460,
     "metadata": {},
     "output_type": "execute_result"
    }
   ],
   "source": [
    "# Important: double check the best model with cross validation \n",
    "from sklearn.model_selection import cross_val_score \n",
    "scores = cross_val_score(clf_best, X, y.ravel(), cv=10)\n",
    "scores.mean()"
   ]
  },
  {
   "cell_type": "code",
   "execution_count": 461,
   "metadata": {},
   "outputs": [
    {
     "name": "stdout",
     "output_type": "stream",
     "text": [
      "Accuracy Score : 0.592\n"
     ]
    }
   ],
   "source": [
    "# Calculating the accuracy score\n",
    "acc_score = accuracy_score(y_test, predictions)\n",
    "print(f\"Accuracy Score : {acc_score}\")"
   ]
  },
  {
   "cell_type": "code",
   "execution_count": 468,
   "metadata": {},
   "outputs": [
    {
     "data": {
      "image/png": "[encoded data removed]",
      "text/plain": [
       "<Figure size 432x288 with 1 Axes>"
      ]
     },
     "metadata": {
      "needs_background": "light"
     },
     "output_type": "display_data"
    }
   ],
   "source": [
    "y_scores = cross_val_predict(clf_best, X_train_scaled, y_train.ravel(), cv=3, method='decision_function')\n",
    "precisions, recalls, thresholds = precision_recall_curve(y_train, y_scores)\n",
    "\n",
    "plot_precision_recall(precisions, recalls, thresholds)\n",
    "plt.show()"
   ]
  },
  {
   "cell_type": "code",
   "execution_count": 469,
   "metadata": {},
   "outputs": [
    {
     "data": {
      "image/png": "[encoded data removed]",
      "text/plain": [
       "<Figure size 432x288 with 1 Axes>"
      ]
     },
     "metadata": {
      "needs_background": "light"
     },
     "output_type": "display_data"
    }
   ],
   "source": [
    "fpr, tpr, thresholds = roc_curve(y_train, y_scores)\n",
    "plot_roc_curve(fpr, tpr)\n",
    "plt.show()"
   ]
  },
  {
   "cell_type": "code",
   "execution_count": 411,
   "metadata": {},
   "outputs": [
    {
     "data": {
      "text/html": [
       "<div>\n",
       "<style scoped>\n",
       "    .dataframe tbody tr th:only-of-type {\n",
       "        vertical-align: middle;\n",
       "    }\n",
       "\n",
       "    .dataframe tbody tr th {\n",
       "        vertical-align: top;\n",
       "    }\n",
       "\n",
       "    .dataframe thead th {\n",
       "        text-align: right;\n",
       "    }\n",
       "</style>\n",
       "<table border=\"1\" class=\"dataframe\">\n",
       "  <thead>\n",
       "    <tr style=\"text-align: right;\">\n",
       "      <th></th>\n",
       "      <th>Actual 1</th>\n",
       "      <th>Actual 0</th>\n",
       "    </tr>\n",
       "  </thead>\n",
       "  <tbody>\n",
       "    <tr>\n",
       "      <th>Pred 0</th>\n",
       "      <td>66</td>\n",
       "      <td>18</td>\n",
       "    </tr>\n",
       "    <tr>\n",
       "      <th>Pred 1</th>\n",
       "      <td>33</td>\n",
       "      <td>8</td>\n",
       "    </tr>\n",
       "  </tbody>\n",
       "</table>\n",
       "</div>"
      ],
      "text/plain": [
       "        Actual 1  Actual 0\n",
       "Pred 0        66        18\n",
       "Pred 1        33         8"
      ]
     },
     "execution_count": 411,
     "metadata": {},
     "output_type": "execute_result"
    }
   ],
   "source": [
    "# Generate the confusion matrix\n",
    "pd.DataFrame(confusion_matrix(y_test, predictions), index=[\"Pred 0\", \"Pred 1\"], columns=[\"Actual 1\", \"Actual 0\"])"
   ]
  },
  {
   "cell_type": "code",
   "execution_count": 412,
   "metadata": {},
   "outputs": [
    {
     "data": {
      "text/plain": [
       "-0.022167059799599678"
      ]
     },
     "execution_count": 412,
     "metadata": {},
     "output_type": "execute_result"
    }
   ],
   "source": [
    "from sklearn.metrics import matthews_corrcoef\n",
    "matthews_corrcoef(y_test, predictions)"
   ]
  },
  {
   "cell_type": "code",
   "execution_count": 413,
   "metadata": {},
   "outputs": [
    {
     "name": "stdout",
     "output_type": "stream",
     "text": [
      "Classification Report\n",
      "              precision    recall  f1-score   support\n",
      "\n",
      "           0       0.67      0.79      0.72        84\n",
      "           1       0.31      0.20      0.24        41\n",
      "\n",
      "    accuracy                           0.59       125\n",
      "   macro avg       0.49      0.49      0.48       125\n",
      "weighted avg       0.55      0.59      0.56       125\n",
      "\n"
     ]
    }
   ],
   "source": [
    "# Generate classification report\n",
    "print(\"Classification Report\")\n",
    "print(classification_report(y_test, predictions))"
   ]
  },
  {
   "cell_type": "markdown",
   "metadata": {},
   "source": [
    "#### Checking learning_rate = 0.75 results"
   ]
  },
  {
   "cell_type": "code",
   "execution_count": 415,
   "metadata": {},
   "outputs": [
    {
     "name": "stdout",
     "output_type": "stream",
     "text": [
      "Accuracy Score : 0.568\n"
     ]
    }
   ],
   "source": [
    "# Calculating the accuracy score\n",
    "clf_benchmark = GradientBoostingClassifier(n_estimators=20,\n",
    "                                     learning_rate=0.75,\n",
    "                                     max_features=5,\n",
    "                                     max_depth=3,\n",
    "                                     random_state=0\n",
    "    )\n",
    "clf_benchmark.fit(X_train_scaled, y_train.ravel())\n",
    "\n",
    "# Make Prediction\n",
    "predictions = clf_benchmark.predict(X_test_scaled)\n",
    "# Calculating the accuracy score\n",
    "acc_score = accuracy_score(y_test, predictions)\n",
    "print(f\"Accuracy Score : {acc_score}\")"
   ]
  },
  {
   "cell_type": "code",
   "execution_count": 416,
   "metadata": {},
   "outputs": [
    {
     "data": {
      "text/html": [
       "<div>\n",
       "<style scoped>\n",
       "    .dataframe tbody tr th:only-of-type {\n",
       "        vertical-align: middle;\n",
       "    }\n",
       "\n",
       "    .dataframe tbody tr th {\n",
       "        vertical-align: top;\n",
       "    }\n",
       "\n",
       "    .dataframe thead th {\n",
       "        text-align: right;\n",
       "    }\n",
       "</style>\n",
       "<table border=\"1\" class=\"dataframe\">\n",
       "  <thead>\n",
       "    <tr style=\"text-align: right;\">\n",
       "      <th></th>\n",
       "      <th>Actual 0</th>\n",
       "      <th>Actual 1</th>\n",
       "    </tr>\n",
       "  </thead>\n",
       "  <tbody>\n",
       "    <tr>\n",
       "      <th>Pred 0</th>\n",
       "      <td>52</td>\n",
       "      <td>32</td>\n",
       "    </tr>\n",
       "    <tr>\n",
       "      <th>Pred 1</th>\n",
       "      <td>22</td>\n",
       "      <td>19</td>\n",
       "    </tr>\n",
       "  </tbody>\n",
       "</table>\n",
       "</div>"
      ],
      "text/plain": [
       "        Actual 0  Actual 1\n",
       "Pred 0        52        32\n",
       "Pred 1        22        19"
      ]
     },
     "metadata": {},
     "output_type": "display_data"
    }
   ],
   "source": [
    "# Generate the confusion matrix\n",
    "#confusion_matrix = confusion_matrix(y_test, y_pred)\n",
    "cm = confusion_matrix(y_test, predictions)\n",
    "confusion_matrix_df = pd.DataFrame(\n",
    "    cm, \n",
    "    columns=['Actual 0', 'Actual 1'], index=['Pred 0', 'Pred 1'])\n",
    "display(confusion_matrix_df)"
   ]
  },
  {
   "cell_type": "code",
   "execution_count": 417,
   "metadata": {},
   "outputs": [
    {
     "data": {
      "text/plain": [
       "0.07877453001099935"
      ]
     },
     "execution_count": 417,
     "metadata": {},
     "output_type": "execute_result"
    }
   ],
   "source": [
    "from sklearn.metrics import matthews_corrcoef\n",
    "matthews_corrcoef(y_test, predictions)"
   ]
  },
  {
   "cell_type": "code",
   "execution_count": 418,
   "metadata": {},
   "outputs": [
    {
     "name": "stdout",
     "output_type": "stream",
     "text": [
      "Classification Report\n",
      "              precision    recall  f1-score   support\n",
      "\n",
      "           0       0.70      0.62      0.66        84\n",
      "           1       0.37      0.46      0.41        41\n",
      "\n",
      "    accuracy                           0.57       125\n",
      "   macro avg       0.54      0.54      0.54       125\n",
      "weighted avg       0.59      0.57      0.58       125\n",
      "\n"
     ]
    }
   ],
   "source": [
    "# Generate classification report\n",
    "print(\"Classification Report\")\n",
    "print(classification_report(y_test, predictions))"
   ]
  },
  {
   "cell_type": "code",
   "execution_count": 471,
   "metadata": {},
   "outputs": [
    {
     "data": {
      "image/png": "[encoded data removed]",
      "text/plain": [
       "<Figure size 432x288 with 1 Axes>"
      ]
     },
     "metadata": {
      "needs_background": "light"
     },
     "output_type": "display_data"
    }
   ],
   "source": [
    "y_scores = cross_val_predict(clf_benchmark, X_train_scaled, y_train.ravel(), cv=3, method='decision_function')\n",
    "precisions, recalls, thresholds = precision_recall_curve(y_train, y_scores)\n",
    "\n",
    "plot_precision_recall(precisions, recalls, thresholds)\n",
    "plt.show()"
   ]
  },
  {
   "cell_type": "code",
   "execution_count": 472,
   "metadata": {},
   "outputs": [
    {
     "data": {
      "image/png": "[encoded data removed]",
      "text/plain": [
       "<Figure size 432x288 with 1 Axes>"
      ]
     },
     "metadata": {
      "needs_background": "light"
     },
     "output_type": "display_data"
    }
   ],
   "source": [
    "fpr, tpr, thresholds = roc_curve(y_train, y_scores)\n",
    "plot_roc_curve(fpr, tpr)\n",
    "plt.show()"
   ]
  },
  {
   "cell_type": "code",
   "execution_count": null,
   "metadata": {},
   "outputs": [],
   "source": []
  },
  {
   "cell_type": "code",
   "execution_count": null,
   "metadata": {},
   "outputs": [],
   "source": []
  },
  {
   "cell_type": "code",
   "execution_count": null,
   "metadata": {},
   "outputs": [],
   "source": []
  }
 ],
 "metadata": {
  "kernelspec": {
   "display_name": "Python 3",
   "language": "python",
   "name": "python3"
  },
  "language_info": {
   "codemirror_mode": {
    "name": "ipython",
    "version": 3
   },
   "file_extension": ".py",
   "mimetype": "text/x-python",
   "name": "python",
   "nbconvert_exporter": "python",
   "pygments_lexer": "ipython3",
   "version": "3.8.3"
  }
 },
 "nbformat": 4,
 "nbformat_minor": 4
}
