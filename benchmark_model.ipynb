{
 "cells": [
  {
   "cell_type": "markdown",
   "metadata": {},
   "source": [
    "This research presents preliminary findings and is being distributed to interested readers solely to stimulate discussion and elicit comments."
   ]
  },
  {
   "cell_type": "markdown",
   "metadata": {},
   "source": [
    "Notes: MCC vs Accuracy, source: https://towardsdatascience.com/the-best-classification-metric-youve-never-heard-of-the-matthews-correlation-coefficient-3bf50a2f3e9a\n",
    "\n",
    "    TODO: Intro Para on data for training and testing \n",
    "    TODO: Explain CAMELS ratios\n",
    "    TODO: Explain MCC and why it is important for imbalanced samples like this one\n",
    "    TODO: Add timer to the Grid Search \n",
    "    TODO: Plot the tree and/or feature importances"
   ]
  },
  {
   "cell_type": "code",
   "execution_count": 1,
   "metadata": {},
   "outputs": [],
   "source": [
    "import pandas as pd\n",
    "import numpy as np\n",
    "import matplotlib.pyplot as plt \n",
    "from sklearn.preprocessing import StandardScaler\n",
    "from sklearn.model_selection import train_test_split, cross_val_predict, validation_curve, GridSearchCV\n",
    "from sklearn.metrics import confusion_matrix, accuracy_score, classification_report, precision_recall_curve \n",
    "from sklearn.metrics import precision_recall_curve, roc_curve, matthews_corrcoef\n",
    "from sklearn.ensemble import GradientBoostingClassifier\n",
    "%matplotlib inline\n",
    "# Needed for decision tree visualization\n",
    "import pydotplus\n",
    "from IPython.display import Image"
   ]
  },
  {
   "cell_type": "markdown",
   "metadata": {},
   "source": [
    "### 1. Preprocessing"
   ]
  },
  {
   "cell_type": "code",
   "execution_count": 2,
   "metadata": {},
   "outputs": [],
   "source": [
    "file_path = \"data/camel_data_after2010Q3.csv\"\n",
    "banks_df = pd.read_csv(file_path, index_col=0)"
   ]
  },
  {
   "cell_type": "markdown",
   "metadata": {},
   "source": [
    "Check if there are any missing values and drop `null`"
   ]
  },
  {
   "cell_type": "code",
   "execution_count": 3,
   "metadata": {},
   "outputs": [],
   "source": [
    "banks_df.dropna(inplace=True)"
   ]
  },
  {
   "cell_type": "markdown",
   "metadata": {},
   "source": [
    "Show the features of failed banks (Target of 1) and count them"
   ]
  },
  {
   "cell_type": "code",
   "execution_count": 4,
   "metadata": {},
   "outputs": [
    {
     "data": {
      "text/plain": [
       "AsOfDate    137\n",
       "Target      137\n",
       "EQTA        137\n",
       "EQTL        137\n",
       "LLRTA       137\n",
       "LLRGL       137\n",
       "OEXTA       137\n",
       "INCEMP      137\n",
       "ROA         137\n",
       "ROE         137\n",
       "TDTL        137\n",
       "TDTA        137\n",
       "TATA        137\n",
       "dtype: int64"
      ]
     },
     "execution_count": 4,
     "metadata": {},
     "output_type": "execute_result"
    }
   ],
   "source": [
    "banks_df.loc[banks_df.Target == 1].count()"
   ]
  },
  {
   "cell_type": "markdown",
   "metadata": {},
   "source": [
    "Take a copy of predictors and store in X, count all instances available."
   ]
  },
  {
   "cell_type": "code",
   "execution_count": 5,
   "metadata": {},
   "outputs": [
    {
     "data": {
      "text/plain": [
       "7014"
      ]
     },
     "execution_count": 5,
     "metadata": {},
     "output_type": "execute_result"
    }
   ],
   "source": [
    "X = banks_df[['EQTA', 'EQTL', 'LLRTA', 'LLRGL', 'OEXTA', 'INCEMP', 'ROA', 'ROE', 'TDTL', 'TDTA', 'TATA']].copy()\n",
    "len(X)"
   ]
  },
  {
   "cell_type": "markdown",
   "metadata": {},
   "source": [
    "Define the target vector y and reshape it as well."
   ]
  },
  {
   "cell_type": "code",
   "execution_count": 6,
   "metadata": {},
   "outputs": [],
   "source": [
    "y = banks_df[\"Target\"].values.reshape(-1, 1)"
   ]
  },
  {
   "cell_type": "markdown",
   "metadata": {},
   "source": [
    "### 2. Developing basic GBM "
   ]
  },
  {
   "cell_type": "markdown",
   "metadata": {},
   "source": [
    "First train/test split, note `random_state=123` for the auditing purposes."
   ]
  },
  {
   "cell_type": "code",
   "execution_count": 7,
   "metadata": {},
   "outputs": [],
   "source": [
    "X_train, X_test, y_train, y_test = train_test_split(X, y, random_state=123)"
   ]
  },
  {
   "cell_type": "markdown",
   "metadata": {},
   "source": [
    "Creating `StandardScaler` object and fitting, i.e. removing the mean and scaling to unit variance."
   ]
  },
  {
   "cell_type": "code",
   "execution_count": 8,
   "metadata": {},
   "outputs": [],
   "source": [
    "scaler = StandardScaler()\n",
    "X_scaler = scaler.fit(X_train)"
   ]
  },
  {
   "cell_type": "markdown",
   "metadata": {},
   "source": [
    "Transforming training and testing features data using the fitted scaler."
   ]
  },
  {
   "cell_type": "code",
   "execution_count": 9,
   "metadata": {},
   "outputs": [],
   "source": [
    "X_train_scaled = X_scaler.transform(X_train)\n",
    "X_test_scaled = X_scaler.transform(X_test)"
   ]
  },
  {
   "cell_type": "markdown",
   "metadata": {},
   "source": [
    "Preparing for validation: define functions to plot Precision/Recall and ROC/AUC."
   ]
  },
  {
   "cell_type": "markdown",
   "metadata": {},
   "source": [
    "### 3. Discovering best parameters with `GridSearch`"
   ]
  },
  {
   "cell_type": "code",
   "execution_count": 31,
   "metadata": {},
   "outputs": [
    {
     "data": {
      "text/plain": [
       "{'learning_rate': 0.1, 'max_depth': 2, 'max_features': 3, 'n_estimators': 30}"
      ]
     },
     "execution_count": 31,
     "metadata": {},
     "output_type": "execute_result"
    }
   ],
   "source": [
    "param_grid = {'learning_rate': [0.05, 0.1, 0.2, 0.5, 0.7, 0.8, 1], \n",
    "             \"n_estimators\" : [10, 30, 50],\n",
    "              \"max_features\": [2, 3, 4, 5],\n",
    "              \"max_depth\" : [2, 3, 4]} \n",
    "\n",
    "grid = GridSearchCV(GradientBoostingClassifier(), param_grid, cv=5)\n",
    "grid.fit(X, y.ravel());\n",
    "grid.best_params_\n"
   ]
  },
  {
   "cell_type": "markdown",
   "metadata": {},
   "source": [
    "### 4. Evaluating the best GBM model"
   ]
  },
  {
   "cell_type": "code",
   "execution_count": 32,
   "metadata": {},
   "outputs": [
    {
     "name": "stdout",
     "output_type": "stream",
     "text": [
      "Testing accuracy: 0.98461\n"
     ]
    },
    {
     "data": {
      "text/html": [
       "<div>\n",
       "<style scoped>\n",
       "    .dataframe tbody tr th:only-of-type {\n",
       "        vertical-align: middle;\n",
       "    }\n",
       "\n",
       "    .dataframe tbody tr th {\n",
       "        vertical-align: top;\n",
       "    }\n",
       "\n",
       "    .dataframe thead th {\n",
       "        text-align: right;\n",
       "    }\n",
       "</style>\n",
       "<table border=\"1\" class=\"dataframe\">\n",
       "  <thead>\n",
       "    <tr style=\"text-align: right;\">\n",
       "      <th></th>\n",
       "      <th>Prediction</th>\n",
       "      <th>Actual</th>\n",
       "    </tr>\n",
       "  </thead>\n",
       "  <tbody>\n",
       "    <tr>\n",
       "      <th>0</th>\n",
       "      <td>0</td>\n",
       "      <td>0</td>\n",
       "    </tr>\n",
       "    <tr>\n",
       "      <th>1</th>\n",
       "      <td>0</td>\n",
       "      <td>0</td>\n",
       "    </tr>\n",
       "    <tr>\n",
       "      <th>2</th>\n",
       "      <td>0</td>\n",
       "      <td>0</td>\n",
       "    </tr>\n",
       "    <tr>\n",
       "      <th>3</th>\n",
       "      <td>0</td>\n",
       "      <td>0</td>\n",
       "    </tr>\n",
       "    <tr>\n",
       "      <th>4</th>\n",
       "      <td>0</td>\n",
       "      <td>0</td>\n",
       "    </tr>\n",
       "  </tbody>\n",
       "</table>\n",
       "</div>"
      ],
      "text/plain": [
       "   Prediction  Actual\n",
       "0           0       0\n",
       "1           0       0\n",
       "2           0       0\n",
       "3           0       0\n",
       "4           0       0"
      ]
     },
     "execution_count": 32,
     "metadata": {},
     "output_type": "execute_result"
    }
   ],
   "source": [
    "clf_best = GradientBoostingClassifier(n_estimators=30,\n",
    "                                     learning_rate=0.1,\n",
    "                                     max_features=3,\n",
    "                                     max_depth=2,\n",
    "                                     random_state=123)\n",
    "\n",
    "clf_best.fit(X_train_scaled, y_train.ravel())\n",
    "predictions = clf_best.predict(X_test_scaled)\n",
    "print(\"Testing accuracy: {0:.5f}\".format(accuracy_score(predictions, y_test)))\n",
    "pd.DataFrame({\"Prediction\": predictions, \"Actual\": y_test.ravel()}).head(5)"
   ]
  },
  {
   "cell_type": "markdown",
   "metadata": {},
   "source": [
    "Plot precision and recall trade-off over thresholds"
   ]
  },
  {
   "cell_type": "code",
   "execution_count": 33,
   "metadata": {},
   "outputs": [
    {
     "name": "stdout",
     "output_type": "stream",
     "text": [
      "Average precision-recall score: 0.67\n"
     ]
    },
    {
     "data": {
      "text/plain": [
       "Text(0.5, 1.0, '2-class Precision-Recall curve: Avg. Precision=0.67')"
      ]
     },
     "execution_count": 33,
     "metadata": {},
     "output_type": "execute_result"
    },
    {
     "data": {
      "image/png": "[encoded data removed]",
      "text/plain": [
       "<Figure size 432x288 with 1 Axes>"
      ]
     },
     "metadata": {
      "needs_background": "light"
     },
     "output_type": "display_data"
    }
   ],
   "source": [
    "y_score = clf_best.decision_function(X_test_scaled)\n",
    "\n",
    "from sklearn.metrics import average_precision_score\n",
    "average_precision = average_precision_score(y_test, y_score)\n",
    "\n",
    "print('Average precision-recall score: {0:0.2f}'.format(\n",
    "      average_precision))\n",
    "\n",
    "from sklearn.metrics import plot_precision_recall_curve\n",
    "import matplotlib.pyplot as plt\n",
    "\n",
    "disp = plot_precision_recall_curve(clf_best, X_test_scaled, y_test)\n",
    "disp.ax_.set_title('2-class Precision-Recall curve: '\n",
    "                   'Avg. Precision={0:0.2f}'.format(average_precision))"
   ]
  },
  {
   "cell_type": "code",
   "execution_count": 44,
   "metadata": {},
   "outputs": [
    {
     "data": {
      "image/png": "[encoded data removed]",
      "text/plain": [
       "<Figure size 432x288 with 1 Axes>"
      ]
     },
     "metadata": {
      "needs_background": "light"
     },
     "output_type": "display_data"
    }
   ],
   "source": [
    "from sklearn.metrics import plot_roc_curve\n",
    "clf_best_disp = plot_roc_curve(clf_best, X_test_scaled, y_test)\n",
    "clf_best_disp.plot(ax=ax, alpha=0.8)\n",
    "plt.show()\n"
   ]
  },
  {
   "cell_type": "markdown",
   "metadata": {},
   "source": [
    "Generate the confusion matrix"
   ]
  },
  {
   "cell_type": "code",
   "execution_count": 35,
   "metadata": {},
   "outputs": [
    {
     "data": {
      "text/html": [
       "<div>\n",
       "<style scoped>\n",
       "    .dataframe tbody tr th:only-of-type {\n",
       "        vertical-align: middle;\n",
       "    }\n",
       "\n",
       "    .dataframe tbody tr th {\n",
       "        vertical-align: top;\n",
       "    }\n",
       "\n",
       "    .dataframe thead th {\n",
       "        text-align: right;\n",
       "    }\n",
       "</style>\n",
       "<table border=\"1\" class=\"dataframe\">\n",
       "  <thead>\n",
       "    <tr style=\"text-align: right;\">\n",
       "      <th></th>\n",
       "      <th>Actual 1</th>\n",
       "      <th>Actual 0</th>\n",
       "    </tr>\n",
       "  </thead>\n",
       "  <tbody>\n",
       "    <tr>\n",
       "      <th>Pred 0</th>\n",
       "      <td>1707</td>\n",
       "      <td>18</td>\n",
       "    </tr>\n",
       "    <tr>\n",
       "      <th>Pred 1</th>\n",
       "      <td>9</td>\n",
       "      <td>20</td>\n",
       "    </tr>\n",
       "  </tbody>\n",
       "</table>\n",
       "</div>"
      ],
      "text/plain": [
       "        Actual 1  Actual 0\n",
       "Pred 0      1707        18\n",
       "Pred 1         9        20"
      ]
     },
     "execution_count": 35,
     "metadata": {},
     "output_type": "execute_result"
    }
   ],
   "source": [
    "pd.DataFrame(confusion_matrix(y_test, predictions), index=[\"Pred 0\", \"Pred 1\"], \n",
    "             columns=[\"Actual 1\", \"Actual 0\"])"
   ]
  },
  {
   "cell_type": "markdown",
   "metadata": {},
   "source": [
    "Compute Matthews correlation (MCC)"
   ]
  },
  {
   "cell_type": "code",
   "execution_count": 36,
   "metadata": {},
   "outputs": [
    {
     "name": "stdout",
     "output_type": "stream",
     "text": [
      "Matthews Correlation is 0.595\n"
     ]
    }
   ],
   "source": [
    "matthews_corrcoef(y_test, predictions)\n",
    "print(\"Matthews Correlation is {0:.3f}\".format(matthews_corrcoef(y_test, predictions)))"
   ]
  },
  {
   "cell_type": "markdown",
   "metadata": {},
   "source": [
    "Generate classification report"
   ]
  },
  {
   "cell_type": "code",
   "execution_count": 37,
   "metadata": {},
   "outputs": [
    {
     "name": "stdout",
     "output_type": "stream",
     "text": [
      "In-Sample Classification Report\n",
      "              precision    recall  f1-score   support\n",
      "\n",
      "           0       0.99      0.99      0.99      1725\n",
      "           1       0.53      0.69      0.60        29\n",
      "\n",
      "    accuracy                           0.98      1754\n",
      "   macro avg       0.76      0.84      0.79      1754\n",
      "weighted avg       0.99      0.98      0.99      1754\n",
      "\n"
     ]
    }
   ],
   "source": [
    "print(\"In-Sample Classification Report\")\n",
    "print(classification_report(y_test, predictions))"
   ]
  },
  {
   "cell_type": "markdown",
   "metadata": {},
   "source": [
    "Extracting rules that were learned in training"
   ]
  },
  {
   "cell_type": "markdown",
   "metadata": {},
   "source": [
    "### 5. Plot the tree and feature importances "
   ]
  },
  {
   "cell_type": "code",
   "execution_count": 41,
   "metadata": {},
   "outputs": [
    {
     "data": {
      "text/html": [
       "<div>\n",
       "<style scoped>\n",
       "    .dataframe tbody tr th:only-of-type {\n",
       "        vertical-align: middle;\n",
       "    }\n",
       "\n",
       "    .dataframe tbody tr th {\n",
       "        vertical-align: top;\n",
       "    }\n",
       "\n",
       "    .dataframe thead th {\n",
       "        text-align: right;\n",
       "    }\n",
       "</style>\n",
       "<table border=\"1\" class=\"dataframe\">\n",
       "  <thead>\n",
       "    <tr style=\"text-align: right;\">\n",
       "      <th></th>\n",
       "      <th>child_left</th>\n",
       "      <th>child_right</th>\n",
       "      <th>feature</th>\n",
       "      <th>threshold</th>\n",
       "    </tr>\n",
       "  </thead>\n",
       "  <tbody>\n",
       "    <tr>\n",
       "      <th>0</th>\n",
       "      <td>1</td>\n",
       "      <td>4</td>\n",
       "      <td>1</td>\n",
       "      <td>-0.022486</td>\n",
       "    </tr>\n",
       "    <tr>\n",
       "      <th>1</th>\n",
       "      <td>2</td>\n",
       "      <td>3</td>\n",
       "      <td>4</td>\n",
       "      <td>-0.088353</td>\n",
       "    </tr>\n",
       "    <tr>\n",
       "      <th>2</th>\n",
       "      <td>-1</td>\n",
       "      <td>-1</td>\n",
       "      <td>-2</td>\n",
       "      <td>-2.000000</td>\n",
       "    </tr>\n",
       "    <tr>\n",
       "      <th>3</th>\n",
       "      <td>-1</td>\n",
       "      <td>-1</td>\n",
       "      <td>-2</td>\n",
       "      <td>-2.000000</td>\n",
       "    </tr>\n",
       "    <tr>\n",
       "      <th>4</th>\n",
       "      <td>5</td>\n",
       "      <td>6</td>\n",
       "      <td>6</td>\n",
       "      <td>-3.988692</td>\n",
       "    </tr>\n",
       "  </tbody>\n",
       "</table>\n",
       "</div>"
      ],
      "text/plain": [
       "   child_left  child_right  feature  threshold\n",
       "0           1            4        1  -0.022486\n",
       "1           2            3        4  -0.088353\n",
       "2          -1           -1       -2  -2.000000\n",
       "3          -1           -1       -2  -2.000000\n",
       "4           5            6        6  -3.988692"
      ]
     },
     "execution_count": 41,
     "metadata": {},
     "output_type": "execute_result"
    }
   ],
   "source": [
    "n_classes, n_estimators = clf_best.estimators_.shape\n",
    "\n",
    "for c in range(n_classes):\n",
    "    \n",
    "    for t in range(n_estimators):\n",
    "        \n",
    "        dtree = clf_best.estimators_[c, t]\n",
    "        rules_df = pd.DataFrame({\n",
    "            'child_left': dtree.tree_.children_left,\n",
    "            'child_right': dtree.tree_.children_right,\n",
    "            'feature': dtree.tree_.feature,\n",
    "            'threshold': dtree.tree_.threshold,\n",
    "        })\n",
    "rules_df.head()"
   ]
  },
  {
   "cell_type": "markdown",
   "metadata": {},
   "source": [
    "### 6. Out-of-sample GBM testing "
   ]
  },
  {
   "cell_type": "code",
   "execution_count": 42,
   "metadata": {},
   "outputs": [
    {
     "name": "stdout",
     "output_type": "stream",
     "text": [
      "******************************************************* \n",
      "Matthews Correlation (MCC) for 2010Q4 is 0.64\n",
      "******************************************************* \n",
      "Out-of-sample (OOS) Classification Report for 2010Q4:\n",
      "              precision    recall  f1-score   support\n",
      "\n",
      "           0       1.00      1.00      1.00      6779\n",
      "           1       0.47      0.88      0.61        24\n",
      "\n",
      "    accuracy                           1.00      6803\n",
      "   macro avg       0.73      0.94      0.80      6803\n",
      "weighted avg       1.00      1.00      1.00      6803\n",
      " \n",
      "\n",
      "\n",
      "******************************************************* \n",
      "Matthews Correlation (MCC) for 2011Q1 is 0.41\n",
      "******************************************************* \n",
      "Out-of-sample (OOS) Classification Report for 2011Q1:\n",
      "              precision    recall  f1-score   support\n",
      "\n",
      "           0       1.00      0.99      0.99      6713\n",
      "           1       0.18      0.95      0.31        19\n",
      "\n",
      "    accuracy                           0.99      6732\n",
      "   macro avg       0.59      0.97      0.65      6732\n",
      "weighted avg       1.00      0.99      0.99      6732\n",
      " \n",
      "\n",
      "\n",
      "******************************************************* \n",
      "Matthews Correlation (MCC) for 2011Q2 is 0.48\n",
      "******************************************************* \n",
      "Out-of-sample (OOS) Classification Report for 2011Q2:\n",
      "              precision    recall  f1-score   support\n",
      "\n",
      "           0       1.00      0.99      0.99      6663\n",
      "           1       0.26      0.92      0.40        25\n",
      "\n",
      "    accuracy                           0.99      6688\n",
      "   macro avg       0.63      0.95      0.70      6688\n",
      "weighted avg       1.00      0.99      0.99      6688\n",
      " \n",
      "\n",
      "\n",
      "******************************************************* \n",
      "Matthews Correlation (MCC) for 2011Q3 is 0.45\n",
      "******************************************************* \n",
      "Out-of-sample (OOS) Classification Report for 2011Q3:\n",
      "              precision    recall  f1-score   support\n",
      "\n",
      "           0       1.00      0.99      1.00      6611\n",
      "           1       0.25      0.83      0.38        18\n",
      "\n",
      "    accuracy                           0.99      6629\n",
      "   macro avg       0.62      0.91      0.69      6629\n",
      "weighted avg       1.00      0.99      0.99      6629\n",
      " \n",
      "\n",
      "\n",
      "******************************************************* \n",
      "Matthews Correlation (MCC) for 2011Q4 is 0.42\n",
      "******************************************************* \n",
      "Out-of-sample (OOS) Classification Report for 2011Q4:\n",
      "              precision    recall  f1-score   support\n",
      "\n",
      "           0       1.00      0.99      1.00      6582\n",
      "           1       0.21      0.85      0.34        13\n",
      "\n",
      "    accuracy                           0.99      6595\n",
      "   macro avg       0.61      0.92      0.67      6595\n",
      "weighted avg       1.00      0.99      1.00      6595\n",
      " \n",
      "\n",
      "\n",
      "******************************************************* \n",
      "Matthews Correlation (MCC) for 2012Q1 is 0.42\n",
      "******************************************************* \n",
      "Out-of-sample (OOS) Classification Report for 2012Q1:\n",
      "              precision    recall  f1-score   support\n",
      "\n",
      "           0       1.00      0.99      1.00      7160\n",
      "           1       0.19      0.93      0.31        15\n",
      "\n",
      "    accuracy                           0.99      7175\n",
      "   macro avg       0.59      0.96      0.65      7175\n",
      "weighted avg       1.00      0.99      0.99      7175\n",
      " \n",
      "\n",
      "\n",
      "******************************************************* \n",
      "Matthews Correlation (MCC) for 2012Q2 is 0.44\n",
      "******************************************************* \n",
      "Out-of-sample (OOS) Classification Report for 2012Q2:\n",
      "              precision    recall  f1-score   support\n",
      "\n",
      "           0       1.00      0.99      1.00      7097\n",
      "           1       0.19      1.00      0.32        12\n",
      "\n",
      "    accuracy                           0.99      7109\n",
      "   macro avg       0.60      1.00      0.66      7109\n",
      "weighted avg       1.00      0.99      1.00      7109\n",
      " \n",
      "\n",
      "\n",
      "******************************************************* \n",
      "Matthews Correlation (MCC) for 2012Q3 is 0.45\n",
      "******************************************************* \n",
      "Out-of-sample (OOS) Classification Report for 2012Q3:\n",
      "              precision    recall  f1-score   support\n",
      "\n",
      "           0       1.00      1.00      1.00      7033\n",
      "           1       0.21      1.00      0.34         8\n",
      "\n",
      "    accuracy                           1.00      7041\n",
      "   macro avg       0.60      1.00      0.67      7041\n",
      "weighted avg       1.00      1.00      1.00      7041\n",
      " \n",
      "\n",
      "\n",
      "******************************************************* \n",
      "Matthews Correlation (MCC) for 2012Q4 is 0.33\n",
      "******************************************************* \n",
      "Out-of-sample (OOS) Classification Report for 2012Q4:\n",
      "              precision    recall  f1-score   support\n",
      "\n",
      "           0       1.00      1.00      1.00      6935\n",
      "           1       0.11      1.00      0.20         4\n",
      "\n",
      "    accuracy                           1.00      6939\n",
      "   macro avg       0.56      1.00      0.60      6939\n",
      "weighted avg       1.00      1.00      1.00      6939\n",
      " \n",
      "\n",
      "\n",
      "******************************************************* \n",
      "Matthews Correlation (MCC) for 2019Q2 is -0.0\n",
      "******************************************************* \n",
      "Out-of-sample (OOS) Classification Report for 2019Q2:\n",
      "              precision    recall  f1-score   support\n",
      "\n",
      "           0       1.00      1.00      1.00      5193\n",
      "           1       0.00      0.00      0.00         1\n",
      "\n",
      "    accuracy                           1.00      5194\n",
      "   macro avg       0.50      0.50      0.50      5194\n",
      "weighted avg       1.00      1.00      1.00      5194\n",
      " \n",
      "\n",
      "\n"
     ]
    }
   ],
   "source": [
    "pd.set_option('use_inf_as_na', True)\n",
    "\n",
    "oos_reports = ['2010Q4', '2011Q1', '2011Q2', '2011Q3', '2011Q4', '2012Q1', '2012Q2', \n",
    "               '2012Q3', '2012Q4', '2019Q2']\n",
    "\n",
    "for report in oos_reports:\n",
    "    \n",
    "    oos_df = pd.read_csv('oos/camel_data_after{}_OOS.csv'.format(report))\n",
    "    oos_df.replace([np.inf, -np.inf], np.nan)\n",
    "    oos_df.dropna(inplace=True)\n",
    "    \n",
    "    y_oos = oos_df['Target']\n",
    "    X_oos = oos_df[['EQTA', 'EQTL', 'LLRTA', 'LLRGL', 'OEXTA', 'INCEMP', 'ROA', 'ROE', \n",
    "                    'TDTL', 'TDTA', 'TATA']].copy()\n",
    "    X_oos_scaled = X_scaler.transform(X_oos) \n",
    "    \n",
    "    predictions_oos = clf_best.predict(X_oos_scaled)\n",
    "    mcc = np.round(matthews_corrcoef(y_oos, predictions_oos), 2)\n",
    "    \n",
    "    # Generate out-of-sample MCC and classification report \n",
    "    print(\"*\" * 55, \"\\nMatthews Correlation (MCC) for {} is {}\".format(report, mcc))\n",
    "    print(\"*\" * 55,\"\\nOut-of-sample (OOS) Classification Report for {}:\".format(report))\n",
    "    print(classification_report(y_oos, predictions_oos), \"\\n\\n\")\n",
    "   \n",
    "  "
   ]
  },
  {
   "cell_type": "code",
   "execution_count": null,
   "metadata": {},
   "outputs": [],
   "source": []
  }
 ],
 "metadata": {
  "kernelspec": {
   "display_name": "Python 3",
   "language": "python",
   "name": "python3"
  },
  "language_info": {
   "codemirror_mode": {
    "name": "ipython",
    "version": 3
   },
   "file_extension": ".py",
   "mimetype": "text/x-python",
   "name": "python",
   "nbconvert_exporter": "python",
   "pygments_lexer": "ipython3",
   "version": "3.8.3"
  }
 },
 "nbformat": 4,
 "nbformat_minor": 4
}
