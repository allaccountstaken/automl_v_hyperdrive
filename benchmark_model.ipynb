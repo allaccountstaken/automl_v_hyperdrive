{
 "cells": [
  {
   "cell_type": "markdown",
   "metadata": {},
   "source": [
    "Notes: MCC vs Accuracy, source: https://towardsdatascience.com/the-best-classification-metric-youve-never-heard-of-the-matthews-correlation-coefficient-3bf50a2f3e9a\n",
    "\n",
    "    TODO: Intro Para on data for training and testing \n",
    "    TODO: Explain CAMELS ratios\n",
    "    TODO: Explain MCC and why it is important for imbalanced samples like this one\n",
    "    TODO: Add timer to the Grid Search \n",
    "    TODO: Plot the tree and/or feature importances"
   ]
  },
  {
   "cell_type": "code",
   "execution_count": 1,
   "metadata": {},
   "outputs": [],
   "source": [
    "import pandas as pd\n",
    "import numpy as np\n",
    "import matplotlib.pyplot as plt \n",
    "from sklearn.preprocessing import StandardScaler\n",
    "from sklearn.model_selection import train_test_split, cross_val_predict, validation_curve, GridSearchCV\n",
    "from sklearn.metrics import confusion_matrix, accuracy_score, classification_report, precision_recall_curve \n",
    "from sklearn.metrics import precision_recall_curve, roc_curve, matthews_corrcoef\n",
    "from sklearn.ensemble import GradientBoostingClassifier\n",
    "%matplotlib inline\n",
    "# Needed for decision tree visualization\n",
    "import pydotplus\n",
    "from IPython.display import Image"
   ]
  },
  {
   "cell_type": "markdown",
   "metadata": {},
   "source": [
    "### 1. Preprocessing"
   ]
  },
  {
   "cell_type": "code",
   "execution_count": 2,
   "metadata": {},
   "outputs": [],
   "source": [
    "file_path = \"data/camel_data_after2010Q3.csv\"\n",
    "banks_df = pd.read_csv(file_path, index_col=0)"
   ]
  },
  {
   "cell_type": "markdown",
   "metadata": {},
   "source": [
    "Check if there are any missing values and drop `null`"
   ]
  },
  {
   "cell_type": "code",
   "execution_count": 3,
   "metadata": {},
   "outputs": [],
   "source": [
    "banks_df.dropna(inplace=True)"
   ]
  },
  {
   "cell_type": "markdown",
   "metadata": {},
   "source": [
    "Show the features of failed banks (Target of 1) and count them"
   ]
  },
  {
   "cell_type": "code",
   "execution_count": 4,
   "metadata": {},
   "outputs": [
    {
     "data": {
      "text/plain": [
       "AsOfDate    137\n",
       "Target      137\n",
       "EQTA        137\n",
       "EQTL        137\n",
       "LLRTA       137\n",
       "LLRGL       137\n",
       "OEXTA       137\n",
       "INCEMP      137\n",
       "ROA         137\n",
       "ROE         137\n",
       "TDTL        137\n",
       "TDTA        137\n",
       "TATA        137\n",
       "dtype: int64"
      ]
     },
     "execution_count": 4,
     "metadata": {},
     "output_type": "execute_result"
    }
   ],
   "source": [
    "banks_df.loc[banks_df.Target == 1].count()"
   ]
  },
  {
   "cell_type": "markdown",
   "metadata": {},
   "source": [
    "Take a copy of predictors and store in X, count all instances available."
   ]
  },
  {
   "cell_type": "code",
   "execution_count": 5,
   "metadata": {},
   "outputs": [
    {
     "data": {
      "text/plain": [
       "7014"
      ]
     },
     "execution_count": 5,
     "metadata": {},
     "output_type": "execute_result"
    }
   ],
   "source": [
    "X = banks_df[['EQTA', 'EQTL', 'LLRTA', 'LLRGL', 'OEXTA', 'INCEMP', 'ROA', 'ROE', 'TDTL', 'TDTA', 'TATA']].copy()\n",
    "len(X)"
   ]
  },
  {
   "cell_type": "markdown",
   "metadata": {},
   "source": [
    "Define the target vector y and reshape it as well."
   ]
  },
  {
   "cell_type": "code",
   "execution_count": 6,
   "metadata": {},
   "outputs": [],
   "source": [
    "y = banks_df[\"Target\"].values.reshape(-1, 1)"
   ]
  },
  {
   "cell_type": "markdown",
   "metadata": {},
   "source": [
    "### 2. Developing basic GBM "
   ]
  },
  {
   "cell_type": "markdown",
   "metadata": {},
   "source": [
    "First train/test split, note `random_state=123` for the auditing purposes."
   ]
  },
  {
   "cell_type": "code",
   "execution_count": 7,
   "metadata": {},
   "outputs": [],
   "source": [
    "X_train, X_test, y_train, y_test = train_test_split(X, y, random_state=123)"
   ]
  },
  {
   "cell_type": "markdown",
   "metadata": {},
   "source": [
    "Creating `StandardScaler` object and fitting, i.e. removing the mean and scaling to unit variance."
   ]
  },
  {
   "cell_type": "code",
   "execution_count": 8,
   "metadata": {},
   "outputs": [],
   "source": [
    "scaler = StandardScaler()\n",
    "X_scaler = scaler.fit(X_train)"
   ]
  },
  {
   "cell_type": "markdown",
   "metadata": {},
   "source": [
    "Transforming training and testing features data using the fitted scaler."
   ]
  },
  {
   "cell_type": "code",
   "execution_count": 9,
   "metadata": {},
   "outputs": [],
   "source": [
    "X_train_scaled = X_scaler.transform(X_train)\n",
    "X_test_scaled = X_scaler.transform(X_test)"
   ]
  },
  {
   "cell_type": "markdown",
   "metadata": {},
   "source": [
    "Preparing for validation: define functions to plot Precision/Recall and ROC/AUC."
   ]
  },
  {
   "cell_type": "markdown",
   "metadata": {},
   "source": [
    "### 3. Discovering best parameters with `GridSearch`"
   ]
  },
  {
   "cell_type": "code",
   "execution_count": 80,
   "metadata": {},
   "outputs": [
    {
     "data": {
      "text/plain": [
       "{'learning_rate': 0.05, 'max_depth': 2, 'max_features': 5, 'n_estimators': 50}"
      ]
     },
     "execution_count": 80,
     "metadata": {},
     "output_type": "execute_result"
    }
   ],
   "source": [
    "param_grid = {'learning_rate': [0.05, 0.1, 0.2, 0.5, 0.7, 0.8, 1], \n",
    "             \"n_estimators\" : [10, 30, 50],\n",
    "              \"max_features\": [2, 3, 4, 5],\n",
    "              \"max_depth\" : [2, 3, 4]} \n",
    "\n",
    "grid = GridSearchCV(GradientBoostingClassifier(), param_grid, cv=7)\n",
    "grid.fit(X, y.ravel());\n",
    "\n",
    "grid.best_params_"
   ]
  },
  {
   "cell_type": "markdown",
   "metadata": {},
   "source": [
    "### 4. Evaluating the best GBM model"
   ]
  },
  {
   "cell_type": "code",
   "execution_count": 10,
   "metadata": {},
   "outputs": [
    {
     "name": "stdout",
     "output_type": "stream",
     "text": [
      "Testing accuracy: 0.98803\n"
     ]
    },
    {
     "data": {
      "text/html": [
       "<div>\n",
       "<style scoped>\n",
       "    .dataframe tbody tr th:only-of-type {\n",
       "        vertical-align: middle;\n",
       "    }\n",
       "\n",
       "    .dataframe tbody tr th {\n",
       "        vertical-align: top;\n",
       "    }\n",
       "\n",
       "    .dataframe thead th {\n",
       "        text-align: right;\n",
       "    }\n",
       "</style>\n",
       "<table border=\"1\" class=\"dataframe\">\n",
       "  <thead>\n",
       "    <tr style=\"text-align: right;\">\n",
       "      <th></th>\n",
       "      <th>Prediction</th>\n",
       "      <th>Actual</th>\n",
       "    </tr>\n",
       "  </thead>\n",
       "  <tbody>\n",
       "    <tr>\n",
       "      <th>0</th>\n",
       "      <td>0</td>\n",
       "      <td>0</td>\n",
       "    </tr>\n",
       "    <tr>\n",
       "      <th>1</th>\n",
       "      <td>0</td>\n",
       "      <td>0</td>\n",
       "    </tr>\n",
       "    <tr>\n",
       "      <th>2</th>\n",
       "      <td>0</td>\n",
       "      <td>0</td>\n",
       "    </tr>\n",
       "    <tr>\n",
       "      <th>3</th>\n",
       "      <td>0</td>\n",
       "      <td>0</td>\n",
       "    </tr>\n",
       "    <tr>\n",
       "      <th>4</th>\n",
       "      <td>0</td>\n",
       "      <td>0</td>\n",
       "    </tr>\n",
       "  </tbody>\n",
       "</table>\n",
       "</div>"
      ],
      "text/plain": [
       "   Prediction  Actual\n",
       "0           0       0\n",
       "1           0       0\n",
       "2           0       0\n",
       "3           0       0\n",
       "4           0       0"
      ]
     },
     "execution_count": 10,
     "metadata": {},
     "output_type": "execute_result"
    }
   ],
   "source": [
    "clf_best = GradientBoostingClassifier(n_estimators=50,\n",
    "                                     learning_rate=0.05,\n",
    "                                     max_features=5,\n",
    "                                     max_depth=2,\n",
    "                                     random_state=123)\n",
    "\n",
    "clf_best.fit(X_train_scaled, y_train.ravel())\n",
    "predictions = clf_best.predict(X_test_scaled)\n",
    "print(\"Testing accuracy: {0:.5f}\".format(accuracy_score(predictions, y_test)))\n",
    "pd.DataFrame({\"Prediction\": predictions, \"Actual\": y_test.ravel()}).head(5)"
   ]
  },
  {
   "cell_type": "markdown",
   "metadata": {},
   "source": [
    "Plot precision and recall trade-off over thresholds"
   ]
  },
  {
   "cell_type": "code",
   "execution_count": 11,
   "metadata": {},
   "outputs": [
    {
     "name": "stdout",
     "output_type": "stream",
     "text": [
      "Average precision-recall score: 0.66\n"
     ]
    },
    {
     "data": {
      "text/plain": [
       "Text(0.5, 1.0, '2-class Precision-Recall curve: Avg. Precision=0.66')"
      ]
     },
     "execution_count": 11,
     "metadata": {},
     "output_type": "execute_result"
    },
    {
     "data": {
      "image/png": "[encoded data removed]",
      "text/plain": [
       "<Figure size 432x288 with 1 Axes>"
      ]
     },
     "metadata": {
      "needs_background": "light"
     },
     "output_type": "display_data"
    }
   ],
   "source": [
    "y_score = clf_best.decision_function(X_test_scaled)\n",
    "\n",
    "from sklearn.metrics import average_precision_score\n",
    "average_precision = average_precision_score(y_test, y_score)\n",
    "\n",
    "print('Average precision-recall score: {0:0.2f}'.format(\n",
    "      average_precision))\n",
    "\n",
    "from sklearn.metrics import plot_precision_recall_curve\n",
    "import matplotlib.pyplot as plt\n",
    "\n",
    "disp = plot_precision_recall_curve(clf_best, X_test_scaled, y_test)\n",
    "disp.ax_.set_title('2-class Precision-Recall curve: '\n",
    "                   'Avg. Precision={0:0.2f}'.format(average_precision))"
   ]
  },
  {
   "cell_type": "code",
   "execution_count": 24,
   "metadata": {},
   "outputs": [
    {
     "data": {
      "image/png": "[encoded data removed]",
      "text/plain": [
       "<Figure size 432x288 with 1 Axes>"
      ]
     },
     "metadata": {
      "needs_background": "light"
     },
     "output_type": "display_data"
    }
   ],
   "source": [
    "from sklearn.metrics import plot_roc_curve\n",
    "clf_best_disp = plot_roc_curve(clf_best, X_test_scaled, y_test)\n",
    "clf_best_disp.plot(ax=ax, alpha=0.8)\n",
    "plt.show()\n"
   ]
  },
  {
   "cell_type": "markdown",
   "metadata": {},
   "source": [
    "Generate the confusion matrix"
   ]
  },
  {
   "cell_type": "code",
   "execution_count": 25,
   "metadata": {},
   "outputs": [
    {
     "data": {
      "text/html": [
       "<div>\n",
       "<style scoped>\n",
       "    .dataframe tbody tr th:only-of-type {\n",
       "        vertical-align: middle;\n",
       "    }\n",
       "\n",
       "    .dataframe tbody tr th {\n",
       "        vertical-align: top;\n",
       "    }\n",
       "\n",
       "    .dataframe thead th {\n",
       "        text-align: right;\n",
       "    }\n",
       "</style>\n",
       "<table border=\"1\" class=\"dataframe\">\n",
       "  <thead>\n",
       "    <tr style=\"text-align: right;\">\n",
       "      <th></th>\n",
       "      <th>Actual 1</th>\n",
       "      <th>Actual 0</th>\n",
       "    </tr>\n",
       "  </thead>\n",
       "  <tbody>\n",
       "    <tr>\n",
       "      <th>Pred 0</th>\n",
       "      <td>1712</td>\n",
       "      <td>13</td>\n",
       "    </tr>\n",
       "    <tr>\n",
       "      <th>Pred 1</th>\n",
       "      <td>8</td>\n",
       "      <td>21</td>\n",
       "    </tr>\n",
       "  </tbody>\n",
       "</table>\n",
       "</div>"
      ],
      "text/plain": [
       "        Actual 1  Actual 0\n",
       "Pred 0      1712        13\n",
       "Pred 1         8        21"
      ]
     },
     "execution_count": 25,
     "metadata": {},
     "output_type": "execute_result"
    }
   ],
   "source": [
    "pd.DataFrame(confusion_matrix(y_test, predictions), index=[\"Pred 0\", \"Pred 1\"], \n",
    "             columns=[\"Actual 1\", \"Actual 0\"])"
   ]
  },
  {
   "cell_type": "markdown",
   "metadata": {},
   "source": [
    "Compute Matthews correlation (MCC)"
   ]
  },
  {
   "cell_type": "code",
   "execution_count": 26,
   "metadata": {},
   "outputs": [
    {
     "name": "stdout",
     "output_type": "stream",
     "text": [
      "Matthews Correlation is 0.663\n"
     ]
    }
   ],
   "source": [
    "matthews_corrcoef(y_test, predictions)\n",
    "print(\"Matthews Correlation is {0:.3f}\".format(matthews_corrcoef(y_test, predictions)))"
   ]
  },
  {
   "cell_type": "markdown",
   "metadata": {},
   "source": [
    "Generate classification report"
   ]
  },
  {
   "cell_type": "code",
   "execution_count": 27,
   "metadata": {},
   "outputs": [
    {
     "name": "stdout",
     "output_type": "stream",
     "text": [
      "In-Sample Classification Report\n",
      "              precision    recall  f1-score   support\n",
      "\n",
      "           0       1.00      0.99      0.99      1725\n",
      "           1       0.62      0.72      0.67        29\n",
      "\n",
      "    accuracy                           0.99      1754\n",
      "   macro avg       0.81      0.86      0.83      1754\n",
      "weighted avg       0.99      0.99      0.99      1754\n",
      "\n"
     ]
    }
   ],
   "source": [
    "print(\"In-Sample Classification Report\")\n",
    "print(classification_report(y_test, predictions))"
   ]
  },
  {
   "cell_type": "markdown",
   "metadata": {},
   "source": [
    "Extracting rules that were learned in training"
   ]
  },
  {
   "cell_type": "markdown",
   "metadata": {},
   "source": [
    "### 5. Plot the tree and feature importances "
   ]
  },
  {
   "cell_type": "code",
   "execution_count": 28,
   "metadata": {},
   "outputs": [
    {
     "name": "stdout",
     "output_type": "stream",
     "text": [
      "class=0, tree=0: <sklearn.tree._tree.Tree object at 0x7fd5b2f4d5e0>\n",
      "   child_left  child_right  feature  threshold\n",
      "0           1            4        7  -0.106241\n",
      "1           2            3        1  -0.022965\n",
      "2          -1           -1       -2  -2.000000\n",
      "3          -1           -1       -2  -2.000000\n",
      "4           5            6        0  -1.854326\n",
      "5          -1           -1       -2  -2.000000\n",
      "6          -1           -1       -2  -2.000000\n",
      "class=1, tree=0: <sklearn.tree._tree.Tree object at 0x7fd5b2f4d730>\n",
      "   child_left  child_right  feature  threshold\n",
      "0           1            4        0  -1.602776\n",
      "1           2            3        4  -0.252550\n",
      "2          -1           -1       -2  -2.000000\n",
      "3          -1           -1       -2  -2.000000\n",
      "4           5            6        0  -1.311529\n",
      "5          -1           -1       -2  -2.000000\n",
      "6          -1           -1       -2  -2.000000\n",
      "class=2, tree=0: <sklearn.tree._tree.Tree object at 0x7fd5b2f4d3b0>\n",
      "   child_left  child_right  feature  threshold\n",
      "0           1            4        0  -1.602776\n",
      "1           2            3        0  -2.062780\n",
      "2          -1           -1       -2  -2.000000\n",
      "3          -1           -1       -2  -2.000000\n",
      "4           5            6        0  -1.311529\n",
      "5          -1           -1       -2  -2.000000\n",
      "6          -1           -1       -2  -2.000000\n",
      "class=3, tree=0: <sklearn.tree._tree.Tree object at 0x7fd5b2f4d810>\n",
      "   child_left  child_right  feature  threshold\n",
      "0           1            4        7  -0.106241\n",
      "1           2            3        1  -0.023438\n",
      "2          -1           -1       -2  -2.000000\n",
      "3          -1           -1       -2  -2.000000\n",
      "4           5            6        3   0.297478\n",
      "5          -1           -1       -2  -2.000000\n",
      "6          -1           -1       -2  -2.000000\n",
      "class=4, tree=0: <sklearn.tree._tree.Tree object at 0x7fd5b2f4d880>\n",
      "   child_left  child_right  feature  threshold\n",
      "0           1            4        9   1.332867\n",
      "1           2            3        0  -1.602776\n",
      "2          -1           -1       -2  -2.000000\n",
      "3          -1           -1       -2  -2.000000\n",
      "4           5            6        0  -1.699721\n",
      "5          -1           -1       -2  -2.000000\n",
      "6          -1           -1       -2  -2.000000\n",
      "class=5, tree=0: <sklearn.tree._tree.Tree object at 0x7fd5b2f4d8f0>\n",
      "   child_left  child_right  feature  threshold\n",
      "0           1            4        7  -0.106241\n",
      "1           2            3        0  -2.106048\n",
      "2          -1           -1       -2  -2.000000\n",
      "3          -1           -1       -2  -2.000000\n",
      "4           5            6        0  -1.602776\n",
      "5          -1           -1       -2  -2.000000\n",
      "6          -1           -1       -2  -2.000000\n",
      "class=6, tree=0: <sklearn.tree._tree.Tree object at 0x7fd5b2f4d960>\n",
      "   child_left  child_right  feature  threshold\n",
      "0           1            4        1  -0.022964\n",
      "1           2            3        4  -0.252550\n",
      "2          -1           -1       -2  -2.000000\n",
      "3          -1           -1       -2  -2.000000\n",
      "4           5            6        1  -0.022486\n",
      "5          -1           -1       -2  -2.000000\n",
      "6          -1           -1       -2  -2.000000\n",
      "class=7, tree=0: <sklearn.tree._tree.Tree object at 0x7fd5b2f4dc00>\n",
      "   child_left  child_right  feature  threshold\n",
      "0           1            4        6  -2.662495\n",
      "1           2            3        0  -1.564881\n",
      "2          -1           -1       -2  -2.000000\n",
      "3          -1           -1       -2  -2.000000\n",
      "4           5            6        1  -0.023006\n",
      "5          -1           -1       -2  -2.000000\n",
      "6          -1           -1       -2  -2.000000\n",
      "class=8, tree=0: <sklearn.tree._tree.Tree object at 0x7fd5b2f4dc70>\n",
      "   child_left  child_right  feature  threshold\n",
      "0           1            4        0  -1.602776\n",
      "1           2            3        1  -0.022996\n",
      "2          -1           -1       -2  -2.000000\n",
      "3          -1           -1       -2  -2.000000\n",
      "4           5            6        1  -0.022486\n",
      "5          -1           -1       -2  -2.000000\n",
      "6          -1           -1       -2  -2.000000\n",
      "class=9, tree=0: <sklearn.tree._tree.Tree object at 0x7fd5b2f4dce0>\n",
      "   child_left  child_right  feature  threshold\n",
      "0           1            4        1  -0.022964\n",
      "1           2            3        6  -1.379250\n",
      "2          -1           -1       -2  -2.000000\n",
      "3          -1           -1       -2  -2.000000\n",
      "4           5            6        6  -3.957395\n",
      "5          -1           -1       -2  -2.000000\n",
      "6          -1           -1       -2  -2.000000\n",
      "class=10, tree=0: <sklearn.tree._tree.Tree object at 0x7fd5b2f4dd50>\n",
      "   child_left  child_right  feature  threshold\n",
      "0           1            4        0  -1.602776\n",
      "1           2            3        4  -0.252550\n",
      "2          -1           -1       -2  -2.000000\n",
      "3          -1           -1       -2  -2.000000\n",
      "4           5            6        9   1.565012\n",
      "5          -1           -1       -2  -2.000000\n",
      "6          -1           -1       -2  -2.000000\n",
      "class=11, tree=0: <sklearn.tree._tree.Tree object at 0x7fd5b2f4ddc0>\n",
      "   child_left  child_right  feature  threshold\n",
      "0           1            4        1  -0.022964\n",
      "1           2            3        4  -0.252550\n",
      "2          -1           -1       -2  -2.000000\n",
      "3          -1           -1       -2  -2.000000\n",
      "4           5            6        1  -0.022486\n",
      "5          -1           -1       -2  -2.000000\n",
      "6          -1           -1       -2  -2.000000\n",
      "class=12, tree=0: <sklearn.tree._tree.Tree object at 0x7fd5b2f4de30>\n",
      "   child_left  child_right  feature  threshold\n",
      "0           1            4        9   1.332867\n",
      "1           2            3        2   1.888524\n",
      "2          -1           -1       -2  -2.000000\n",
      "3          -1           -1       -2  -2.000000\n",
      "4           5            6        1  -0.022996\n",
      "5          -1           -1       -2  -2.000000\n",
      "6          -1           -1       -2  -2.000000\n",
      "class=13, tree=0: <sklearn.tree._tree.Tree object at 0x7fd5b2f4dea0>\n",
      "   child_left  child_right  feature  threshold\n",
      "0           1            4        7  -0.093641\n",
      "1           2            3        1  -0.023438\n",
      "2          -1           -1       -2  -2.000000\n",
      "3          -1           -1       -2  -2.000000\n",
      "4           5            6        1  -0.022997\n",
      "5          -1           -1       -2  -2.000000\n",
      "6          -1           -1       -2  -2.000000\n",
      "class=14, tree=0: <sklearn.tree._tree.Tree object at 0x7fd5b2f4df10>\n",
      "   child_left  child_right  feature  threshold\n",
      "0           1            4        0  -1.602776\n",
      "1           2            3        4  -0.252550\n",
      "2          -1           -1       -2  -2.000000\n",
      "3          -1           -1       -2  -2.000000\n",
      "4           5            6        1  -0.022486\n",
      "5          -1           -1       -2  -2.000000\n",
      "6          -1           -1       -2  -2.000000\n",
      "class=15, tree=0: <sklearn.tree._tree.Tree object at 0x7fd5b2f4df80>\n",
      "   child_left  child_right  feature  threshold\n",
      "0           1            4        1  -0.022964\n",
      "1           2            3        4  -0.252550\n",
      "2          -1           -1       -2  -2.000000\n",
      "3          -1           -1       -2  -2.000000\n",
      "4           5            6        1  -0.022486\n",
      "5          -1           -1       -2  -2.000000\n",
      "6          -1           -1       -2  -2.000000\n",
      "class=16, tree=0: <sklearn.tree._tree.Tree object at 0x7fd5b2f6c030>\n",
      "   child_left  child_right  feature  threshold\n",
      "0           1            4        0  -1.602776\n",
      "1           2            3        4  -0.252550\n",
      "2          -1           -1       -2  -2.000000\n",
      "3          -1           -1       -2  -2.000000\n",
      "4           5            6        1  -0.022486\n",
      "5          -1           -1       -2  -2.000000\n",
      "6          -1           -1       -2  -2.000000\n",
      "class=17, tree=0: <sklearn.tree._tree.Tree object at 0x7fd5b2f6c0a0>\n",
      "   child_left  child_right  feature  threshold\n",
      "0           1            4        5  -0.321275\n",
      "1           2            3        0  -1.640625\n",
      "2          -1           -1       -2  -2.000000\n",
      "3          -1           -1       -2  -2.000000\n",
      "4           5            6        1  -0.022997\n",
      "5          -1           -1       -2  -2.000000\n",
      "6          -1           -1       -2  -2.000000\n",
      "class=18, tree=0: <sklearn.tree._tree.Tree object at 0x7fd5b2f6c110>\n",
      "   child_left  child_right  feature  threshold\n",
      "0           1            4        0  -1.602776\n",
      "1           2            3        8  -0.014225\n",
      "2          -1           -1       -2  -2.000000\n",
      "3          -1           -1       -2  -2.000000\n",
      "4           5            6        1  -0.022486\n",
      "5          -1           -1       -2  -2.000000\n",
      "6          -1           -1       -2  -2.000000\n",
      "class=19, tree=0: <sklearn.tree._tree.Tree object at 0x7fd5b2f6c180>\n",
      "   child_left  child_right  feature  threshold\n",
      "0           1            4        0  -1.602776\n",
      "1           2            3        4  -0.252550\n",
      "2          -1           -1       -2  -2.000000\n",
      "3          -1           -1       -2  -2.000000\n",
      "4           5            6        0  -1.311529\n",
      "5          -1           -1       -2  -2.000000\n",
      "6          -1           -1       -2  -2.000000\n",
      "class=20, tree=0: <sklearn.tree._tree.Tree object at 0x7fd5b2f6c1f0>\n",
      "   child_left  child_right  feature  threshold\n",
      "0           1            4        1  -0.022964\n",
      "1           2            3        6  -0.371602\n",
      "2          -1           -1       -2  -2.000000\n",
      "3          -1           -1       -2  -2.000000\n",
      "4           5            6        2   1.972928\n",
      "5          -1           -1       -2  -2.000000\n",
      "6          -1           -1       -2  -2.000000\n",
      "class=21, tree=0: <sklearn.tree._tree.Tree object at 0x7fd5b2f6c260>\n",
      "   child_left  child_right  feature  threshold\n",
      "0           1            4        0  -1.602776\n",
      "1           2            3        5  -0.120657\n",
      "2          -1           -1       -2  -2.000000\n",
      "3          -1           -1       -2  -2.000000\n",
      "4           5            6        1  -0.022486\n",
      "5          -1           -1       -2  -2.000000\n",
      "6          -1           -1       -2  -2.000000\n",
      "class=22, tree=0: <sklearn.tree._tree.Tree object at 0x7fd5b2f6c2d0>\n",
      "   child_left  child_right  feature  threshold\n",
      "0           1            4        9   1.332867\n",
      "1           2            3        1  -0.022960\n",
      "2          -1           -1       -2  -2.000000\n",
      "3          -1           -1       -2  -2.000000\n",
      "4           5            6        1  -0.022996\n",
      "5          -1           -1       -2  -2.000000\n",
      "6          -1           -1       -2  -2.000000\n",
      "class=23, tree=0: <sklearn.tree._tree.Tree object at 0x7fd5b2f6c340>\n",
      "   child_left  child_right  feature  threshold\n",
      "0           1            4        7  -0.149156\n",
      "1           2            3        0  -2.106048\n",
      "2          -1           -1       -2  -2.000000\n",
      "3          -1           -1       -2  -2.000000\n",
      "4           5            6        1  -0.022964\n",
      "5          -1           -1       -2  -2.000000\n",
      "6          -1           -1       -2  -2.000000\n",
      "class=24, tree=0: <sklearn.tree._tree.Tree object at 0x7fd5b2f6c3b0>\n",
      "   child_left  child_right  feature  threshold\n",
      "0           1            4        0  -1.391730\n",
      "1           2            3        6  -0.371602\n",
      "2          -1           -1       -2  -2.000000\n",
      "3          -1           -1       -2  -2.000000\n",
      "4           5            6        5  -0.572634\n",
      "5          -1           -1       -2  -2.000000\n",
      "6          -1           -1       -2  -2.000000\n",
      "class=25, tree=0: <sklearn.tree._tree.Tree object at 0x7fd5b2f6c420>\n",
      "   child_left  child_right  feature  threshold\n",
      "0           1            4        7  -0.149156\n",
      "1           2            3        1  -0.023438\n",
      "2          -1           -1       -2  -2.000000\n",
      "3          -1           -1       -2  -2.000000\n",
      "4           5            6        1  -0.022964\n",
      "5          -1           -1       -2  -2.000000\n",
      "6          -1           -1       -2  -2.000000\n",
      "class=26, tree=0: <sklearn.tree._tree.Tree object at 0x7fd5b2f6c490>\n",
      "   child_left  child_right  feature  threshold\n",
      "0           1            4        0  -1.391730\n",
      "1           2            3        4  -0.300389\n",
      "2          -1           -1       -2  -2.000000\n",
      "3          -1           -1       -2  -2.000000\n",
      "4           5            6        1  -0.022486\n",
      "5          -1           -1       -2  -2.000000\n",
      "6          -1           -1       -2  -2.000000\n",
      "class=27, tree=0: <sklearn.tree._tree.Tree object at 0x7fd5b2f6c500>\n",
      "   child_left  child_right  feature  threshold\n",
      "0           1            4        1  -0.022964\n",
      "1           2            3        9  -0.623941\n",
      "2          -1           -1       -2  -2.000000\n",
      "3          -1           -1       -2  -2.000000\n",
      "4           5            6        6  -3.957395\n",
      "5          -1           -1       -2  -2.000000\n",
      "6          -1           -1       -2  -2.000000\n",
      "class=28, tree=0: <sklearn.tree._tree.Tree object at 0x7fd5b2f6c570>\n",
      "   child_left  child_right  feature  threshold\n",
      "0           1            4        0  -1.391730\n",
      "1           2            3        4  -0.300389\n",
      "2          -1           -1       -2  -2.000000\n",
      "3          -1           -1       -2  -2.000000\n",
      "4           5            6        6  -3.957395\n",
      "5          -1           -1       -2  -2.000000\n",
      "6          -1           -1       -2  -2.000000\n",
      "class=29, tree=0: <sklearn.tree._tree.Tree object at 0x7fd5b2f6c5e0>\n",
      "   child_left  child_right  feature  threshold\n",
      "0           1            4        1  -0.022964\n",
      "1           2            3        4  -0.252550\n",
      "2          -1           -1       -2  -2.000000\n",
      "3          -1           -1       -2  -2.000000\n",
      "4           5            6        3   0.329181\n",
      "5          -1           -1       -2  -2.000000\n",
      "6          -1           -1       -2  -2.000000\n",
      "class=30, tree=0: <sklearn.tree._tree.Tree object at 0x7fd5b2f6c650>\n",
      "   child_left  child_right  feature  threshold\n",
      "0           1            4        2   1.192752\n",
      "1           2            3        1  -0.023475\n",
      "2          -1           -1       -2  -2.000000\n",
      "3          -1           -1       -2  -2.000000\n",
      "4           5            6        0  -1.539349\n",
      "5          -1           -1       -2  -2.000000\n",
      "6          -1           -1       -2  -2.000000\n",
      "class=31, tree=0: <sklearn.tree._tree.Tree object at 0x7fd5b2f6c6c0>\n",
      "   child_left  child_right  feature  threshold\n",
      "0           1            4        1  -0.022964\n",
      "1           2            3        9  -0.623941\n",
      "2          -1           -1       -2  -2.000000\n",
      "3          -1           -1       -2  -2.000000\n",
      "4           5            6        0  -1.056398\n",
      "5          -1           -1       -2  -2.000000\n",
      "6          -1           -1       -2  -2.000000\n",
      "class=32, tree=0: <sklearn.tree._tree.Tree object at 0x7fd5b2f6c730>\n",
      "   child_left  child_right  feature  threshold\n",
      "0           1            4        0  -1.391730\n",
      "1           2            3        9  -0.623941\n",
      "2          -1           -1       -2  -2.000000\n",
      "3          -1           -1       -2  -2.000000\n",
      "4           5            6        1  -0.022486\n",
      "5          -1           -1       -2  -2.000000\n",
      "6          -1           -1       -2  -2.000000\n",
      "class=33, tree=0: <sklearn.tree._tree.Tree object at 0x7fd5b2f6c7a0>\n",
      "   child_left  child_right  feature  threshold\n",
      "0           1            4        1  -0.022964\n",
      "1           2            3        9  -0.623941\n",
      "2          -1           -1       -2  -2.000000\n",
      "3          -1           -1       -2  -2.000000\n",
      "4           5            6        6  -3.957395\n",
      "5          -1           -1       -2  -2.000000\n",
      "6          -1           -1       -2  -2.000000\n",
      "class=34, tree=0: <sklearn.tree._tree.Tree object at 0x7fd5b2f6c810>\n",
      "   child_left  child_right  feature  threshold\n",
      "0           1            4        4  -0.712850\n",
      "1           2            3        7   0.017680\n",
      "2          -1           -1       -2  -2.000000\n",
      "3          -1           -1       -2  -2.000000\n",
      "4           5            6        0  -1.602776\n",
      "5          -1           -1       -2  -2.000000\n",
      "6          -1           -1       -2  -2.000000\n",
      "class=35, tree=0: <sklearn.tree._tree.Tree object at 0x7fd5b2f6c880>\n",
      "   child_left  child_right  feature  threshold\n",
      "0           1            4        1  -0.022911\n",
      "1           2            3        6  -1.211028\n",
      "2          -1           -1       -2  -2.000000\n",
      "3          -1           -1       -2  -2.000000\n",
      "4           5            6        1  -0.022486\n",
      "5          -1           -1       -2  -2.000000\n",
      "6          -1           -1       -2  -2.000000\n",
      "class=36, tree=0: <sklearn.tree._tree.Tree object at 0x7fd5b2f6c8f0>\n",
      "   child_left  child_right  feature  threshold\n",
      "0           1            4        0  -1.391730\n",
      "1           2            3        6  -0.371602\n",
      "2          -1           -1       -2  -2.000000\n",
      "3          -1           -1       -2  -2.000000\n",
      "4           5            6        7  -0.035954\n",
      "5          -1           -1       -2  -2.000000\n",
      "6          -1           -1       -2  -2.000000\n",
      "class=37, tree=0: <sklearn.tree._tree.Tree object at 0x7fd5b2f6c960>\n",
      "   child_left  child_right  feature  threshold\n",
      "0           1            4        7  -0.298692\n",
      "1           2            3        4   0.767772\n",
      "2          -1           -1       -2  -2.000000\n",
      "3          -1           -1       -2  -2.000000\n",
      "4           5            6        1  -0.022486\n",
      "5          -1           -1       -2  -2.000000\n",
      "6          -1           -1       -2  -2.000000\n",
      "class=38, tree=0: <sklearn.tree._tree.Tree object at 0x7fd5b2f6c9d0>\n",
      "   child_left  child_right  feature  threshold\n",
      "0           1            4        0  -1.311529\n",
      "1           2            3        6  -1.354475\n",
      "2          -1           -1       -2  -2.000000\n",
      "3          -1           -1       -2  -2.000000\n",
      "4           5            6        7  -0.059870\n",
      "5          -1           -1       -2  -2.000000\n",
      "6          -1           -1       -2  -2.000000\n",
      "class=39, tree=0: <sklearn.tree._tree.Tree object at 0x7fd5b2f6ca40>\n",
      "   child_left  child_right  feature  threshold\n",
      "0           1            4        1  -0.022911\n",
      "1           2            3        9   3.581988\n",
      "2          -1           -1       -2  -2.000000\n",
      "3          -1           -1       -2  -2.000000\n",
      "4           5            6        9   1.567849\n",
      "5          -1           -1       -2  -2.000000\n",
      "6          -1           -1       -2  -2.000000\n",
      "class=40, tree=0: <sklearn.tree._tree.Tree object at 0x7fd5b2f6cab0>\n",
      "   child_left  child_right  feature  threshold\n",
      "0           1            4        1  -0.022486\n",
      "1           2            3        4  -0.553729\n",
      "2          -1           -1       -2  -2.000000\n",
      "3          -1           -1       -2  -2.000000\n",
      "4           5            6        2  -0.940937\n",
      "5          -1           -1       -2  -2.000000\n",
      "6          -1           -1       -2  -2.000000\n",
      "class=41, tree=0: <sklearn.tree._tree.Tree object at 0x7fd5b2f6cb20>\n",
      "   child_left  child_right  feature  threshold\n",
      "0           1            4        4  -0.712850\n",
      "1           2            3        1  -0.022243\n",
      "2          -1           -1       -2  -2.000000\n",
      "3          -1           -1       -2  -2.000000\n",
      "4           5            6        0  -2.063299\n",
      "5          -1           -1       -2  -2.000000\n",
      "6          -1           -1       -2  -2.000000\n",
      "class=42, tree=0: <sklearn.tree._tree.Tree object at 0x7fd5b2f6cb90>\n",
      "   child_left  child_right  feature  threshold\n",
      "0           1            4        0  -1.311529\n",
      "1           2            3        4  -0.088353\n",
      "2          -1           -1       -2  -2.000000\n",
      "3          -1           -1       -2  -2.000000\n",
      "4           5            6        7  -0.059870\n",
      "5          -1           -1       -2  -2.000000\n",
      "6          -1           -1       -2  -2.000000\n",
      "class=43, tree=0: <sklearn.tree._tree.Tree object at 0x7fd5b2f6cc00>\n",
      "   child_left  child_right  feature  threshold\n",
      "0           1            4        0  -1.311529\n",
      "1           2            3        4  -0.088353\n",
      "2          -1           -1       -2  -2.000000\n",
      "3          -1           -1       -2  -2.000000\n",
      "4           5            6        7  -0.035954\n",
      "5          -1           -1       -2  -2.000000\n",
      "6          -1           -1       -2  -2.000000\n",
      "class=44, tree=0: <sklearn.tree._tree.Tree object at 0x7fd5b2f6cc70>\n",
      "   child_left  child_right  feature  threshold\n",
      "0           1            4        1  -0.022486\n",
      "1           2            3        4  -0.553729\n",
      "2          -1           -1       -2  -2.000000\n",
      "3          -1           -1       -2  -2.000000\n",
      "4           5            6        7  -0.035759\n",
      "5          -1           -1       -2  -2.000000\n",
      "6          -1           -1       -2  -2.000000\n",
      "class=45, tree=0: <sklearn.tree._tree.Tree object at 0x7fd5b2f6cce0>\n",
      "   child_left  child_right  feature  threshold\n",
      "0           1            4        0  -1.056398\n",
      "1           2            3        8  -0.015011\n",
      "2          -1           -1       -2  -2.000000\n",
      "3          -1           -1       -2  -2.000000\n",
      "4           5            6        4   2.444284\n",
      "5          -1           -1       -2  -2.000000\n",
      "6          -1           -1       -2  -2.000000\n",
      "class=46, tree=0: <sklearn.tree._tree.Tree object at 0x7fd5b2f4d570>\n",
      "   child_left  child_right  feature  threshold\n",
      "0           1            4        1  -0.022486\n",
      "1           2            3        4  -0.553729\n",
      "2          -1           -1       -2  -2.000000\n",
      "3          -1           -1       -2  -2.000000\n",
      "4           5            6        9   1.019528\n",
      "5          -1           -1       -2  -2.000000\n",
      "6          -1           -1       -2  -2.000000\n",
      "class=47, tree=0: <sklearn.tree._tree.Tree object at 0x7fd5b2f4d650>\n",
      "   child_left  child_right  feature  threshold\n",
      "0           1            4        0  -1.056398\n",
      "1           2            3        8  -0.015011\n",
      "2          -1           -1       -2  -2.000000\n",
      "3          -1           -1       -2  -2.000000\n",
      "4           5            6        6  -3.969476\n",
      "5          -1           -1       -2  -2.000000\n",
      "6          -1           -1       -2  -2.000000\n",
      "class=48, tree=0: <sklearn.tree._tree.Tree object at 0x7fd5b2f4d2d0>\n",
      "   child_left  child_right  feature  threshold\n",
      "0           1            2        0  -4.671501\n",
      "1          -1           -1       -2  -2.000000\n",
      "2           3            4        1  -0.022486\n",
      "3          -1           -1       -2  -2.000000\n",
      "4          -1           -1       -2  -2.000000\n",
      "class=49, tree=0: <sklearn.tree._tree.Tree object at 0x7fd5b2f4d340>\n",
      "   child_left  child_right  feature  threshold\n",
      "0           1            4        1  -0.022486\n",
      "1           2            3        9  -0.743743\n",
      "2          -1           -1       -2  -2.000000\n",
      "3          -1           -1       -2  -2.000000\n",
      "4           5            6        9   1.019528\n",
      "5          -1           -1       -2  -2.000000\n",
      "6          -1           -1       -2  -2.000000\n"
     ]
    }
   ],
   "source": [
    "n_classes, n_estimators = clf_best.estimators_.shape\n",
    "\n",
    "for c in range(n_classes):\n",
    "    \n",
    "    for t in range(n_estimators):\n",
    "        \n",
    "        dtree = clf_best.estimators_[c, t]\n",
    "        print(\"class={}, tree={}: {}\".format(c, t, dtree.tree_))\n",
    "\n",
    "        rules = pd.DataFrame({\n",
    "            'child_left': dtree.tree_.children_left,\n",
    "            'child_right': dtree.tree_.children_right,\n",
    "            'feature': dtree.tree_.feature,\n",
    "            'threshold': dtree.tree_.threshold,\n",
    "        })\n",
    "        \n",
    "        print(rules)"
   ]
  },
  {
   "cell_type": "markdown",
   "metadata": {},
   "source": [
    "### 6. Out-of-sample GBM testing "
   ]
  },
  {
   "cell_type": "code",
   "execution_count": 29,
   "metadata": {},
   "outputs": [
    {
     "name": "stdout",
     "output_type": "stream",
     "text": [
      "******************************************************* \n",
      "Matthews Correlation (MCC) for 2010Q4 is 0.66\n",
      "******************************************************* \n",
      "Out-of-sample (OOS) Classification Report for 2010Q4:\n",
      "              precision    recall  f1-score   support\n",
      "\n",
      "           0       1.00      1.00      1.00      6779\n",
      "           1       0.53      0.83      0.65        24\n",
      "\n",
      "    accuracy                           1.00      6803\n",
      "   macro avg       0.76      0.92      0.82      6803\n",
      "weighted avg       1.00      1.00      1.00      6803\n",
      " \n",
      "\n",
      "\n",
      "******************************************************* \n",
      "Matthews Correlation (MCC) for 2011Q1 is 0.44\n",
      "******************************************************* \n",
      "Out-of-sample (OOS) Classification Report for 2011Q1:\n",
      "              precision    recall  f1-score   support\n",
      "\n",
      "           0       1.00      0.99      0.99      6713\n",
      "           1       0.20      1.00      0.33        19\n",
      "\n",
      "    accuracy                           0.99      6732\n",
      "   macro avg       0.60      0.99      0.66      6732\n",
      "weighted avg       1.00      0.99      0.99      6732\n",
      " \n",
      "\n",
      "\n",
      "******************************************************* \n",
      "Matthews Correlation (MCC) for 2011Q2 is 0.48\n",
      "******************************************************* \n",
      "Out-of-sample (OOS) Classification Report for 2011Q2:\n",
      "              precision    recall  f1-score   support\n",
      "\n",
      "           0       1.00      0.99      1.00      6663\n",
      "           1       0.30      0.76      0.43        25\n",
      "\n",
      "    accuracy                           0.99      6688\n",
      "   macro avg       0.65      0.88      0.71      6688\n",
      "weighted avg       1.00      0.99      0.99      6688\n",
      " \n",
      "\n",
      "\n",
      "******************************************************* \n",
      "Matthews Correlation (MCC) for 2011Q3 is 0.48\n",
      "******************************************************* \n",
      "Out-of-sample (OOS) Classification Report for 2011Q3:\n",
      "              precision    recall  f1-score   support\n",
      "\n",
      "           0       1.00      0.99      1.00      6611\n",
      "           1       0.28      0.83      0.42        18\n",
      "\n",
      "    accuracy                           0.99      6629\n",
      "   macro avg       0.64      0.91      0.71      6629\n",
      "weighted avg       1.00      0.99      1.00      6629\n",
      " \n",
      "\n",
      "\n",
      "******************************************************* \n",
      "Matthews Correlation (MCC) for 2011Q4 is 0.49\n",
      "******************************************************* \n",
      "Out-of-sample (OOS) Classification Report for 2011Q4:\n",
      "              precision    recall  f1-score   support\n",
      "\n",
      "           0       1.00      0.99      1.00      6582\n",
      "           1       0.24      1.00      0.39        13\n",
      "\n",
      "    accuracy                           0.99      6595\n",
      "   macro avg       0.62      1.00      0.69      6595\n",
      "weighted avg       1.00      0.99      1.00      6595\n",
      " \n",
      "\n",
      "\n",
      "******************************************************* \n",
      "Matthews Correlation (MCC) for 2012Q1 is 0.41\n",
      "******************************************************* \n",
      "Out-of-sample (OOS) Classification Report for 2012Q1:\n",
      "              precision    recall  f1-score   support\n",
      "\n",
      "           0       1.00      0.99      1.00      7160\n",
      "           1       0.18      0.93      0.31        15\n",
      "\n",
      "    accuracy                           0.99      7175\n",
      "   macro avg       0.59      0.96      0.65      7175\n",
      "weighted avg       1.00      0.99      0.99      7175\n",
      " \n",
      "\n",
      "\n",
      "******************************************************* \n",
      "Matthews Correlation (MCC) for 2012Q2 is 0.5\n",
      "******************************************************* \n",
      "Out-of-sample (OOS) Classification Report for 2012Q2:\n",
      "              precision    recall  f1-score   support\n",
      "\n",
      "           0       1.00      1.00      1.00      7097\n",
      "           1       0.28      0.92      0.42        12\n",
      "\n",
      "    accuracy                           1.00      7109\n",
      "   macro avg       0.64      0.96      0.71      7109\n",
      "weighted avg       1.00      1.00      1.00      7109\n",
      " \n",
      "\n",
      "\n",
      "******************************************************* \n",
      "Matthews Correlation (MCC) for 2012Q3 is 0.57\n",
      "******************************************************* \n",
      "Out-of-sample (OOS) Classification Report for 2012Q3:\n",
      "              precision    recall  f1-score   support\n",
      "\n",
      "           0       1.00      1.00      1.00      7033\n",
      "           1       0.32      1.00      0.48         8\n",
      "\n",
      "    accuracy                           1.00      7041\n",
      "   macro avg       0.66      1.00      0.74      7041\n",
      "weighted avg       1.00      1.00      1.00      7041\n",
      " \n",
      "\n",
      "\n",
      "******************************************************* \n",
      "Matthews Correlation (MCC) for 2012Q4 is 0.4\n",
      "******************************************************* \n",
      "Out-of-sample (OOS) Classification Report for 2012Q4:\n",
      "              precision    recall  f1-score   support\n",
      "\n",
      "           0       1.00      1.00      1.00      6935\n",
      "           1       0.16      1.00      0.28         4\n",
      "\n",
      "    accuracy                           1.00      6939\n",
      "   macro avg       0.58      1.00      0.64      6939\n",
      "weighted avg       1.00      1.00      1.00      6939\n",
      " \n",
      "\n",
      "\n",
      "******************************************************* \n",
      "Matthews Correlation (MCC) for 2019Q2 is -0.0\n",
      "******************************************************* \n",
      "Out-of-sample (OOS) Classification Report for 2019Q2:\n",
      "              precision    recall  f1-score   support\n",
      "\n",
      "           0       1.00      1.00      1.00      5193\n",
      "           1       0.00      0.00      0.00         1\n",
      "\n",
      "    accuracy                           1.00      5194\n",
      "   macro avg       0.50      0.50      0.50      5194\n",
      "weighted avg       1.00      1.00      1.00      5194\n",
      " \n",
      "\n",
      "\n"
     ]
    }
   ],
   "source": [
    "pd.set_option('use_inf_as_na', True)\n",
    "\n",
    "oos_reports = ['2010Q4', '2011Q1', '2011Q2', '2011Q3', '2011Q4', '2012Q1', '2012Q2', \n",
    "               '2012Q3', '2012Q4', '2019Q2']\n",
    "\n",
    "for report in oos_reports:\n",
    "    \n",
    "    oos_df = pd.read_csv('oos/camel_data_after{}_OOS.csv'.format(report))\n",
    "    oos_df.replace([np.inf, -np.inf], np.nan)\n",
    "    oos_df.dropna(inplace=True)\n",
    "    \n",
    "    y_oos = oos_df['Target']\n",
    "    X_oos = oos_df[['EQTA', 'EQTL', 'LLRTA', 'LLRGL', 'OEXTA', 'INCEMP', 'ROA', 'ROE', \n",
    "                    'TDTL', 'TDTA', 'TATA']].copy()\n",
    "    X_oos_scaled = X_scaler.transform(X_oos) \n",
    "    \n",
    "    predictions_oos = clf_best.predict(X_oos_scaled)\n",
    "    mcc = np.round(matthews_corrcoef(y_oos, predictions_oos), 2)\n",
    "    \n",
    "    # Generate out-of-sample MCC and classification report \n",
    "    print(\"*\" * 55, \"\\nMatthews Correlation (MCC) for {} is {}\".format(report, mcc))\n",
    "    print(\"*\" * 55,\"\\nOut-of-sample (OOS) Classification Report for {}:\".format(report))\n",
    "    print(classification_report(y_oos, predictions_oos), \"\\n\\n\")\n",
    "   \n",
    "  "
   ]
  },
  {
   "cell_type": "code",
   "execution_count": null,
   "metadata": {},
   "outputs": [],
   "source": []
  }
 ],
 "metadata": {
  "kernelspec": {
   "display_name": "Python 3",
   "language": "python",
   "name": "python3"
  },
  "language_info": {
   "codemirror_mode": {
    "name": "ipython",
    "version": 3
   },
   "file_extension": ".py",
   "mimetype": "text/x-python",
   "name": "python",
   "nbconvert_exporter": "python",
   "pygments_lexer": "ipython3",
   "version": "3.8.3"
  }
 },
 "nbformat": 4,
 "nbformat_minor": 4
}
