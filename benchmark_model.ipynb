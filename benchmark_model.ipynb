{
 "cells": [
  {
   "cell_type": "markdown",
   "metadata": {},
   "source": [
    "This research presents preliminary findings and is being distributed to interested readers solely to stimulate discussion and elicit comments."
   ]
  },
  {
   "cell_type": "markdown",
   "metadata": {},
   "source": [
    "Notes: MCC vs Accuracy, source: https://towardsdatascience.com/the-best-classification-metric-youve-never-heard-of-the-matthews-correlation-coefficient-3bf50a2f3e9a\n",
    "\n",
    "    TODO: Intro Para on data for training and testing \n",
    "    TODO: Explain CAMELS ratios\n",
    "    TODO: Explain MCC and why it is important for imbalanced samples like this one\n",
    "    TODO: Add timer to the Grid Search \n",
    "    TODO: Plot the tree and/or feature importances"
   ]
  },
  {
   "cell_type": "code",
   "execution_count": 194,
   "metadata": {},
   "outputs": [],
   "source": [
    "# Important notes on CAMELS valuation framework, consider feature eng to add lagged values as well:\n",
    "# (C)apital adequace can be measure by \n",
    "#       1) Total Equity / Total Assets (EQTA)\n",
    "#       2) Total Equity / Total Loans (EQTL)\n",
    "#       - consider also risk-weighted capital adequacy ratio\n",
    "# (A)sset quality\n",
    "#       3) Non Performing Loans / Total Assets (NPLTA)\n",
    "#       4) Non Performing Loans / Gross Loans (NPLGL)\n",
    "#       5) Loan Loss Reserves / Total Assest (LLRTA)\n",
    "#       6) Loan Loss Reserves / Gross Loans (LLRGL)\n",
    "#       - consider Net Interest Margin\n",
    "# (M)anagement quality\n",
    "#       7) Operating Costs / Net Operating Income (OCNOI)\n",
    "#       - Operating Expenses / Assets (OEXTA)\n",
    "# (E)arnings ability\n",
    "#       8) Net Income / Total Assest (ROA)\n",
    "#       9) Net Income / Total Equity (ROE)\n",
    "#      - consider Net Interest Margin\n",
    "# (L)iquidity, i.e. ability to fulfill its short-term liability\n",
    "#       10) Total Loans / Total Customer Deposits (TLTD)\n",
    "#       11) Total Customer Deposits / Total Assest (TDTA)\n",
    "#        - consider liquid assets to total assets ratio\n",
    "#        - liquid assets to deposits ratio\n",
    "# (S)ensitivity to market risk \n",
    "#       12) Trading Income / Net Operatin Income (TINOI)\n",
    "# Condider adding control variables: Assest Size, GDP growth, Inflation, Interest RAtes (3M, 6M, 12M, 36M)\n",
    "\n",
    "\n",
    "\n",
    "\n",
    "# CAMELS representation, source: https://en.wikipedia.org/wiki/CAMELS_rating_system"
   ]
  },
  {
   "cell_type": "raw",
   "metadata": {},
   "source": [
    "# Prepare dictionary of selected financials that are needed for CAMELS\n",
    "selected_financials = {\n",
    "                       'RIAD3210' : 'Total equity capital', # Alt can be RCONG105\n",
    "                       'RCON2170' : 'Total assets', # Ok\n",
    "                       'RCON3360' : 'Total loans', #ok\n",
    "                       'RCON3465' : '1-4 family residential loans', \n",
    "                       'RCON3466' : 'Other real estate loans',\n",
    "                       'RCON3387' : 'Commercial and industrial loans',\n",
    "                       'RCONB561' : 'Credit cards',\n",
    "                       'RCON3123' : 'Allowance for loan losses', # OK\n",
    "                       'RIAD4093' : 'Total noninterest expense', #OK\n",
    "                       'RIAD4300' : 'Net Income before', # # new for healthy\n",
    "                       'RCON2215' : 'Total transaction deposits', # ok\n",
    "                       'RCON2385' : 'Total nontransaction deposits', # ok\n",
    "                       'RCON1773' : 'Available-for-sale Fair Value',\n",
    "                       'RIAD4150' : 'Number of full-time employees'# new for healthy\n",
    "                      } \n",
    "columns = selected_financials.keys()"
   ]
  },
  {
   "cell_type": "code",
   "execution_count": 1,
   "metadata": {},
   "outputs": [],
   "source": [
    "import pandas as pd\n",
    "import numpy as np\n",
    "import matplotlib.pyplot as plt \n",
    "from sklearn.preprocessing import StandardScaler\n",
    "from sklearn.model_selection import train_test_split, cross_val_predict, validation_curve, GridSearchCV\n",
    "from sklearn.metrics import confusion_matrix, accuracy_score, classification_report, precision_recall_curve \n",
    "from sklearn.metrics import precision_recall_curve, roc_curve, matthews_corrcoef\n",
    "from sklearn.ensemble import GradientBoostingClassifier\n",
    "%matplotlib inline\n",
    "# Needed for decision tree visualization\n",
    "import pydotplus\n",
    "from IPython.display import Image"
   ]
  },
  {
   "cell_type": "markdown",
   "metadata": {},
   "source": [
    "### 1. Preprocessing"
   ]
  },
  {
   "cell_type": "code",
   "execution_count": 2,
   "metadata": {},
   "outputs": [],
   "source": [
    "file_path = \"data/camel_data_after2010Q3.csv\"\n",
    "banks_df = pd.read_csv(file_path, index_col=0)"
   ]
  },
  {
   "cell_type": "markdown",
   "metadata": {},
   "source": [
    "Check if there are any missing values and drop `null`"
   ]
  },
  {
   "cell_type": "code",
   "execution_count": 3,
   "metadata": {},
   "outputs": [],
   "source": [
    "banks_df.dropna(inplace=True)"
   ]
  },
  {
   "cell_type": "markdown",
   "metadata": {},
   "source": [
    "Show the features of failed banks (Target of 1) and count them"
   ]
  },
  {
   "cell_type": "code",
   "execution_count": 4,
   "metadata": {},
   "outputs": [
    {
     "data": {
      "text/plain": [
       "AsOfDate    137\n",
       "Target      137\n",
       "EQTA        137\n",
       "EQTL        137\n",
       "LLRTA       137\n",
       "LLRGL       137\n",
       "OEXTA       137\n",
       "INCEMP      137\n",
       "ROA         137\n",
       "ROE         137\n",
       "TDTL        137\n",
       "TDTA        137\n",
       "TATA        137\n",
       "dtype: int64"
      ]
     },
     "execution_count": 4,
     "metadata": {},
     "output_type": "execute_result"
    }
   ],
   "source": [
    "banks_df.loc[banks_df.Target == 1].count()"
   ]
  },
  {
   "cell_type": "markdown",
   "metadata": {},
   "source": [
    "Take a copy of predictors and store in X, count all instances available."
   ]
  },
  {
   "cell_type": "code",
   "execution_count": 5,
   "metadata": {},
   "outputs": [
    {
     "data": {
      "text/plain": [
       "7014"
      ]
     },
     "execution_count": 5,
     "metadata": {},
     "output_type": "execute_result"
    }
   ],
   "source": [
    "X = banks_df[['EQTA', 'EQTL', 'LLRTA', 'LLRGL', 'OEXTA', 'INCEMP', 'ROA', 'ROE', 'TDTL', 'TDTA', 'TATA']].copy()\n",
    "len(X)"
   ]
  },
  {
   "cell_type": "markdown",
   "metadata": {},
   "source": [
    "Define the target vector y and reshape it as well."
   ]
  },
  {
   "cell_type": "code",
   "execution_count": 6,
   "metadata": {},
   "outputs": [],
   "source": [
    "y = banks_df[\"Target\"].values.reshape(-1, 1)"
   ]
  },
  {
   "cell_type": "markdown",
   "metadata": {},
   "source": [
    "### 2. Developing basic GBM "
   ]
  },
  {
   "cell_type": "markdown",
   "metadata": {},
   "source": [
    "First train/test split, note `random_state=123` for the auditing purposes."
   ]
  },
  {
   "cell_type": "code",
   "execution_count": 7,
   "metadata": {},
   "outputs": [],
   "source": [
    "X_train, X_test, y_train, y_test = train_test_split(X, y, random_state=123)"
   ]
  },
  {
   "cell_type": "markdown",
   "metadata": {},
   "source": [
    "Creating `StandardScaler` object and fitting, i.e. removing the mean and scaling to unit variance."
   ]
  },
  {
   "cell_type": "code",
   "execution_count": 8,
   "metadata": {},
   "outputs": [],
   "source": [
    "scaler = StandardScaler()\n",
    "X_scaler = scaler.fit(X_train)"
   ]
  },
  {
   "cell_type": "markdown",
   "metadata": {},
   "source": [
    "Transforming training and testing features data using the fitted scaler."
   ]
  },
  {
   "cell_type": "code",
   "execution_count": 9,
   "metadata": {},
   "outputs": [],
   "source": [
    "X_train_scaled = X_scaler.transform(X_train)\n",
    "X_test_scaled = X_scaler.transform(X_test)"
   ]
  },
  {
   "cell_type": "markdown",
   "metadata": {},
   "source": [
    "### 3. Optimizing Sensitivity (Minimizing Type II Error) with `GridSearch`"
   ]
  },
  {
   "cell_type": "code",
   "execution_count": 118,
   "metadata": {},
   "outputs": [
    {
     "data": {
      "text/plain": [
       "{'learning_rate': 0.1, 'max_depth': 2, 'max_features': 5, 'n_estimators': 20}"
      ]
     },
     "execution_count": 118,
     "metadata": {},
     "output_type": "execute_result"
    }
   ],
   "source": [
    "param_grid = {'learning_rate': [0.05, 0.1, 0.2, 0.5, 0.7, 0.8, 0.9], \n",
    "             \"n_estimators\" : [20, 30, 40, 50],\n",
    "              \"max_features\": [2, 3, 4, 5],\n",
    "              \"max_depth\" : [2, 3, 4, 5]} \n",
    "\n",
    "grid = GridSearchCV(GradientBoostingClassifier(), param_grid, scoring = 'recall', cv=5)\n",
    "grid.fit(X, y.ravel());\n",
    "grid.best_params_\n"
   ]
  },
  {
   "cell_type": "markdown",
   "metadata": {},
   "source": [
    "Take note of these params below:\n",
    "\n",
    "    `{'learning_rate': 0.1, 'max_depth': 2, 'max_features': 3, 'n_estimators': 30}`"
   ]
  },
  {
   "cell_type": "markdown",
   "metadata": {},
   "source": [
    "**Take note of four evaluation metrics:**\n",
    "- Accuracy: (TP + TN)/(TP + TN + FP + FN)\n",
    "- Misclassification Rate: 1 - Accuracy or (FP + FN)/(TP + TN + FP + FN)\n",
    "- Sensitivity (Recall or True Positive Rate): TP / (TP + FN)\n",
    "- Specificity: TN / (TN + FN)\n",
    "- False Positive Rate: FP / (TN + FP)\n",
    "- Precision: TP / (TP + FP)"
   ]
  },
  {
   "cell_type": "markdown",
   "metadata": {},
   "source": [
    "### 4. Evaluating the best GBM model"
   ]
  },
  {
   "cell_type": "code",
   "execution_count": 132,
   "metadata": {},
   "outputs": [
    {
     "name": "stdout",
     "output_type": "stream",
     "text": [
      "Testing accuracy: 98.746%\n"
     ]
    },
    {
     "data": {
      "text/html": [
       "<div>\n",
       "<style scoped>\n",
       "    .dataframe tbody tr th:only-of-type {\n",
       "        vertical-align: middle;\n",
       "    }\n",
       "\n",
       "    .dataframe tbody tr th {\n",
       "        vertical-align: top;\n",
       "    }\n",
       "\n",
       "    .dataframe thead th {\n",
       "        text-align: right;\n",
       "    }\n",
       "</style>\n",
       "<table border=\"1\" class=\"dataframe\">\n",
       "  <thead>\n",
       "    <tr style=\"text-align: right;\">\n",
       "      <th></th>\n",
       "      <th>Prediction</th>\n",
       "      <th>Actual</th>\n",
       "    </tr>\n",
       "  </thead>\n",
       "  <tbody>\n",
       "    <tr>\n",
       "      <th>0</th>\n",
       "      <td>0</td>\n",
       "      <td>0</td>\n",
       "    </tr>\n",
       "    <tr>\n",
       "      <th>1</th>\n",
       "      <td>0</td>\n",
       "      <td>0</td>\n",
       "    </tr>\n",
       "    <tr>\n",
       "      <th>2</th>\n",
       "      <td>0</td>\n",
       "      <td>0</td>\n",
       "    </tr>\n",
       "    <tr>\n",
       "      <th>3</th>\n",
       "      <td>0</td>\n",
       "      <td>0</td>\n",
       "    </tr>\n",
       "    <tr>\n",
       "      <th>4</th>\n",
       "      <td>0</td>\n",
       "      <td>0</td>\n",
       "    </tr>\n",
       "  </tbody>\n",
       "</table>\n",
       "</div>"
      ],
      "text/plain": [
       "   Prediction  Actual\n",
       "0           0       0\n",
       "1           0       0\n",
       "2           0       0\n",
       "3           0       0\n",
       "4           0       0"
      ]
     },
     "execution_count": 132,
     "metadata": {},
     "output_type": "execute_result"
    }
   ],
   "source": [
    "clf_best = GradientBoostingClassifier(n_estimators=20,\n",
    "                                     learning_rate=0.1,\n",
    "                                     max_features=5,\n",
    "                                     max_depth=2,\n",
    "                                     random_state=123)\n",
    "\n",
    "clf_best.fit(X_train_scaled, y_train.ravel())\n",
    "predictions = clf_best.predict(X_test_scaled)\n",
    "print(\"Testing accuracy: {0:.3f}%\".format(accuracy_score(predictions, y_test) * 100 ))\n",
    "pd.DataFrame({\"Prediction\": predictions, \"Actual\": y_test.ravel()}).head(5)"
   ]
  },
  {
   "cell_type": "markdown",
   "metadata": {},
   "source": [
    "#### Check for Null Accuracy, i.e. always predicting majority class. Start with class distribution below:"
   ]
  },
  {
   "cell_type": "code",
   "execution_count": 133,
   "metadata": {},
   "outputs": [
    {
     "data": {
      "text/plain": [
       "0    1725\n",
       "1      29\n",
       "Name: y_true, dtype: int64"
      ]
     },
     "execution_count": 133,
     "metadata": {},
     "output_type": "execute_result"
    }
   ],
   "source": [
    "y_true = pd.DataFrame(y_test, columns=['y_true'])\n",
    "y_true[\"y_true\"].value_counts()"
   ]
  },
  {
   "cell_type": "code",
   "execution_count": 134,
   "metadata": {},
   "outputs": [
    {
     "name": "stdout",
     "output_type": "stream",
     "text": [
      "Calculate the percentage of ones: 1.653%\n"
     ]
    }
   ],
   "source": [
    "print('Calculate the percentage of ones: {0:.3f}%'.format(y_true[\"y_true\"].mean() * 100))"
   ]
  },
  {
   "cell_type": "code",
   "execution_count": 135,
   "metadata": {},
   "outputs": [
    {
     "name": "stdout",
     "output_type": "stream",
     "text": [
      "Calculate Null accuracy for binary classification: 98.347%\n"
     ]
    }
   ],
   "source": [
    "print('Calculate Null accuracy for binary classification: {0:.3f}%'.format(\n",
    "    max(y_true[\"y_true\"].mean(), 1 - y_true[\"y_true\"].mean()) *100))"
   ]
  },
  {
   "cell_type": "markdown",
   "metadata": {},
   "source": [
    "#### Model Performance over Thresholds"
   ]
  },
  {
   "cell_type": "markdown",
   "metadata": {},
   "source": [
    "The precision-recall curve plots the relationship between precision and recall as the decision threshold changes. Recall is the ability of a model to detect all positive samples and precision is the ability of a model to avoid labeling negative samples as positive. Some business problems might require higher recall and some higher precision depending on the relative importance of avoiding false negatives vs false positives."
   ]
  },
  {
   "cell_type": "code",
   "execution_count": 156,
   "metadata": {},
   "outputs": [
    {
     "name": "stdout",
     "output_type": "stream",
     "text": [
      "Average precision-recall score: 0.66\n"
     ]
    },
    {
     "data": {
      "image/png": "[encoded data removed]",
      "text/plain": [
       "<Figure size 432x288 with 1 Axes>"
      ]
     },
     "metadata": {
      "needs_background": "light"
     },
     "output_type": "display_data"
    }
   ],
   "source": [
    "y_score = clf_best.decision_function(X_test_scaled)\n",
    "\n",
    "from sklearn.metrics import average_precision_score\n",
    "average_precision = average_precision_score(y_test, y_score)\n",
    "\n",
    "print('Average precision-recall score: {0:0.2f}'.format(\n",
    "      average_precision))\n",
    "\n",
    "from sklearn.metrics import plot_precision_recall_curve\n",
    "import matplotlib.pyplot as plt\n",
    "\n",
    "disp = plot_precision_recall_curve(clf_best, X_test_scaled, y_test)\n",
    "disp.ax_.set_title('2-class Precision-Recall curve: '\n",
    "                   'Avg. Precision={0:0.2f}'.format(average_precision))\n",
    "plt.grid(True)"
   ]
  },
  {
   "cell_type": "markdown",
   "metadata": {},
   "source": [
    "The receiver operating characteristic (ROC) curve plots the relationship between true positive rate (TPR) and false positive rate (FPR) as the decision threshold changes. The ROC curve can be less informative when training models on datasets with high class imbalance, as the majority class can drown out contributions from minority classes.\n",
    "\n",
    "The area under the curve (AUC) can be interpreted as the proportion of correctly classified samples. More precisely, the AUC is the probability that the classifier ranks a randomly chosen positive sample higher than a randomly chosen negative sample. The shape of the curve gives an intuition for relationship between TPR and FPR as a function of the classification threshold or decision boundary.\n",
    "\n"
   ]
  },
  {
   "cell_type": "code",
   "execution_count": 155,
   "metadata": {},
   "outputs": [
    {
     "data": {
      "image/png": "[encoded data removed]",
      "text/plain": [
       "<Figure size 432x288 with 1 Axes>"
      ]
     },
     "metadata": {
      "needs_background": "light"
     },
     "output_type": "display_data"
    }
   ],
   "source": [
    "from sklearn.metrics import plot_roc_curve\n",
    "clf_best_disp = plot_roc_curve(clf_best, X_test_scaled, y_test)\n",
    "clf_best_disp.plot(ax=ax, alpha=0.8)\n",
    "plt.grid(True)\n",
    "plt.show()\n"
   ]
  },
  {
   "cell_type": "markdown",
   "metadata": {},
   "source": [
    "#### Generate the confusion matrix"
   ]
  },
  {
   "cell_type": "code",
   "execution_count": 138,
   "metadata": {},
   "outputs": [
    {
     "data": {
      "text/html": [
       "<div>\n",
       "<style scoped>\n",
       "    .dataframe tbody tr th:only-of-type {\n",
       "        vertical-align: middle;\n",
       "    }\n",
       "\n",
       "    .dataframe tbody tr th {\n",
       "        vertical-align: top;\n",
       "    }\n",
       "\n",
       "    .dataframe thead th {\n",
       "        text-align: right;\n",
       "    }\n",
       "</style>\n",
       "<table border=\"1\" class=\"dataframe\">\n",
       "  <thead>\n",
       "    <tr style=\"text-align: right;\">\n",
       "      <th></th>\n",
       "      <th>Predicted 0</th>\n",
       "      <th>Predicted 1</th>\n",
       "    </tr>\n",
       "  </thead>\n",
       "  <tbody>\n",
       "    <tr>\n",
       "      <th>True 0</th>\n",
       "      <td>1712</td>\n",
       "      <td>13</td>\n",
       "    </tr>\n",
       "    <tr>\n",
       "      <th>True 1</th>\n",
       "      <td>9</td>\n",
       "      <td>20</td>\n",
       "    </tr>\n",
       "  </tbody>\n",
       "</table>\n",
       "</div>"
      ],
      "text/plain": [
       "        Predicted 0  Predicted 1\n",
       "True 0         1712           13\n",
       "True 1            9           20"
      ]
     },
     "execution_count": 138,
     "metadata": {},
     "output_type": "execute_result"
    }
   ],
   "source": [
    "pd.DataFrame(confusion_matrix(y_test, predictions), index=[\"True 0\", \"True 1\"], \n",
    "             columns=[\"Predicted 0\", \"Predicted 1\"])"
   ]
  },
  {
   "cell_type": "code",
   "execution_count": 139,
   "metadata": {},
   "outputs": [
    {
     "name": "stdout",
     "output_type": "stream",
     "text": [
      "Total Actual Survived:  1725\n",
      "Total Actual Failed:  29\n"
     ]
    }
   ],
   "source": [
    "print( \"Total Actual Survived: \", 1707 + 18)\n",
    "print(\"Total Actual Failed: \", 9 + 20)"
   ]
  },
  {
   "cell_type": "code",
   "execution_count": 140,
   "metadata": {},
   "outputs": [
    {
     "data": {
      "text/plain": [
       "(1712, 13, 9, 20)"
      ]
     },
     "execution_count": 140,
     "metadata": {},
     "output_type": "execute_result"
    }
   ],
   "source": [
    "tn, fp, fn, tp = confusion_matrix(y_test, predictions).ravel()\n",
    "tn, fp, fn, tp"
   ]
  },
  {
   "cell_type": "code",
   "execution_count": 144,
   "metadata": {},
   "outputs": [
    {
     "name": "stdout",
     "output_type": "stream",
     "text": [
      "recall: 0.69\n",
      "precision: 0.61\n"
     ]
    }
   ],
   "source": [
    "print(\"recall: {0:.2f}\".format(tp/(tp+fn)))\n",
    "print(\"precision: {0:.2f}\".format(tp/(tp+fp))) #TP / (TP + FP)"
   ]
  },
  {
   "cell_type": "markdown",
   "metadata": {},
   "source": [
    "#### Compute Matthews correlation (MCC)"
   ]
  },
  {
   "cell_type": "code",
   "execution_count": 145,
   "metadata": {},
   "outputs": [
    {
     "name": "stdout",
     "output_type": "stream",
     "text": [
      "Matthews Correlation is 0.640\n"
     ]
    }
   ],
   "source": [
    "matthews_corrcoef(y_test, predictions)\n",
    "print(\"Matthews Correlation is {0:.3f}\".format(matthews_corrcoef(y_test, predictions)))"
   ]
  },
  {
   "cell_type": "markdown",
   "metadata": {},
   "source": [
    "#### Generate classification report"
   ]
  },
  {
   "cell_type": "code",
   "execution_count": 146,
   "metadata": {},
   "outputs": [
    {
     "name": "stdout",
     "output_type": "stream",
     "text": [
      "In-Sample Classification Report\n",
      "              precision    recall  f1-score   support\n",
      "\n",
      "           0       0.99      0.99      0.99      1725\n",
      "           1       0.61      0.69      0.65        29\n",
      "\n",
      "    accuracy                           0.99      1754\n",
      "   macro avg       0.80      0.84      0.82      1754\n",
      "weighted avg       0.99      0.99      0.99      1754\n",
      "\n"
     ]
    }
   ],
   "source": [
    "print(\"In-Sample Classification Report\")\n",
    "print(classification_report(y_test, predictions))"
   ]
  },
  {
   "cell_type": "markdown",
   "metadata": {},
   "source": [
    "### 5. Analysing rules that were learned in training"
   ]
  },
  {
   "cell_type": "markdown",
   "metadata": {},
   "source": [
    "#### Extracting rules and feature importances "
   ]
  },
  {
   "cell_type": "code",
   "execution_count": 115,
   "metadata": {},
   "outputs": [
    {
     "data": {
      "text/html": [
       "<div>\n",
       "<style scoped>\n",
       "    .dataframe tbody tr th:only-of-type {\n",
       "        vertical-align: middle;\n",
       "    }\n",
       "\n",
       "    .dataframe tbody tr th {\n",
       "        vertical-align: top;\n",
       "    }\n",
       "\n",
       "    .dataframe thead th {\n",
       "        text-align: right;\n",
       "    }\n",
       "</style>\n",
       "<table border=\"1\" class=\"dataframe\">\n",
       "  <thead>\n",
       "    <tr style=\"text-align: right;\">\n",
       "      <th></th>\n",
       "      <th>child_left</th>\n",
       "      <th>child_right</th>\n",
       "      <th>feature</th>\n",
       "      <th>threshold</th>\n",
       "    </tr>\n",
       "  </thead>\n",
       "  <tbody>\n",
       "    <tr>\n",
       "      <th>0</th>\n",
       "      <td>1</td>\n",
       "      <td>8</td>\n",
       "      <td>1</td>\n",
       "      <td>-0.023284</td>\n",
       "    </tr>\n",
       "    <tr>\n",
       "      <th>1</th>\n",
       "      <td>2</td>\n",
       "      <td>5</td>\n",
       "      <td>6</td>\n",
       "      <td>-2.327335</td>\n",
       "    </tr>\n",
       "    <tr>\n",
       "      <th>2</th>\n",
       "      <td>3</td>\n",
       "      <td>4</td>\n",
       "      <td>9</td>\n",
       "      <td>1.581137</td>\n",
       "    </tr>\n",
       "    <tr>\n",
       "      <th>3</th>\n",
       "      <td>-1</td>\n",
       "      <td>-1</td>\n",
       "      <td>-2</td>\n",
       "      <td>-2.000000</td>\n",
       "    </tr>\n",
       "    <tr>\n",
       "      <th>4</th>\n",
       "      <td>-1</td>\n",
       "      <td>-1</td>\n",
       "      <td>-2</td>\n",
       "      <td>-2.000000</td>\n",
       "    </tr>\n",
       "  </tbody>\n",
       "</table>\n",
       "</div>"
      ],
      "text/plain": [
       "   child_left  child_right  feature  threshold\n",
       "0           1            8        1  -0.023284\n",
       "1           2            5        6  -2.327335\n",
       "2           3            4        9   1.581137\n",
       "3          -1           -1       -2  -2.000000\n",
       "4          -1           -1       -2  -2.000000"
      ]
     },
     "execution_count": 115,
     "metadata": {},
     "output_type": "execute_result"
    }
   ],
   "source": [
    "n_classes, n_estimators = clf_best.estimators_.shape\n",
    "\n",
    "for c in range(n_classes):\n",
    "    \n",
    "    for t in range(n_estimators):\n",
    "        \n",
    "        dtree = clf_best.estimators_[c, t]\n",
    "        rules_df = pd.DataFrame({\n",
    "            'child_left': dtree.tree_.children_left,\n",
    "            'child_right': dtree.tree_.children_right,\n",
    "            'feature': dtree.tree_.feature,\n",
    "            'threshold': dtree.tree_.threshold,\n",
    "        })\n",
    "rules_df.head()"
   ]
  },
  {
   "cell_type": "markdown",
   "metadata": {},
   "source": [
    "#### TODO: plot decision tree"
   ]
  },
  {
   "cell_type": "code",
   "execution_count": null,
   "metadata": {},
   "outputs": [],
   "source": []
  },
  {
   "cell_type": "code",
   "execution_count": null,
   "metadata": {},
   "outputs": [],
   "source": []
  },
  {
   "cell_type": "code",
   "execution_count": null,
   "metadata": {},
   "outputs": [],
   "source": []
  },
  {
   "cell_type": "code",
   "execution_count": null,
   "metadata": {},
   "outputs": [],
   "source": []
  },
  {
   "cell_type": "markdown",
   "metadata": {},
   "source": [
    "### 6. Out-of-sample GBM testing "
   ]
  },
  {
   "cell_type": "code",
   "execution_count": 147,
   "metadata": {},
   "outputs": [
    {
     "name": "stdout",
     "output_type": "stream",
     "text": [
      "******************************************************* \n",
      "Matthews Correlation (MCC) for 2010Q4 is 0.66\n",
      "******************************************************* \n",
      "Out-of-sample (OOS) Classification Report for 2010Q4:\n",
      "              precision    recall  f1-score   support\n",
      "\n",
      "           0       1.00      1.00      1.00      6779\n",
      "           1       0.53      0.83      0.65        24\n",
      "\n",
      "    accuracy                           1.00      6803\n",
      "   macro avg       0.76      0.92      0.82      6803\n",
      "weighted avg       1.00      1.00      1.00      6803\n",
      " \n",
      "\n",
      "\n",
      "******************************************************* \n",
      "Matthews Correlation (MCC) for 2011Q1 is 0.49\n",
      "******************************************************* \n",
      "Out-of-sample (OOS) Classification Report for 2011Q1:\n",
      "              precision    recall  f1-score   support\n",
      "\n",
      "           0       1.00      0.99      1.00      6713\n",
      "           1       0.24      1.00      0.38        19\n",
      "\n",
      "    accuracy                           0.99      6732\n",
      "   macro avg       0.62      1.00      0.69      6732\n",
      "weighted avg       1.00      0.99      0.99      6732\n",
      " \n",
      "\n",
      "\n",
      "******************************************************* \n",
      "Matthews Correlation (MCC) for 2011Q2 is 0.45\n",
      "******************************************************* \n",
      "Out-of-sample (OOS) Classification Report for 2011Q2:\n",
      "              precision    recall  f1-score   support\n",
      "\n",
      "           0       1.00      0.99      1.00      6663\n",
      "           1       0.28      0.76      0.40        25\n",
      "\n",
      "    accuracy                           0.99      6688\n",
      "   macro avg       0.64      0.88      0.70      6688\n",
      "weighted avg       1.00      0.99      0.99      6688\n",
      " \n",
      "\n",
      "\n",
      "******************************************************* \n",
      "Matthews Correlation (MCC) for 2011Q3 is 0.49\n",
      "******************************************************* \n",
      "Out-of-sample (OOS) Classification Report for 2011Q3:\n",
      "              precision    recall  f1-score   support\n",
      "\n",
      "           0       1.00      0.99      1.00      6611\n",
      "           1       0.28      0.89      0.42        18\n",
      "\n",
      "    accuracy                           0.99      6629\n",
      "   macro avg       0.64      0.94      0.71      6629\n",
      "weighted avg       1.00      0.99      1.00      6629\n",
      " \n",
      "\n",
      "\n",
      "******************************************************* \n",
      "Matthews Correlation (MCC) for 2011Q4 is 0.48\n",
      "******************************************************* \n",
      "Out-of-sample (OOS) Classification Report for 2011Q4:\n",
      "              precision    recall  f1-score   support\n",
      "\n",
      "           0       1.00      0.99      1.00      6582\n",
      "           1       0.24      1.00      0.38        13\n",
      "\n",
      "    accuracy                           0.99      6595\n",
      "   macro avg       0.62      1.00      0.69      6595\n",
      "weighted avg       1.00      0.99      1.00      6595\n",
      " \n",
      "\n",
      "\n",
      "******************************************************* \n",
      "Matthews Correlation (MCC) for 2012Q1 is 0.42\n",
      "******************************************************* \n",
      "Out-of-sample (OOS) Classification Report for 2012Q1:\n",
      "              precision    recall  f1-score   support\n",
      "\n",
      "           0       1.00      0.99      1.00      7160\n",
      "           1       0.19      0.93      0.31        15\n",
      "\n",
      "    accuracy                           0.99      7175\n",
      "   macro avg       0.59      0.96      0.66      7175\n",
      "weighted avg       1.00      0.99      0.99      7175\n",
      " \n",
      "\n",
      "\n",
      "******************************************************* \n",
      "Matthews Correlation (MCC) for 2012Q2 is 0.43\n",
      "******************************************************* \n",
      "Out-of-sample (OOS) Classification Report for 2012Q2:\n",
      "              precision    recall  f1-score   support\n",
      "\n",
      "           0       1.00      0.99      1.00      7097\n",
      "           1       0.21      0.92      0.34        12\n",
      "\n",
      "    accuracy                           0.99      7109\n",
      "   macro avg       0.60      0.96      0.67      7109\n",
      "weighted avg       1.00      0.99      1.00      7109\n",
      " \n",
      "\n",
      "\n",
      "******************************************************* \n",
      "Matthews Correlation (MCC) for 2012Q3 is 0.46\n",
      "******************************************************* \n",
      "Out-of-sample (OOS) Classification Report for 2012Q3:\n",
      "              precision    recall  f1-score   support\n",
      "\n",
      "           0       1.00      1.00      1.00      7033\n",
      "           1       0.22      1.00      0.36         8\n",
      "\n",
      "    accuracy                           1.00      7041\n",
      "   macro avg       0.61      1.00      0.68      7041\n",
      "weighted avg       1.00      1.00      1.00      7041\n",
      " \n",
      "\n",
      "\n",
      "******************************************************* \n",
      "Matthews Correlation (MCC) for 2012Q4 is 0.33\n",
      "******************************************************* \n",
      "Out-of-sample (OOS) Classification Report for 2012Q4:\n",
      "              precision    recall  f1-score   support\n",
      "\n",
      "           0       1.00      1.00      1.00      6935\n",
      "           1       0.11      1.00      0.20         4\n",
      "\n",
      "    accuracy                           1.00      6939\n",
      "   macro avg       0.56      1.00      0.60      6939\n",
      "weighted avg       1.00      1.00      1.00      6939\n",
      " \n",
      "\n",
      "\n",
      "******************************************************* \n",
      "Matthews Correlation (MCC) for 2019Q2 is -0.0\n",
      "******************************************************* \n",
      "Out-of-sample (OOS) Classification Report for 2019Q2:\n",
      "              precision    recall  f1-score   support\n",
      "\n",
      "           0       1.00      1.00      1.00      5193\n",
      "           1       0.00      0.00      0.00         1\n",
      "\n",
      "    accuracy                           1.00      5194\n",
      "   macro avg       0.50      0.50      0.50      5194\n",
      "weighted avg       1.00      1.00      1.00      5194\n",
      " \n",
      "\n",
      "\n"
     ]
    }
   ],
   "source": [
    "pd.set_option('use_inf_as_na', True)\n",
    "\n",
    "oos_reports = ['2010Q4', '2011Q1', '2011Q2', '2011Q3', '2011Q4', '2012Q1', '2012Q2', \n",
    "               '2012Q3', '2012Q4', '2019Q2']\n",
    "\n",
    "for report in oos_reports:\n",
    "    \n",
    "    oos_df = pd.read_csv('oos/camel_data_after{}_OOS.csv'.format(report))\n",
    "    oos_df.replace([np.inf, -np.inf], np.nan)\n",
    "    oos_df.dropna(inplace=True)\n",
    "    \n",
    "    y_oos = oos_df['Target']\n",
    "    X_oos = oos_df[['EQTA', 'EQTL', 'LLRTA', 'LLRGL', 'OEXTA', 'INCEMP', 'ROA', 'ROE', \n",
    "                    'TDTL', 'TDTA', 'TATA']].copy()\n",
    "    X_oos_scaled = X_scaler.transform(X_oos) \n",
    "    \n",
    "    predictions_oos = clf_best.predict(X_oos_scaled)\n",
    "    mcc = np.round(matthews_corrcoef(y_oos, predictions_oos), 2)\n",
    "    \n",
    "    # Generate out-of-sample MCC and classification report \n",
    "    print(\"*\" * 55, \"\\nMatthews Correlation (MCC) for {} is {}\".format(report, mcc))\n",
    "    print(\"*\" * 55,\"\\nOut-of-sample (OOS) Classification Report for {}:\".format(report))\n",
    "    print(classification_report(y_oos, predictions_oos), \"\\n\\n\")\n",
    "   \n",
    "  "
   ]
  },
  {
   "cell_type": "code",
   "execution_count": 158,
   "metadata": {},
   "outputs": [
    {
     "data": {
      "text/plain": [
       "19.0"
      ]
     },
     "execution_count": 158,
     "metadata": {},
     "output_type": "execute_result"
    }
   ],
   "source": [
    "0.76*25"
   ]
  },
  {
   "cell_type": "markdown",
   "metadata": {},
   "source": [
    "## Visual Data Analysis"
   ]
  },
  {
   "cell_type": "code",
   "execution_count": 181,
   "metadata": {},
   "outputs": [
    {
     "data": {
      "image/png": "[encoded data removed]",
      "text/plain": [
       "<Figure size 432x288 with 1 Axes>"
      ]
     },
     "metadata": {
      "needs_background": "light"
     },
     "output_type": "display_data"
    }
   ],
   "source": [
    "df = pd.read_csv('data/failed_universe.csv', index_col=0)\n",
    "df.groupby('AsOfDate').Target.count().plot(kind='bar')\n",
    "plt.show()"
   ]
  },
  {
   "cell_type": "code",
   "execution_count": 183,
   "metadata": {},
   "outputs": [
    {
     "data": {
      "text/html": [
       "<div>\n",
       "<style scoped>\n",
       "    .dataframe tbody tr th:only-of-type {\n",
       "        vertical-align: middle;\n",
       "    }\n",
       "\n",
       "    .dataframe tbody tr th {\n",
       "        vertical-align: top;\n",
       "    }\n",
       "\n",
       "    .dataframe thead th {\n",
       "        text-align: right;\n",
       "    }\n",
       "</style>\n",
       "<table border=\"1\" class=\"dataframe\">\n",
       "  <thead>\n",
       "    <tr style=\"text-align: right;\">\n",
       "      <th></th>\n",
       "      <th>City</th>\n",
       "      <th>ST</th>\n",
       "      <th>CERT</th>\n",
       "      <th>Acquiring Institution</th>\n",
       "      <th>Closing Date</th>\n",
       "      <th>Updated Date</th>\n",
       "    </tr>\n",
       "    <tr>\n",
       "      <th>Bank Name</th>\n",
       "      <th></th>\n",
       "      <th></th>\n",
       "      <th></th>\n",
       "      <th></th>\n",
       "      <th></th>\n",
       "      <th></th>\n",
       "    </tr>\n",
       "  </thead>\n",
       "  <tbody>\n",
       "    <tr>\n",
       "      <th>Superior Bank, FSB</th>\n",
       "      <td>Hinsdale</td>\n",
       "      <td>IL</td>\n",
       "      <td>32646</td>\n",
       "      <td>Superior Federal, FSB</td>\n",
       "      <td>27-Jul-01</td>\n",
       "      <td>19-Aug-14</td>\n",
       "    </tr>\n",
       "    <tr>\n",
       "      <th>Malta National Bank</th>\n",
       "      <td>Malta</td>\n",
       "      <td>OH</td>\n",
       "      <td>6629</td>\n",
       "      <td>North Valley Bank</td>\n",
       "      <td>3-May-01</td>\n",
       "      <td>18-Nov-02</td>\n",
       "    </tr>\n",
       "    <tr>\n",
       "      <th>First Alliance Bank &amp; Trust Co.</th>\n",
       "      <td>Manchester</td>\n",
       "      <td>NH</td>\n",
       "      <td>34264</td>\n",
       "      <td>Southern New Hampshire Bank &amp; Trust</td>\n",
       "      <td>2-Feb-01</td>\n",
       "      <td>18-Feb-03</td>\n",
       "    </tr>\n",
       "    <tr>\n",
       "      <th>National State Bank of Metropolis</th>\n",
       "      <td>Metropolis</td>\n",
       "      <td>IL</td>\n",
       "      <td>3815</td>\n",
       "      <td>Banterra Bank of Marion</td>\n",
       "      <td>14-Dec-00</td>\n",
       "      <td>17-Mar-05</td>\n",
       "    </tr>\n",
       "    <tr>\n",
       "      <th>Bank of Honolulu</th>\n",
       "      <td>Honolulu</td>\n",
       "      <td>HI</td>\n",
       "      <td>21029</td>\n",
       "      <td>Bank of the Orient</td>\n",
       "      <td>13-Oct-00</td>\n",
       "      <td>17-Mar-05</td>\n",
       "    </tr>\n",
       "  </tbody>\n",
       "</table>\n",
       "</div>"
      ],
      "text/plain": [
       "                                         City  ST   CERT  \\\n",
       "Bank Name                                                  \n",
       "Superior Bank, FSB                   Hinsdale  IL  32646   \n",
       "Malta National Bank                     Malta  OH   6629   \n",
       "First Alliance Bank & Trust Co.    Manchester  NH  34264   \n",
       "National State Bank of Metropolis  Metropolis  IL   3815   \n",
       "Bank of Honolulu                     Honolulu  HI  21029   \n",
       "\n",
       "                                                 Acquiring Institution  \\\n",
       "Bank Name                                                                \n",
       "Superior Bank, FSB                               Superior Federal, FSB   \n",
       "Malta National Bank                                  North Valley Bank   \n",
       "First Alliance Bank & Trust Co.    Southern New Hampshire Bank & Trust   \n",
       "National State Bank of Metropolis              Banterra Bank of Marion   \n",
       "Bank of Honolulu                                    Bank of the Orient   \n",
       "\n",
       "                                  Closing Date Updated Date  \n",
       "Bank Name                                                    \n",
       "Superior Bank, FSB                   27-Jul-01    19-Aug-14  \n",
       "Malta National Bank                   3-May-01    18-Nov-02  \n",
       "First Alliance Bank & Trust Co.       2-Feb-01    18-Feb-03  \n",
       "National State Bank of Metropolis    14-Dec-00    17-Mar-05  \n",
       "Bank of Honolulu                     13-Oct-00    17-Mar-05  "
      ]
     },
     "execution_count": 183,
     "metadata": {},
     "output_type": "execute_result"
    }
   ],
   "source": [
    "df2 = pd.read_csv('data/failed_banks_dataset.csv', index_col=0)\n",
    "df2.tail()"
   ]
  },
  {
   "cell_type": "code",
   "execution_count": 192,
   "metadata": {},
   "outputs": [
    {
     "data": {
      "text/html": [
       "<div>\n",
       "<style scoped>\n",
       "    .dataframe tbody tr th:only-of-type {\n",
       "        vertical-align: middle;\n",
       "    }\n",
       "\n",
       "    .dataframe tbody tr th {\n",
       "        vertical-align: top;\n",
       "    }\n",
       "\n",
       "    .dataframe thead th {\n",
       "        text-align: right;\n",
       "    }\n",
       "</style>\n",
       "<table border=\"1\" class=\"dataframe\">\n",
       "  <thead>\n",
       "    <tr style=\"text-align: right;\">\n",
       "      <th></th>\n",
       "      <th>12/31/2002</th>\n",
       "      <th>3/31/2003</th>\n",
       "      <th>6/30/2003</th>\n",
       "      <th>9/30/2003</th>\n",
       "      <th>12/31/2003</th>\n",
       "      <th>3/31/2004</th>\n",
       "      <th>6/30/2004</th>\n",
       "      <th>9/30/2004</th>\n",
       "      <th>12/31/2004</th>\n",
       "      <th>3/31/2005</th>\n",
       "      <th>...</th>\n",
       "      <th>3/31/2017</th>\n",
       "      <th>6/30/2017</th>\n",
       "      <th>9/30/2017</th>\n",
       "      <th>12/31/2017</th>\n",
       "      <th>3/31/2018</th>\n",
       "      <th>6/30/2018</th>\n",
       "      <th>9/30/2018</th>\n",
       "      <th>12/31/2018</th>\n",
       "      <th>3/31/2019</th>\n",
       "      <th>6/30/2019</th>\n",
       "    </tr>\n",
       "  </thead>\n",
       "  <tbody>\n",
       "    <tr>\n",
       "      <th>0</th>\n",
       "      <td>37.0</td>\n",
       "      <td>37.0</td>\n",
       "      <td>37.0</td>\n",
       "      <td>37.0</td>\n",
       "      <td>37.0</td>\n",
       "      <td>37.0</td>\n",
       "      <td>37.0</td>\n",
       "      <td>37.0</td>\n",
       "      <td>37.0</td>\n",
       "      <td>37.0</td>\n",
       "      <td>...</td>\n",
       "      <td>37.0</td>\n",
       "      <td>37.0</td>\n",
       "      <td>37.0</td>\n",
       "      <td>37.0</td>\n",
       "      <td>37.0</td>\n",
       "      <td>37.0</td>\n",
       "      <td>37.0</td>\n",
       "      <td>37.0</td>\n",
       "      <td>37.0</td>\n",
       "      <td>37.0</td>\n",
       "    </tr>\n",
       "    <tr>\n",
       "      <th>1</th>\n",
       "      <td>242.0</td>\n",
       "      <td>242.0</td>\n",
       "      <td>242.0</td>\n",
       "      <td>242.0</td>\n",
       "      <td>242.0</td>\n",
       "      <td>242.0</td>\n",
       "      <td>242.0</td>\n",
       "      <td>242.0</td>\n",
       "      <td>242.0</td>\n",
       "      <td>242.0</td>\n",
       "      <td>...</td>\n",
       "      <td>242.0</td>\n",
       "      <td>242.0</td>\n",
       "      <td>242.0</td>\n",
       "      <td>242.0</td>\n",
       "      <td>242.0</td>\n",
       "      <td>242.0</td>\n",
       "      <td>242.0</td>\n",
       "      <td>242.0</td>\n",
       "      <td>242.0</td>\n",
       "      <td>242.0</td>\n",
       "    </tr>\n",
       "    <tr>\n",
       "      <th>2</th>\n",
       "      <td>279.0</td>\n",
       "      <td>279.0</td>\n",
       "      <td>279.0</td>\n",
       "      <td>279.0</td>\n",
       "      <td>279.0</td>\n",
       "      <td>279.0</td>\n",
       "      <td>279.0</td>\n",
       "      <td>279.0</td>\n",
       "      <td>279.0</td>\n",
       "      <td>279.0</td>\n",
       "      <td>...</td>\n",
       "      <td>279.0</td>\n",
       "      <td>279.0</td>\n",
       "      <td>279.0</td>\n",
       "      <td>279.0</td>\n",
       "      <td>279.0</td>\n",
       "      <td>279.0</td>\n",
       "      <td>279.0</td>\n",
       "      <td>279.0</td>\n",
       "      <td>279.0</td>\n",
       "      <td>279.0</td>\n",
       "    </tr>\n",
       "    <tr>\n",
       "      <th>3</th>\n",
       "      <td>354.0</td>\n",
       "      <td>354.0</td>\n",
       "      <td>354.0</td>\n",
       "      <td>354.0</td>\n",
       "      <td>354.0</td>\n",
       "      <td>354.0</td>\n",
       "      <td>354.0</td>\n",
       "      <td>354.0</td>\n",
       "      <td>354.0</td>\n",
       "      <td>354.0</td>\n",
       "      <td>...</td>\n",
       "      <td>354.0</td>\n",
       "      <td>354.0</td>\n",
       "      <td>354.0</td>\n",
       "      <td>354.0</td>\n",
       "      <td>354.0</td>\n",
       "      <td>354.0</td>\n",
       "      <td>354.0</td>\n",
       "      <td>354.0</td>\n",
       "      <td>354.0</td>\n",
       "      <td>354.0</td>\n",
       "    </tr>\n",
       "    <tr>\n",
       "      <th>4</th>\n",
       "      <td>439.0</td>\n",
       "      <td>439.0</td>\n",
       "      <td>439.0</td>\n",
       "      <td>439.0</td>\n",
       "      <td>439.0</td>\n",
       "      <td>439.0</td>\n",
       "      <td>439.0</td>\n",
       "      <td>439.0</td>\n",
       "      <td>439.0</td>\n",
       "      <td>439.0</td>\n",
       "      <td>...</td>\n",
       "      <td>457.0</td>\n",
       "      <td>457.0</td>\n",
       "      <td>457.0</td>\n",
       "      <td>457.0</td>\n",
       "      <td>457.0</td>\n",
       "      <td>457.0</td>\n",
       "      <td>457.0</td>\n",
       "      <td>457.0</td>\n",
       "      <td>457.0</td>\n",
       "      <td>457.0</td>\n",
       "    </tr>\n",
       "  </tbody>\n",
       "</table>\n",
       "<p>5 rows × 67 columns</p>\n",
       "</div>"
      ],
      "text/plain": [
       "   12/31/2002  3/31/2003  6/30/2003  9/30/2003  12/31/2003  3/31/2004  \\\n",
       "0        37.0       37.0       37.0       37.0        37.0       37.0   \n",
       "1       242.0      242.0      242.0      242.0       242.0      242.0   \n",
       "2       279.0      279.0      279.0      279.0       279.0      279.0   \n",
       "3       354.0      354.0      354.0      354.0       354.0      354.0   \n",
       "4       439.0      439.0      439.0      439.0       439.0      439.0   \n",
       "\n",
       "   6/30/2004  9/30/2004  12/31/2004  3/31/2005  ...  3/31/2017  6/30/2017  \\\n",
       "0       37.0       37.0        37.0       37.0  ...       37.0       37.0   \n",
       "1      242.0      242.0       242.0      242.0  ...      242.0      242.0   \n",
       "2      279.0      279.0       279.0      279.0  ...      279.0      279.0   \n",
       "3      354.0      354.0       354.0      354.0  ...      354.0      354.0   \n",
       "4      439.0      439.0       439.0      439.0  ...      457.0      457.0   \n",
       "\n",
       "   9/30/2017  12/31/2017  3/31/2018  6/30/2018  9/30/2018  12/31/2018  \\\n",
       "0       37.0        37.0       37.0       37.0       37.0        37.0   \n",
       "1      242.0       242.0      242.0      242.0      242.0       242.0   \n",
       "2      279.0       279.0      279.0      279.0      279.0       279.0   \n",
       "3      354.0       354.0      354.0      354.0      354.0       354.0   \n",
       "4      457.0       457.0      457.0      457.0      457.0       457.0   \n",
       "\n",
       "   3/31/2019  6/30/2019  \n",
       "0       37.0       37.0  \n",
       "1      242.0      242.0  \n",
       "2      279.0      279.0  \n",
       "3      354.0      354.0  \n",
       "4      457.0      457.0  \n",
       "\n",
       "[5 rows x 67 columns]"
      ]
     },
     "execution_count": 192,
     "metadata": {},
     "output_type": "execute_result"
    }
   ],
   "source": [
    "df3 = pd.read_csv('data/core_banks_dataset.csv')\n",
    "df3.head()"
   ]
  },
  {
   "cell_type": "code",
   "execution_count": 193,
   "metadata": {},
   "outputs": [
    {
     "data": {
      "text/plain": [
       "(8468, 67)"
      ]
     },
     "execution_count": 193,
     "metadata": {},
     "output_type": "execute_result"
    }
   ],
   "source": [
    "df3.shape"
   ]
  },
  {
   "cell_type": "code",
   "execution_count": null,
   "metadata": {},
   "outputs": [],
   "source": []
  }
 ],
 "metadata": {
  "kernelspec": {
   "display_name": "Python 3",
   "language": "python",
   "name": "python3"
  },
  "language_info": {
   "codemirror_mode": {
    "name": "ipython",
    "version": 3
   },
   "file_extension": ".py",
   "mimetype": "text/x-python",
   "name": "python",
   "nbconvert_exporter": "python",
   "pygments_lexer": "ipython3",
   "version": "3.8.3"
  }
 },
 "nbformat": 4,
 "nbformat_minor": 4
}
