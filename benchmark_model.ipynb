{
 "cells": [
  {
   "cell_type": "markdown",
   "metadata": {},
   "source": [
    "# Banks classification model\n",
    "Note: this research presents preliminary findings and is being distributed to interested readers solely to stimulate discussion and elicit comments."
   ]
  },
  {
   "cell_type": "markdown",
   "metadata": {},
   "source": [
    "## 0. Introduction\n",
    "The primary objective is to develop an early warning system, i.e. binary classification failed (1) vs. healthy (0), for regulated banks using their quarterly filings with the FDIC. There was a significant increase in the number of failing banks during from 2009 and 2012. Historical data from the first 8 quarters ending 2010Q3 (`./data`) is used to train the model and out-of-sample testing is performed on quarterly data ending 2012Q4 (`./oos`). Overall, 137 failed banks and 6,877 surviving banks were used for then modeling. For more information on methodology please view `CAMELS.md` file included in the repository."
   ]
  },
  {
   "cell_type": "markdown",
   "metadata": {},
   "source": [
    "#### CALL reports empirical data \n",
    "Approximately 2,000 preliminary features were obtained for every bank instance from \"Report of Condition and Income\" (CALL report) using publicly available SOAP APIs. Eventually, only 14 features were used for classification. For more information please visit https://www.investopedia.com/terms/c/callreport.asp"
   ]
  },
  {
   "cell_type": "raw",
   "metadata": {},
   "source": [
    "selected_features = {'RIAD3210' : 'Total equity capital', \n",
    "                     'RCON2170' : 'Total assets', \n",
    "                     'RCON3360' : 'Total loans',\n",
    "                     'RCON3465' : '1-4 family residential loans',\n",
    "                     'RCON3466' : 'Other real estate loans',\n",
    "                     'RCON3387' : 'Commercial and industrial loans',\n",
    "                     'RCONB561' : 'Credit cards',\n",
    "                     'RCON3123' : 'Allowance for loan losses',\n",
    "                     'RIAD4093' : 'Total noninterest expense', \n",
    "                     'RIAD4300' : 'Net Income before',\n",
    "                     'RCON2215' : 'Total transaction deposits',\n",
    "                     'RCON2385' : 'Total nontransaction deposits',\n",
    "                     'RCON1773' : 'Available-for-sale Fair Value',\n",
    "                     'RIAD4150' : 'Number of full-time employees'}"
   ]
  },
  {
   "cell_type": "markdown",
   "metadata": {},
   "source": [
    "### CAMELS featurization \n",
    "Selected financial ratios listed above were used to produce unique risk profiles according to CAMELS valuation framework. This framework is used to assess performance along 6 risk dimensions, namely Capital, Assets, Management, Earnings, Liquidity, and Sensitivity to market risk, hence the abbreviation. For more information please visit https://en.wikipedia.org/wiki/CAMELS_rating_system\n",
    "1. Capital adequace will be measure by \n",
    "        - 'EQTA' = Total Equity / Total Assets\n",
    "        - 'EQTL' = Total Equity / Total Loans\n",
    "2. Asset quality will be measure by \n",
    "        - 'NPLTA' = Non Performing Loans / Total Assets\n",
    "        - 'NPLGL' = Non Performing Loans / Gross Loans\n",
    "        - 'LLRTA' = Loan Loss Reserves / Total Assets\n",
    "        - 'LLRGL' = Loan Loss Reserves / Gross Loans\n",
    "3. Management quality will be measure by \n",
    "        - 'OCNOI' = Operating Costs / Net Operating Income\n",
    "        - 'OEXTA' = Operating Expenses / Assets\n",
    "4. Earnings ability will be measure by \n",
    "        - 'ROA' = Net Income / Total Assets\n",
    "        - 'ROE' = Net Income / Total Equity\n",
    "5. Liquidity, ability to fulfill its short-term liability, will be measure by \n",
    "        - 'TLTD' = Total Loans / Total Customer Deposits\n",
    "        - 'TDTA' = Total Customer Deposits / Total Assets\n",
    "6. Sensitivity to market risk will be measure by \n",
    "        - 'TINOI = Trading Income / Net Operating Income"
   ]
  },
  {
   "cell_type": "markdown",
   "metadata": {},
   "source": [
    "## 1. Preprocessing"
   ]
  },
  {
   "cell_type": "code",
   "execution_count": 213,
   "metadata": {},
   "outputs": [],
   "source": [
    "import pandas as pd\n",
    "import numpy as np\n",
    "import matplotlib.pyplot as plt \n",
    "from sklearn.preprocessing import StandardScaler\n",
    "from sklearn.model_selection import train_test_split, cross_val_predict, validation_curve, GridSearchCV\n",
    "from sklearn.metrics import confusion_matrix, accuracy_score, classification_report, precision_recall_curve \n",
    "from sklearn.metrics import plot_precision_recall_curve, average_precision_score\n",
    "from sklearn.metrics import precision_recall_curve, roc_curve, matthews_corrcoef\n",
    "from sklearn.ensemble import GradientBoostingClassifier\n",
    "%matplotlib inline\n",
    "import pydotplus\n",
    "from IPython.display import Image"
   ]
  },
  {
   "cell_type": "code",
   "execution_count": 200,
   "metadata": {},
   "outputs": [],
   "source": [
    "file_path = \"data/camel_data_after2010Q3.csv\"\n",
    "banks_df = pd.read_csv(file_path, index_col=0)"
   ]
  },
  {
   "cell_type": "markdown",
   "metadata": {},
   "source": [
    "Check if there are any missing values and drop `null`"
   ]
  },
  {
   "cell_type": "code",
   "execution_count": 201,
   "metadata": {},
   "outputs": [],
   "source": [
    "banks_df.dropna(inplace=True)"
   ]
  },
  {
   "cell_type": "markdown",
   "metadata": {},
   "source": [
    "Show the features of failed banks (Target of 1) and count them"
   ]
  },
  {
   "cell_type": "code",
   "execution_count": 202,
   "metadata": {},
   "outputs": [
    {
     "data": {
      "text/plain": [
       "AsOfDate    137\n",
       "Target      137\n",
       "EQTA        137\n",
       "EQTL        137\n",
       "LLRTA       137\n",
       "LLRGL       137\n",
       "OEXTA       137\n",
       "INCEMP      137\n",
       "ROA         137\n",
       "ROE         137\n",
       "TDTL        137\n",
       "TDTA        137\n",
       "TATA        137\n",
       "dtype: int64"
      ]
     },
     "execution_count": 202,
     "metadata": {},
     "output_type": "execute_result"
    }
   ],
   "source": [
    "banks_df.loc[banks_df.Target == 1].count()"
   ]
  },
  {
   "cell_type": "markdown",
   "metadata": {},
   "source": [
    "Take a copy of predictors and store in X, count all instances available."
   ]
  },
  {
   "cell_type": "code",
   "execution_count": 203,
   "metadata": {},
   "outputs": [
    {
     "data": {
      "text/plain": [
       "7014"
      ]
     },
     "execution_count": 203,
     "metadata": {},
     "output_type": "execute_result"
    }
   ],
   "source": [
    "X = banks_df[['EQTA', 'EQTL', 'LLRTA', 'LLRGL', 'OEXTA', 'INCEMP', 'ROA', 'ROE', 'TDTL', 'TDTA', 'TATA']].copy()\n",
    "len(X)"
   ]
  },
  {
   "cell_type": "markdown",
   "metadata": {},
   "source": [
    "Define the target vector y and reshape it as well."
   ]
  },
  {
   "cell_type": "code",
   "execution_count": 204,
   "metadata": {},
   "outputs": [],
   "source": [
    "y = banks_df[\"Target\"].values.reshape(-1, 1)"
   ]
  },
  {
   "cell_type": "markdown",
   "metadata": {},
   "source": [
    "## 2. Developing basic Gradient Boosting Classifier "
   ]
  },
  {
   "cell_type": "markdown",
   "metadata": {},
   "source": [
    "First train/test split, note `random_state=123` for the auditing purposes."
   ]
  },
  {
   "cell_type": "code",
   "execution_count": 205,
   "metadata": {},
   "outputs": [],
   "source": [
    "X_train, X_test, y_train, y_test = train_test_split(X, y, random_state=123)"
   ]
  },
  {
   "cell_type": "markdown",
   "metadata": {},
   "source": [
    "Creating `StandardScaler` object and fitting, i.e. removing the mean and scaling to unit variance."
   ]
  },
  {
   "cell_type": "code",
   "execution_count": 206,
   "metadata": {},
   "outputs": [],
   "source": [
    "scaler = StandardScaler()\n",
    "X_scaler = scaler.fit(X_train)"
   ]
  },
  {
   "cell_type": "markdown",
   "metadata": {},
   "source": [
    "Transforming training and testing features data using the fitted scaler."
   ]
  },
  {
   "cell_type": "code",
   "execution_count": 207,
   "metadata": {},
   "outputs": [],
   "source": [
    "X_train_scaled = X_scaler.transform(X_train)\n",
    "X_test_scaled = X_scaler.transform(X_test)"
   ]
  },
  {
   "cell_type": "markdown",
   "metadata": {},
   "source": [
    "### 3. Optimizing Sensitivity (Minimizing Type II Error) with `GridSearch`"
   ]
  },
  {
   "cell_type": "code",
   "execution_count": 118,
   "metadata": {},
   "outputs": [
    {
     "data": {
      "text/plain": [
       "{'learning_rate': 0.1, 'max_depth': 2, 'max_features': 5, 'n_estimators': 20}"
      ]
     },
     "execution_count": 118,
     "metadata": {},
     "output_type": "execute_result"
    }
   ],
   "source": [
    "param_grid = {'learning_rate': [0.05, 0.1, 0.2, 0.5, 0.7, 0.8, 0.9], \n",
    "             \"n_estimators\" : [20, 30, 40, 50],\n",
    "              \"max_features\": [2, 3, 4, 5],\n",
    "              \"max_depth\" : [2, 3, 4, 5]} \n",
    "\n",
    "grid = GridSearchCV(GradientBoostingClassifier(), param_grid, scoring = 'recall', cv=5)\n",
    "grid.fit(X, y.ravel());\n",
    "grid.best_params_"
   ]
  },
  {
   "cell_type": "markdown",
   "metadata": {},
   "source": [
    "Take note of these parameters listed below:\n",
    "\n",
    "    `{'learning_rate': 0.1, 'max_depth': 2, 'max_features': 5, 'n_estimators': 20}`"
   ]
  },
  {
   "cell_type": "markdown",
   "metadata": {},
   "source": [
    "Take note of four evaluation metrics:\n",
    "- Accuracy: (TP + TN)/(TP + TN + FP + FN)\n",
    "- Misclassification Rate: 1 - Accuracy or (FP + FN)/(TP + TN + FP + FN)\n",
    "- Sensitivity (Recall or True Positive Rate): TP / (TP + FN)\n",
    "- Specificity: TN / (TN + FN)\n",
    "- False Positive Rate: FP / (TN + FP)\n",
    "- Precision: TP / (TP + FP)"
   ]
  },
  {
   "cell_type": "markdown",
   "metadata": {},
   "source": [
    "### 4. Evaluating the best model"
   ]
  },
  {
   "cell_type": "code",
   "execution_count": 208,
   "metadata": {},
   "outputs": [
    {
     "name": "stdout",
     "output_type": "stream",
     "text": [
      "Testing accuracy: 98.746%\n"
     ]
    }
   ],
   "source": [
    "clf_best = GradientBoostingClassifier(n_estimators=20,\n",
    "                                     learning_rate=0.1,\n",
    "                                     max_features=5,\n",
    "                                     max_depth=2,\n",
    "                                     random_state=123)\n",
    "\n",
    "clf_best.fit(X_train_scaled, y_train.ravel())\n",
    "predictions = clf_best.predict(X_test_scaled)\n",
    "print(\"Testing accuracy: {0:.3f}%\".format(accuracy_score(predictions, y_test) * 100 ))"
   ]
  },
  {
   "cell_type": "markdown",
   "metadata": {},
   "source": [
    "#### Check for Null Accuracy, i.e. always predicting majority class. \n",
    "Start with class distribution below:"
   ]
  },
  {
   "cell_type": "code",
   "execution_count": 209,
   "metadata": {},
   "outputs": [
    {
     "data": {
      "text/plain": [
       "0    1725\n",
       "1      29\n",
       "Name: y_true, dtype: int64"
      ]
     },
     "execution_count": 209,
     "metadata": {},
     "output_type": "execute_result"
    }
   ],
   "source": [
    "y_true = pd.DataFrame(y_test, columns=['y_true'])\n",
    "y_true[\"y_true\"].value_counts()"
   ]
  },
  {
   "cell_type": "code",
   "execution_count": 210,
   "metadata": {},
   "outputs": [
    {
     "name": "stdout",
     "output_type": "stream",
     "text": [
      "Calculate the percentage of ones: 1.653%\n"
     ]
    }
   ],
   "source": [
    "print('Calculate the percentage of ones: {0:.3f}%'.format(y_true[\"y_true\"].mean() * 100))"
   ]
  },
  {
   "cell_type": "code",
   "execution_count": 135,
   "metadata": {},
   "outputs": [
    {
     "name": "stdout",
     "output_type": "stream",
     "text": [
      "Calculate Null accuracy for binary classification: 98.347%\n"
     ]
    }
   ],
   "source": [
    "print('Calculate Null accuracy for binary classification: {0:.3f}%'.format(\n",
    "    max(y_true[\"y_true\"].mean(), 1 - y_true[\"y_true\"].mean()) *100))"
   ]
  },
  {
   "cell_type": "markdown",
   "metadata": {},
   "source": [
    "#### Model Performance over Thresholds\n",
    "The precision-recall curve plots the relationship between precision and recall as the decision threshold changes. Recall is the ability of a model to detect all positive samples and precision is the ability of a model to avoid labeling negative samples as positive. Some business problems might require higher recall and some higher precision depending on the relative importance of avoiding false negatives vs false positives. \n",
    "\n",
    "Source: https://docs.microsoft.com/en-us/azure/machine-learning/how-to-understand-automated-ml#precision-recall-curve"
   ]
  },
  {
   "cell_type": "code",
   "execution_count": 218,
   "metadata": {},
   "outputs": [
    {
     "name": "stdout",
     "output_type": "stream",
     "text": [
      "2-class Precision-Recall curve: Avg. Precision=0.66\n"
     ]
    },
    {
     "data": {
      "image/png": "[encoded data removed]",
      "text/plain": [
       "<Figure size 432x288 with 1 Axes>"
      ]
     },
     "metadata": {
      "needs_background": "light"
     },
     "output_type": "display_data"
    }
   ],
   "source": [
    "y_score = clf_best.decision_function(X_test_scaled)\n",
    "average_precision = average_precision_score(y_test, y_score)\n",
    "disp = plot_precision_recall_curve(clf_best, X_test_scaled, y_test)\n",
    "print('2-class Precision-Recall curve: Avg. Precision={0:0.2f}'.format(average_precision))\n",
    "plt.grid(True)"
   ]
  },
  {
   "cell_type": "markdown",
   "metadata": {},
   "source": [
    "The receiver operating characteristic (ROC) curve plots the relationship between true positive rate (TPR) and false positive rate (FPR) as the decision threshold changes. The area under the curve (AUC) can be interpreted as the proportion of correctly classified samples. More precisely, the AUC is the probability that the classifier ranks a randomly chosen positive sample higher than a randomly chosen negative sample. The shape of the curve gives an intuition for relationship between TPR and FPR as a function of the classification threshold or decision boundary. \n",
    "\n",
    "Source: https://docs.microsoft.com/en-us/azure/machine-learning/how-to-understand-automated-ml#roc-curve"
   ]
  },
  {
   "cell_type": "code",
   "execution_count": 217,
   "metadata": {},
   "outputs": [
    {
     "data": {
      "image/png": "[encoded data removed]",
      "text/plain": [
       "<Figure size 432x288 with 1 Axes>"
      ]
     },
     "metadata": {
      "needs_background": "light"
     },
     "output_type": "display_data"
    }
   ],
   "source": [
    "from sklearn.metrics import plot_roc_curve\n",
    "clf_best_disp = plot_roc_curve(clf_best, X_test_scaled, y_test)\n",
    "clf_best_disp.plot(ax=ax, alpha=0.8)\n",
    "plt.grid(True)\n",
    "plt.show()"
   ]
  },
  {
   "cell_type": "markdown",
   "metadata": {},
   "source": [
    "#### Generate the confusion matrix"
   ]
  },
  {
   "cell_type": "code",
   "execution_count": 138,
   "metadata": {},
   "outputs": [
    {
     "data": {
      "text/html": [
       "<div>\n",
       "<style scoped>\n",
       "    .dataframe tbody tr th:only-of-type {\n",
       "        vertical-align: middle;\n",
       "    }\n",
       "\n",
       "    .dataframe tbody tr th {\n",
       "        vertical-align: top;\n",
       "    }\n",
       "\n",
       "    .dataframe thead th {\n",
       "        text-align: right;\n",
       "    }\n",
       "</style>\n",
       "<table border=\"1\" class=\"dataframe\">\n",
       "  <thead>\n",
       "    <tr style=\"text-align: right;\">\n",
       "      <th></th>\n",
       "      <th>Predicted 0</th>\n",
       "      <th>Predicted 1</th>\n",
       "    </tr>\n",
       "  </thead>\n",
       "  <tbody>\n",
       "    <tr>\n",
       "      <th>True 0</th>\n",
       "      <td>1712</td>\n",
       "      <td>13</td>\n",
       "    </tr>\n",
       "    <tr>\n",
       "      <th>True 1</th>\n",
       "      <td>9</td>\n",
       "      <td>20</td>\n",
       "    </tr>\n",
       "  </tbody>\n",
       "</table>\n",
       "</div>"
      ],
      "text/plain": [
       "        Predicted 0  Predicted 1\n",
       "True 0         1712           13\n",
       "True 1            9           20"
      ]
     },
     "execution_count": 138,
     "metadata": {},
     "output_type": "execute_result"
    }
   ],
   "source": [
    "pd.DataFrame(confusion_matrix(y_test, predictions), index=[\"True 0\", \"True 1\"], \n",
    "             columns=[\"Predicted 0\", \"Predicted 1\"])"
   ]
  },
  {
   "cell_type": "code",
   "execution_count": 219,
   "metadata": {},
   "outputs": [
    {
     "data": {
      "text/plain": [
       "(1712, 13, 9, 20)"
      ]
     },
     "execution_count": 219,
     "metadata": {},
     "output_type": "execute_result"
    }
   ],
   "source": [
    "tn, fp, fn, tp = confusion_matrix(y_test, predictions).ravel()\n",
    "tn, fp, fn, tp"
   ]
  },
  {
   "cell_type": "code",
   "execution_count": 220,
   "metadata": {},
   "outputs": [
    {
     "name": "stdout",
     "output_type": "stream",
     "text": [
      "recall: 0.69\n",
      "precision: 0.61\n"
     ]
    }
   ],
   "source": [
    "print(\"recall: {0:.2f}\".format(tp/(tp+fn)))\n",
    "print(\"precision: {0:.2f}\".format(tp/(tp+fp))) #TP / (TP + FP)"
   ]
  },
  {
   "cell_type": "markdown",
   "metadata": {},
   "source": [
    "#### Compute Matthews correlation (MCC)"
   ]
  },
  {
   "cell_type": "code",
   "execution_count": 145,
   "metadata": {},
   "outputs": [
    {
     "name": "stdout",
     "output_type": "stream",
     "text": [
      "Matthews Correlation is 0.640\n"
     ]
    }
   ],
   "source": [
    "matthews_corrcoef(y_test, predictions)\n",
    "print(\"Matthews Correlation is {0:.3f}\".format(matthews_corrcoef(y_test, predictions)))"
   ]
  },
  {
   "cell_type": "markdown",
   "metadata": {},
   "source": [
    "#### Generate classification report"
   ]
  },
  {
   "cell_type": "code",
   "execution_count": 146,
   "metadata": {},
   "outputs": [
    {
     "name": "stdout",
     "output_type": "stream",
     "text": [
      "In-Sample Classification Report\n",
      "              precision    recall  f1-score   support\n",
      "\n",
      "           0       0.99      0.99      0.99      1725\n",
      "           1       0.61      0.69      0.65        29\n",
      "\n",
      "    accuracy                           0.99      1754\n",
      "   macro avg       0.80      0.84      0.82      1754\n",
      "weighted avg       0.99      0.99      0.99      1754\n",
      "\n"
     ]
    }
   ],
   "source": [
    "print(\"In-Sample Classification Report\")\n",
    "print(classification_report(y_test, predictions))"
   ]
  },
  {
   "cell_type": "markdown",
   "metadata": {},
   "source": [
    "### 5. Analysing rules that were learned in training"
   ]
  },
  {
   "cell_type": "markdown",
   "metadata": {},
   "source": [
    "#### Extracting rules and feature importances "
   ]
  },
  {
   "cell_type": "code",
   "execution_count": 115,
   "metadata": {},
   "outputs": [
    {
     "data": {
      "text/html": [
       "<div>\n",
       "<style scoped>\n",
       "    .dataframe tbody tr th:only-of-type {\n",
       "        vertical-align: middle;\n",
       "    }\n",
       "\n",
       "    .dataframe tbody tr th {\n",
       "        vertical-align: top;\n",
       "    }\n",
       "\n",
       "    .dataframe thead th {\n",
       "        text-align: right;\n",
       "    }\n",
       "</style>\n",
       "<table border=\"1\" class=\"dataframe\">\n",
       "  <thead>\n",
       "    <tr style=\"text-align: right;\">\n",
       "      <th></th>\n",
       "      <th>child_left</th>\n",
       "      <th>child_right</th>\n",
       "      <th>feature</th>\n",
       "      <th>threshold</th>\n",
       "    </tr>\n",
       "  </thead>\n",
       "  <tbody>\n",
       "    <tr>\n",
       "      <th>0</th>\n",
       "      <td>1</td>\n",
       "      <td>8</td>\n",
       "      <td>1</td>\n",
       "      <td>-0.023284</td>\n",
       "    </tr>\n",
       "    <tr>\n",
       "      <th>1</th>\n",
       "      <td>2</td>\n",
       "      <td>5</td>\n",
       "      <td>6</td>\n",
       "      <td>-2.327335</td>\n",
       "    </tr>\n",
       "    <tr>\n",
       "      <th>2</th>\n",
       "      <td>3</td>\n",
       "      <td>4</td>\n",
       "      <td>9</td>\n",
       "      <td>1.581137</td>\n",
       "    </tr>\n",
       "    <tr>\n",
       "      <th>3</th>\n",
       "      <td>-1</td>\n",
       "      <td>-1</td>\n",
       "      <td>-2</td>\n",
       "      <td>-2.000000</td>\n",
       "    </tr>\n",
       "    <tr>\n",
       "      <th>4</th>\n",
       "      <td>-1</td>\n",
       "      <td>-1</td>\n",
       "      <td>-2</td>\n",
       "      <td>-2.000000</td>\n",
       "    </tr>\n",
       "  </tbody>\n",
       "</table>\n",
       "</div>"
      ],
      "text/plain": [
       "   child_left  child_right  feature  threshold\n",
       "0           1            8        1  -0.023284\n",
       "1           2            5        6  -2.327335\n",
       "2           3            4        9   1.581137\n",
       "3          -1           -1       -2  -2.000000\n",
       "4          -1           -1       -2  -2.000000"
      ]
     },
     "execution_count": 115,
     "metadata": {},
     "output_type": "execute_result"
    }
   ],
   "source": [
    "n_classes, n_estimators = clf_best.estimators_.shape\n",
    "\n",
    "for c in range(n_classes):\n",
    "    \n",
    "    for t in range(n_estimators):\n",
    "        \n",
    "        dtree = clf_best.estimators_[c, t]\n",
    "        rules_df = pd.DataFrame({\n",
    "            'child_left': dtree.tree_.children_left,\n",
    "            'child_right': dtree.tree_.children_right,\n",
    "            'feature': dtree.tree_.feature,\n",
    "            'threshold': dtree.tree_.threshold,\n",
    "        })\n",
    "rules_df.head()"
   ]
  },
  {
   "cell_type": "markdown",
   "metadata": {},
   "source": [
    "### 6. Out-of-sample GBM testing "
   ]
  },
  {
   "cell_type": "code",
   "execution_count": 221,
   "metadata": {},
   "outputs": [
    {
     "name": "stdout",
     "output_type": "stream",
     "text": [
      "******************************************************* \n",
      "Matthews Correlation (MCC) for 2010Q4 is 0.66\n",
      "******************************************************* \n",
      "Out-of-sample (OOS) Classification Report for 2010Q4:\n",
      "              precision    recall  f1-score   support\n",
      "\n",
      "           0       1.00      1.00      1.00      6779\n",
      "           1       0.53      0.83      0.65        24\n",
      "\n",
      "    accuracy                           1.00      6803\n",
      "   macro avg       0.76      0.92      0.82      6803\n",
      "weighted avg       1.00      1.00      1.00      6803\n",
      " \n",
      "\n",
      "\n",
      "******************************************************* \n",
      "Matthews Correlation (MCC) for 2011Q1 is 0.49\n",
      "******************************************************* \n",
      "Out-of-sample (OOS) Classification Report for 2011Q1:\n",
      "              precision    recall  f1-score   support\n",
      "\n",
      "           0       1.00      0.99      1.00      6713\n",
      "           1       0.24      1.00      0.38        19\n",
      "\n",
      "    accuracy                           0.99      6732\n",
      "   macro avg       0.62      1.00      0.69      6732\n",
      "weighted avg       1.00      0.99      0.99      6732\n",
      " \n",
      "\n",
      "\n",
      "******************************************************* \n",
      "Matthews Correlation (MCC) for 2011Q2 is 0.45\n",
      "******************************************************* \n",
      "Out-of-sample (OOS) Classification Report for 2011Q2:\n",
      "              precision    recall  f1-score   support\n",
      "\n",
      "           0       1.00      0.99      1.00      6663\n",
      "           1       0.28      0.76      0.40        25\n",
      "\n",
      "    accuracy                           0.99      6688\n",
      "   macro avg       0.64      0.88      0.70      6688\n",
      "weighted avg       1.00      0.99      0.99      6688\n",
      " \n",
      "\n",
      "\n",
      "******************************************************* \n",
      "Matthews Correlation (MCC) for 2011Q3 is 0.49\n",
      "******************************************************* \n",
      "Out-of-sample (OOS) Classification Report for 2011Q3:\n",
      "              precision    recall  f1-score   support\n",
      "\n",
      "           0       1.00      0.99      1.00      6611\n",
      "           1       0.28      0.89      0.42        18\n",
      "\n",
      "    accuracy                           0.99      6629\n",
      "   macro avg       0.64      0.94      0.71      6629\n",
      "weighted avg       1.00      0.99      1.00      6629\n",
      " \n",
      "\n",
      "\n",
      "******************************************************* \n",
      "Matthews Correlation (MCC) for 2011Q4 is 0.48\n",
      "******************************************************* \n",
      "Out-of-sample (OOS) Classification Report for 2011Q4:\n",
      "              precision    recall  f1-score   support\n",
      "\n",
      "           0       1.00      0.99      1.00      6582\n",
      "           1       0.24      1.00      0.38        13\n",
      "\n",
      "    accuracy                           0.99      6595\n",
      "   macro avg       0.62      1.00      0.69      6595\n",
      "weighted avg       1.00      0.99      1.00      6595\n",
      " \n",
      "\n",
      "\n",
      "******************************************************* \n",
      "Matthews Correlation (MCC) for 2012Q1 is 0.42\n",
      "******************************************************* \n",
      "Out-of-sample (OOS) Classification Report for 2012Q1:\n",
      "              precision    recall  f1-score   support\n",
      "\n",
      "           0       1.00      0.99      1.00      7160\n",
      "           1       0.19      0.93      0.31        15\n",
      "\n",
      "    accuracy                           0.99      7175\n",
      "   macro avg       0.59      0.96      0.66      7175\n",
      "weighted avg       1.00      0.99      0.99      7175\n",
      " \n",
      "\n",
      "\n",
      "******************************************************* \n",
      "Matthews Correlation (MCC) for 2012Q2 is 0.43\n",
      "******************************************************* \n",
      "Out-of-sample (OOS) Classification Report for 2012Q2:\n",
      "              precision    recall  f1-score   support\n",
      "\n",
      "           0       1.00      0.99      1.00      7097\n",
      "           1       0.21      0.92      0.34        12\n",
      "\n",
      "    accuracy                           0.99      7109\n",
      "   macro avg       0.60      0.96      0.67      7109\n",
      "weighted avg       1.00      0.99      1.00      7109\n",
      " \n",
      "\n",
      "\n",
      "******************************************************* \n",
      "Matthews Correlation (MCC) for 2012Q3 is 0.46\n",
      "******************************************************* \n",
      "Out-of-sample (OOS) Classification Report for 2012Q3:\n",
      "              precision    recall  f1-score   support\n",
      "\n",
      "           0       1.00      1.00      1.00      7033\n",
      "           1       0.22      1.00      0.36         8\n",
      "\n",
      "    accuracy                           1.00      7041\n",
      "   macro avg       0.61      1.00      0.68      7041\n",
      "weighted avg       1.00      1.00      1.00      7041\n",
      " \n",
      "\n",
      "\n",
      "******************************************************* \n",
      "Matthews Correlation (MCC) for 2012Q4 is 0.33\n",
      "******************************************************* \n",
      "Out-of-sample (OOS) Classification Report for 2012Q4:\n",
      "              precision    recall  f1-score   support\n",
      "\n",
      "           0       1.00      1.00      1.00      6935\n",
      "           1       0.11      1.00      0.20         4\n",
      "\n",
      "    accuracy                           1.00      6939\n",
      "   macro avg       0.56      1.00      0.60      6939\n",
      "weighted avg       1.00      1.00      1.00      6939\n",
      " \n",
      "\n",
      "\n",
      "******************************************************* \n",
      "Matthews Correlation (MCC) for 2019Q2 is -0.0\n",
      "******************************************************* \n",
      "Out-of-sample (OOS) Classification Report for 2019Q2:\n",
      "              precision    recall  f1-score   support\n",
      "\n",
      "           0       1.00      1.00      1.00      5193\n",
      "           1       0.00      0.00      0.00         1\n",
      "\n",
      "    accuracy                           1.00      5194\n",
      "   macro avg       0.50      0.50      0.50      5194\n",
      "weighted avg       1.00      1.00      1.00      5194\n",
      " \n",
      "\n",
      "\n"
     ]
    }
   ],
   "source": [
    "pd.set_option('use_inf_as_na', True)\n",
    "\n",
    "oos_reports = ['2010Q4', '2011Q1', '2011Q2', '2011Q3', '2011Q4', '2012Q1', '2012Q2', \n",
    "               '2012Q3', '2012Q4', '2019Q2']\n",
    "\n",
    "for report in oos_reports:\n",
    "    \n",
    "    oos_df = pd.read_csv('oos/camel_data_after{}_OOS.csv'.format(report))\n",
    "    oos_df.replace([np.inf, -np.inf], np.nan)\n",
    "    oos_df.dropna(inplace=True)\n",
    "    \n",
    "    y_oos = oos_df['Target']\n",
    "    X_oos = oos_df[['EQTA', 'EQTL', 'LLRTA', 'LLRGL', 'OEXTA', 'INCEMP', 'ROA', 'ROE', \n",
    "                    'TDTL', 'TDTA', 'TATA']].copy()\n",
    "    X_oos_scaled = X_scaler.transform(X_oos) \n",
    "    \n",
    "    predictions_oos = clf_best.predict(X_oos_scaled)\n",
    "    mcc = np.round(matthews_corrcoef(y_oos, predictions_oos), 2)\n",
    "    \n",
    "    # Generate out-of-sample MCC and classification report \n",
    "    print(\"*\" * 55, \"\\nMatthews Correlation (MCC) for {} is {}\".format(report, mcc))\n",
    "    print(\"*\" * 55,\"\\nOut-of-sample (OOS) Classification Report for {}:\".format(report))\n",
    "    print(classification_report(y_oos, predictions_oos), \"\\n\\n\")\n",
    "   \n",
    "  "
   ]
  }
 ],
 "metadata": {
  "kernelspec": {
   "display_name": "Python 3",
   "language": "python",
   "name": "python3"
  },
  "language_info": {
   "codemirror_mode": {
    "name": "ipython",
    "version": 3
   },
   "file_extension": ".py",
   "mimetype": "text/x-python",
   "name": "python",
   "nbconvert_exporter": "python",
   "pygments_lexer": "ipython3",
   "version": "3.8.3"
  }
 },
 "nbformat": 4,
 "nbformat_minor": 4
}
