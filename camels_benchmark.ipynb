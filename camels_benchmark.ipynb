{
 "cells": [
  {
   "cell_type": "code",
   "execution_count": 66,
   "metadata": {},
   "outputs": [],
   "source": [
    "import pandas as pd\n",
    "import numpy as np\n",
    "import matplotlib.pyplot as plt \n",
    "\n",
    "# from pathlib import Path\n",
    "# from sklearn import tree\n",
    "from sklearn.preprocessing import StandardScaler\n",
    "from sklearn.model_selection import train_test_split\n",
    "from sklearn.ensemble import GradientBoostingClassifier\n",
    "from sklearn.model_selection import cross_val_predict\n",
    "from sklearn.model_selection import validation_curve\n",
    "from sklearn.metrics import confusion_matrix\n",
    "from sklearn.metrics import accuracy_score\n",
    "from sklearn.metrics import classification_report\n",
    "from sklearn.metrics import precision_recall_curve\n",
    "from sklearn.metrics import roc_curve\n",
    "from sklearn.metrics import matthews_corrcoef\n",
    "%matplotlib inline\n",
    "\n",
    "# Needed for decision tree visualization\n",
    "import pydotplus\n",
    "from IPython.display import Image"
   ]
  },
  {
   "cell_type": "markdown",
   "metadata": {},
   "source": [
    "### Preprocessing"
   ]
  },
  {
   "cell_type": "code",
   "execution_count": 105,
   "metadata": {},
   "outputs": [
    {
     "data": {
      "text/html": [
       "<div>\n",
       "<style scoped>\n",
       "    .dataframe tbody tr th:only-of-type {\n",
       "        vertical-align: middle;\n",
       "    }\n",
       "\n",
       "    .dataframe tbody tr th {\n",
       "        vertical-align: top;\n",
       "    }\n",
       "\n",
       "    .dataframe thead th {\n",
       "        text-align: right;\n",
       "    }\n",
       "</style>\n",
       "<table border=\"1\" class=\"dataframe\">\n",
       "  <thead>\n",
       "    <tr style=\"text-align: right;\">\n",
       "      <th></th>\n",
       "      <th>AsOfDate</th>\n",
       "      <th>Target</th>\n",
       "      <th>EQTA</th>\n",
       "      <th>EQTL</th>\n",
       "      <th>LLRTA</th>\n",
       "      <th>LLRGL</th>\n",
       "      <th>OEXTA</th>\n",
       "      <th>INCEMP</th>\n",
       "      <th>ROA</th>\n",
       "      <th>ROE</th>\n",
       "      <th>TDTL</th>\n",
       "      <th>TDTA</th>\n",
       "      <th>TATA</th>\n",
       "    </tr>\n",
       "  </thead>\n",
       "  <tbody>\n",
       "    <tr>\n",
       "      <th>4041421</th>\n",
       "      <td>9/30/2010</td>\n",
       "      <td>0</td>\n",
       "      <td>0.137583</td>\n",
       "      <td>0.627601</td>\n",
       "      <td>0.000030</td>\n",
       "      <td>0.000139</td>\n",
       "      <td>0.014422</td>\n",
       "      <td>80.990769</td>\n",
       "      <td>0.010562</td>\n",
       "      <td>0.076767</td>\n",
       "      <td>3.434820</td>\n",
       "      <td>0.752980</td>\n",
       "      <td>0.621207</td>\n",
       "    </tr>\n",
       "    <tr>\n",
       "      <th>4114567</th>\n",
       "      <td>9/30/2010</td>\n",
       "      <td>0</td>\n",
       "      <td>0.088101</td>\n",
       "      <td>0.110318</td>\n",
       "      <td>0.000205</td>\n",
       "      <td>0.000257</td>\n",
       "      <td>0.006203</td>\n",
       "      <td>46.455670</td>\n",
       "      <td>0.003079</td>\n",
       "      <td>0.034947</td>\n",
       "      <td>1.081685</td>\n",
       "      <td>0.863838</td>\n",
       "      <td>0.004055</td>\n",
       "    </tr>\n",
       "    <tr>\n",
       "      <th>4160667</th>\n",
       "      <td>9/30/2010</td>\n",
       "      <td>0</td>\n",
       "      <td>0.133252</td>\n",
       "      <td>0.178635</td>\n",
       "      <td>0.000013</td>\n",
       "      <td>0.000017</td>\n",
       "      <td>0.005188</td>\n",
       "      <td>85.779221</td>\n",
       "      <td>0.016813</td>\n",
       "      <td>0.126171</td>\n",
       "      <td>0.975221</td>\n",
       "      <td>0.727462</td>\n",
       "      <td>0.059737</td>\n",
       "    </tr>\n",
       "    <tr>\n",
       "      <th>4165907</th>\n",
       "      <td>9/30/2010</td>\n",
       "      <td>0</td>\n",
       "      <td>0.770208</td>\n",
       "      <td>16.588064</td>\n",
       "      <td>0.001014</td>\n",
       "      <td>0.021834</td>\n",
       "      <td>0.069140</td>\n",
       "      <td>-143.142857</td>\n",
       "      <td>-0.067721</td>\n",
       "      <td>-0.087926</td>\n",
       "      <td>4.921397</td>\n",
       "      <td>0.228508</td>\n",
       "      <td>0.135442</td>\n",
       "    </tr>\n",
       "    <tr>\n",
       "      <th>4184186</th>\n",
       "      <td>9/30/2010</td>\n",
       "      <td>0</td>\n",
       "      <td>0.104075</td>\n",
       "      <td>0.186904</td>\n",
       "      <td>0.000037</td>\n",
       "      <td>0.000066</td>\n",
       "      <td>0.004862</td>\n",
       "      <td>13.052459</td>\n",
       "      <td>0.002934</td>\n",
       "      <td>0.028189</td>\n",
       "      <td>1.498431</td>\n",
       "      <td>0.834379</td>\n",
       "      <td>0.024833</td>\n",
       "    </tr>\n",
       "  </tbody>\n",
       "</table>\n",
       "</div>"
      ],
      "text/plain": [
       "          AsOfDate  Target      EQTA       EQTL     LLRTA     LLRGL     OEXTA  \\\n",
       "4041421  9/30/2010       0  0.137583   0.627601  0.000030  0.000139  0.014422   \n",
       "4114567  9/30/2010       0  0.088101   0.110318  0.000205  0.000257  0.006203   \n",
       "4160667  9/30/2010       0  0.133252   0.178635  0.000013  0.000017  0.005188   \n",
       "4165907  9/30/2010       0  0.770208  16.588064  0.001014  0.021834  0.069140   \n",
       "4184186  9/30/2010       0  0.104075   0.186904  0.000037  0.000066  0.004862   \n",
       "\n",
       "             INCEMP       ROA       ROE      TDTL      TDTA      TATA  \n",
       "4041421   80.990769  0.010562  0.076767  3.434820  0.752980  0.621207  \n",
       "4114567   46.455670  0.003079  0.034947  1.081685  0.863838  0.004055  \n",
       "4160667   85.779221  0.016813  0.126171  0.975221  0.727462  0.059737  \n",
       "4165907 -143.142857 -0.067721 -0.087926  4.921397  0.228508  0.135442  \n",
       "4184186   13.052459  0.002934  0.028189  1.498431  0.834379  0.024833  "
      ]
     },
     "execution_count": 105,
     "metadata": {},
     "output_type": "execute_result"
    }
   ],
   "source": [
    "# Load data\n",
    "file_path = Path(\"data/camel_data_after2010Q3.csv\")\n",
    "banks_df = pd.read_csv(file_path, index_col=0)\n",
    "banks_df.tail()"
   ]
  },
  {
   "cell_type": "markdown",
   "metadata": {},
   "source": [
    "Check if there are any missing values"
   ]
  },
  {
   "cell_type": "code",
   "execution_count": 46,
   "metadata": {},
   "outputs": [
    {
     "data": {
      "text/plain": [
       "True"
      ]
     },
     "execution_count": 46,
     "metadata": {},
     "output_type": "execute_result"
    }
   ],
   "source": [
    "banks_df.isnull().values.any()"
   ]
  },
  {
   "cell_type": "markdown",
   "metadata": {},
   "source": [
    "Count the missing values and consider different mitigation strategies"
   ]
  },
  {
   "cell_type": "code",
   "execution_count": 47,
   "metadata": {},
   "outputs": [
    {
     "data": {
      "text/plain": [
       "6"
      ]
     },
     "execution_count": 47,
     "metadata": {},
     "output_type": "execute_result"
    }
   ],
   "source": [
    "banks_df.isnull().sum().sum()"
   ]
  },
  {
   "cell_type": "markdown",
   "metadata": {},
   "source": [
    "Only 6 instances have missing data, thus drop raws"
   ]
  },
  {
   "cell_type": "code",
   "execution_count": 48,
   "metadata": {},
   "outputs": [],
   "source": [
    "banks_df.dropna(inplace=True)"
   ]
  },
  {
   "cell_type": "markdown",
   "metadata": {},
   "source": [
    "Count the features of failed banks (Target of 1)"
   ]
  },
  {
   "cell_type": "code",
   "execution_count": 49,
   "metadata": {},
   "outputs": [
    {
     "data": {
      "text/plain": [
       "AsOfDate    137\n",
       "Target      137\n",
       "EQTA        137\n",
       "EQTL        137\n",
       "LLRTA       137\n",
       "LLRGL       137\n",
       "OEXTA       137\n",
       "INCEMP      137\n",
       "ROA         137\n",
       "ROE         137\n",
       "TDTL        137\n",
       "TDTA        137\n",
       "TATA        137\n",
       "dtype: int64"
      ]
     },
     "execution_count": 49,
     "metadata": {},
     "output_type": "execute_result"
    }
   ],
   "source": [
    "banks_df.loc[banks_df.Target == 1].count()"
   ]
  },
  {
   "cell_type": "markdown",
   "metadata": {},
   "source": [
    "Take a copy of predictors and store in X, count all instances available."
   ]
  },
  {
   "cell_type": "code",
   "execution_count": 52,
   "metadata": {},
   "outputs": [
    {
     "data": {
      "text/plain": [
       "7014"
      ]
     },
     "execution_count": 52,
     "metadata": {},
     "output_type": "execute_result"
    }
   ],
   "source": [
    "X = banks_df[['EQTA', 'EQTL', 'LLRTA', 'LLRGL', 'OEXTA', 'INCEMP', 'ROA', 'ROE', 'TDTL', 'TDTA', 'TATA']].copy()\n",
    "len(X)"
   ]
  },
  {
   "cell_type": "markdown",
   "metadata": {},
   "source": [
    "Define the target vector y, reshape as well."
   ]
  },
  {
   "cell_type": "code",
   "execution_count": 55,
   "metadata": {},
   "outputs": [],
   "source": [
    "y = banks_df[\"Target\"].values.reshape(-1, 1)"
   ]
  },
  {
   "cell_type": "markdown",
   "metadata": {},
   "source": [
    "### Developing GBM "
   ]
  },
  {
   "cell_type": "markdown",
   "metadata": {},
   "source": [
    "First train/test split, note `random_state=123` for the auditing purposes"
   ]
  },
  {
   "cell_type": "code",
   "execution_count": 266,
   "metadata": {},
   "outputs": [],
   "source": [
    "X_train, X_test, y_train, y_test = train_test_split(X, y, random_state=123)"
   ]
  },
  {
   "cell_type": "markdown",
   "metadata": {},
   "source": [
    "Creating `StandardScaler` object and fitting, i.e. removing the mean and scaling to unit variance"
   ]
  },
  {
   "cell_type": "code",
   "execution_count": 267,
   "metadata": {},
   "outputs": [],
   "source": [
    "scaler = StandardScaler()\n",
    "X_scaler = scaler.fit(X_train)"
   ]
  },
  {
   "cell_type": "markdown",
   "metadata": {},
   "source": [
    "Transforming training and testing features data using the fitted scaler"
   ]
  },
  {
   "cell_type": "code",
   "execution_count": null,
   "metadata": {},
   "outputs": [],
   "source": [
    "X_train_scaled = X_scaler.transform(X_train)\n",
    "X_test_scaled = X_scaler.transform(X_test)"
   ]
  },
  {
   "cell_type": "markdown",
   "metadata": {},
   "source": [
    "Preparing for validation: define functions to plot Precision/Recall and ROC/AUC"
   ]
  },
  {
   "cell_type": "code",
   "execution_count": 268,
   "metadata": {},
   "outputs": [],
   "source": [
    "def plot_precision_recall(precisions, recalls, thresholds):\n",
    "\n",
    "    plt.plot(thresholds, precisions[: -1], 'b--', label='Precision')\n",
    "    plt.plot(thresholds, recalls[: -1], 'g-', label='Recall')\n",
    "    plt.ylabel('Precision/Recall')\n",
    "    plt.xlabel('Threshold')\n",
    "    plt.legend(loc='center left')\n",
    "    plt.ylim([0,1])\n",
    "    plt.show()\n",
    "\n",
    "def plot_roc_curve(fpr, tpr, label=None):\n",
    "    plt.plot(fpr, tpr, linewidth=2, label=label)\n",
    "    plt.plot([0,1], [0,1], 'k--')\n",
    "    plt.axis([0,1,0,1])\n",
    "    plt.xlabel('False Positive Rate')\n",
    "    plt.ylabel('True Negatove Rate')"
   ]
  },
  {
   "cell_type": "markdown",
   "metadata": {},
   "source": [
    "Get the metrics and produce the plots"
   ]
  },
  {
   "cell_type": "markdown",
   "metadata": {},
   "source": [
    "### Discovering best parameters with Grid Search"
   ]
  },
  {
   "cell_type": "code",
   "execution_count": 80,
   "metadata": {},
   "outputs": [
    {
     "data": {
      "text/plain": [
       "{'learning_rate': 0.05, 'max_depth': 2, 'max_features': 5, 'n_estimators': 50}"
      ]
     },
     "execution_count": 80,
     "metadata": {},
     "output_type": "execute_result"
    }
   ],
   "source": [
    "from sklearn.model_selection import GridSearchCV\n",
    "\n",
    "param_grid = {'learning_rate': [0.05, 0.1, 0.2, 0.5, 0.7, 0.8, 1], \n",
    "             \"n_estimators\" : [10, 30, 50],\n",
    "              \"max_features\": [2, 3, 4, 5],\n",
    "              \"max_depth\" : [2, 3, 4]\n",
    "             \n",
    "             \n",
    "             } \n",
    "\n",
    "grid = GridSearchCV(GradientBoostingClassifier(), param_grid, cv=7)\n",
    "\n",
    "grid.fit(X, y.ravel());\n",
    "\n",
    "grid.best_params_"
   ]
  },
  {
   "cell_type": "markdown",
   "metadata": {},
   "source": [
    "### Running the best GBM model"
   ]
  },
  {
   "cell_type": "code",
   "execution_count": 281,
   "metadata": {},
   "outputs": [
    {
     "data": {
      "text/html": [
       "<div>\n",
       "<style scoped>\n",
       "    .dataframe tbody tr th:only-of-type {\n",
       "        vertical-align: middle;\n",
       "    }\n",
       "\n",
       "    .dataframe tbody tr th {\n",
       "        vertical-align: top;\n",
       "    }\n",
       "\n",
       "    .dataframe thead th {\n",
       "        text-align: right;\n",
       "    }\n",
       "</style>\n",
       "<table border=\"1\" class=\"dataframe\">\n",
       "  <thead>\n",
       "    <tr style=\"text-align: right;\">\n",
       "      <th></th>\n",
       "      <th>Prediction</th>\n",
       "      <th>Actual</th>\n",
       "    </tr>\n",
       "  </thead>\n",
       "  <tbody>\n",
       "    <tr>\n",
       "      <th>0</th>\n",
       "      <td>0</td>\n",
       "      <td>0</td>\n",
       "    </tr>\n",
       "    <tr>\n",
       "      <th>1</th>\n",
       "      <td>0</td>\n",
       "      <td>0</td>\n",
       "    </tr>\n",
       "    <tr>\n",
       "      <th>2</th>\n",
       "      <td>0</td>\n",
       "      <td>0</td>\n",
       "    </tr>\n",
       "    <tr>\n",
       "      <th>3</th>\n",
       "      <td>0</td>\n",
       "      <td>0</td>\n",
       "    </tr>\n",
       "    <tr>\n",
       "      <th>4</th>\n",
       "      <td>0</td>\n",
       "      <td>0</td>\n",
       "    </tr>\n",
       "  </tbody>\n",
       "</table>\n",
       "</div>"
      ],
      "text/plain": [
       "   Prediction  Actual\n",
       "0           0       0\n",
       "1           0       0\n",
       "2           0       0\n",
       "3           0       0\n",
       "4           0       0"
      ]
     },
     "execution_count": 281,
     "metadata": {},
     "output_type": "execute_result"
    }
   ],
   "source": [
    "clf_best = GradientBoostingClassifier(n_estimators=50,\n",
    "                                     learning_rate=0.05,\n",
    "                                     max_features=5,\n",
    "                                     max_depth=2,\n",
    "                                     random_state=123)\n",
    "clf_best.fit(X_train_scaled, y_train.ravel())\n",
    "predictions = clf_best.predict(X_test_scaled)\n",
    "pd.DataFrame({\"Prediction\": predictions, \"Actual\": y_test.ravel()}).head(5)"
   ]
  },
  {
   "cell_type": "markdown",
   "metadata": {},
   "source": [
    "Double check the best model with cross validation "
   ]
  },
  {
   "cell_type": "code",
   "execution_count": 282,
   "metadata": {},
   "outputs": [
    {
     "data": {
      "text/plain": [
       "0.988"
      ]
     },
     "execution_count": 282,
     "metadata": {},
     "output_type": "execute_result"
    }
   ],
   "source": [
    "scores = cross_val_score(clf_best, X, y.ravel(), cv=10)\n",
    "np.round(scores.mean(), 3)"
   ]
  },
  {
   "cell_type": "markdown",
   "metadata": {},
   "source": [
    "Plot precision and recall trade-off over thresholds"
   ]
  },
  {
   "cell_type": "code",
   "execution_count": 283,
   "metadata": {},
   "outputs": [
    {
     "data": {
      "image/png": "[encoded data removed]",
      "text/plain": [
       "<Figure size 432x288 with 1 Axes>"
      ]
     },
     "metadata": {
      "needs_background": "light"
     },
     "output_type": "display_data"
    }
   ],
   "source": [
    "y_scores = cross_val_predict(clf_best, X_train_scaled, y_train.ravel(), cv=3, method='decision_function')\n",
    "precisions, recalls, thresholds = precision_recall_curve(y_train, y_scores)\n",
    "plot_precision_recall(precisions, recalls, thresholds)\n",
    "plt.show()"
   ]
  },
  {
   "cell_type": "code",
   "execution_count": 284,
   "metadata": {},
   "outputs": [
    {
     "data": {
      "image/png": "[encoded data removed]",
      "text/plain": [
       "<Figure size 432x288 with 1 Axes>"
      ]
     },
     "metadata": {
      "needs_background": "light"
     },
     "output_type": "display_data"
    }
   ],
   "source": [
    "fpr, tpr, thresholds = roc_curve(y_train, y_scores)\n",
    "plot_roc_curve(fpr, tpr)\n",
    "plt.show()"
   ]
  },
  {
   "cell_type": "markdown",
   "metadata": {},
   "source": [
    "Generate the confusion matrix"
   ]
  },
  {
   "cell_type": "code",
   "execution_count": 285,
   "metadata": {},
   "outputs": [
    {
     "data": {
      "text/html": [
       "<div>\n",
       "<style scoped>\n",
       "    .dataframe tbody tr th:only-of-type {\n",
       "        vertical-align: middle;\n",
       "    }\n",
       "\n",
       "    .dataframe tbody tr th {\n",
       "        vertical-align: top;\n",
       "    }\n",
       "\n",
       "    .dataframe thead th {\n",
       "        text-align: right;\n",
       "    }\n",
       "</style>\n",
       "<table border=\"1\" class=\"dataframe\">\n",
       "  <thead>\n",
       "    <tr style=\"text-align: right;\">\n",
       "      <th></th>\n",
       "      <th>Actual 1</th>\n",
       "      <th>Actual 0</th>\n",
       "    </tr>\n",
       "  </thead>\n",
       "  <tbody>\n",
       "    <tr>\n",
       "      <th>Pred 0</th>\n",
       "      <td>1712</td>\n",
       "      <td>13</td>\n",
       "    </tr>\n",
       "    <tr>\n",
       "      <th>Pred 1</th>\n",
       "      <td>8</td>\n",
       "      <td>21</td>\n",
       "    </tr>\n",
       "  </tbody>\n",
       "</table>\n",
       "</div>"
      ],
      "text/plain": [
       "        Actual 1  Actual 0\n",
       "Pred 0      1712        13\n",
       "Pred 1         8        21"
      ]
     },
     "execution_count": 285,
     "metadata": {},
     "output_type": "execute_result"
    }
   ],
   "source": [
    "pd.DataFrame(confusion_matrix(y_test, predictions), index=[\"Pred 0\", \"Pred 1\"], columns=[\"Actual 1\", \"Actual 0\"])"
   ]
  },
  {
   "cell_type": "markdown",
   "metadata": {},
   "source": [
    "Compute Matthews correlation (MCC)"
   ]
  },
  {
   "cell_type": "code",
   "execution_count": 286,
   "metadata": {},
   "outputs": [
    {
     "name": "stdout",
     "output_type": "stream",
     "text": [
      "Matthews Correlation is 0.663\n"
     ]
    }
   ],
   "source": [
    "matthews_corrcoef(y_test, predictions)\n",
    "print(\"Matthews Correlation is {0:.3f}\".format(matthews_corrcoef(y_test, predictions)))"
   ]
  },
  {
   "cell_type": "markdown",
   "metadata": {},
   "source": [
    "Generate classification report"
   ]
  },
  {
   "cell_type": "code",
   "execution_count": 287,
   "metadata": {},
   "outputs": [
    {
     "name": "stdout",
     "output_type": "stream",
     "text": [
      "In-Sample Classification Report\n",
      "              precision    recall  f1-score   support\n",
      "\n",
      "           0       1.00      0.99      0.99      1725\n",
      "           1       0.62      0.72      0.67        29\n",
      "\n",
      "    accuracy                           0.99      1754\n",
      "   macro avg       0.81      0.86      0.83      1754\n",
      "weighted avg       0.99      0.99      0.99      1754\n",
      "\n"
     ]
    }
   ],
   "source": [
    "print(\"In-Sample Classification Report\")\n",
    "print(classification_report(y_test, predictions))"
   ]
  },
  {
   "cell_type": "markdown",
   "metadata": {},
   "source": [
    "Extracting rules that were learned in training"
   ]
  },
  {
   "cell_type": "code",
   "execution_count": 219,
   "metadata": {},
   "outputs": [
    {
     "name": "stdout",
     "output_type": "stream",
     "text": [
      "class=0, tree=0: <sklearn.tree._tree.Tree object at 0x7fa3c51bbce0>\n",
      "   child_left  child_right  feature  threshold\n",
      "0           1            4        7  -0.106241\n",
      "1           2            3        1  -0.022965\n",
      "2          -1           -1       -2  -2.000000\n",
      "3          -1           -1       -2  -2.000000\n",
      "4           5            6        0  -1.854326\n",
      "5          -1           -1       -2  -2.000000\n",
      "6          -1           -1       -2  -2.000000\n",
      "class=1, tree=0: <sklearn.tree._tree.Tree object at 0x7fa3c51bba40>\n",
      "   child_left  child_right  feature  threshold\n",
      "0           1            4        0  -1.602776\n",
      "1           2            3        4  -0.252550\n",
      "2          -1           -1       -2  -2.000000\n",
      "3          -1           -1       -2  -2.000000\n",
      "4           5            6        0  -1.311529\n",
      "5          -1           -1       -2  -2.000000\n",
      "6          -1           -1       -2  -2.000000\n",
      "class=2, tree=0: <sklearn.tree._tree.Tree object at 0x7fa3c51bb650>\n",
      "   child_left  child_right  feature  threshold\n",
      "0           1            4        0  -1.602776\n",
      "1           2            3        0  -2.062780\n",
      "2          -1           -1       -2  -2.000000\n",
      "3          -1           -1       -2  -2.000000\n",
      "4           5            6        0  -1.311529\n",
      "5          -1           -1       -2  -2.000000\n",
      "6          -1           -1       -2  -2.000000\n",
      "class=3, tree=0: <sklearn.tree._tree.Tree object at 0x7fa3c51bbd50>\n",
      "   child_left  child_right  feature  threshold\n",
      "0           1            4        7  -0.106241\n",
      "1           2            3        1  -0.023438\n",
      "2          -1           -1       -2  -2.000000\n",
      "3          -1           -1       -2  -2.000000\n",
      "4           5            6        3   0.297478\n",
      "5          -1           -1       -2  -2.000000\n",
      "6          -1           -1       -2  -2.000000\n",
      "class=4, tree=0: <sklearn.tree._tree.Tree object at 0x7fa3c51bbc70>\n",
      "   child_left  child_right  feature  threshold\n",
      "0           1            4        9   1.332867\n",
      "1           2            3        0  -1.602776\n",
      "2          -1           -1       -2  -2.000000\n",
      "3          -1           -1       -2  -2.000000\n",
      "4           5            6        0  -1.699721\n",
      "5          -1           -1       -2  -2.000000\n",
      "6          -1           -1       -2  -2.000000\n",
      "class=5, tree=0: <sklearn.tree._tree.Tree object at 0x7fa3c51bbdc0>\n",
      "   child_left  child_right  feature  threshold\n",
      "0           1            4        7  -0.106241\n",
      "1           2            3        0  -2.106048\n",
      "2          -1           -1       -2  -2.000000\n",
      "3          -1           -1       -2  -2.000000\n",
      "4           5            6        0  -1.602776\n",
      "5          -1           -1       -2  -2.000000\n",
      "6          -1           -1       -2  -2.000000\n",
      "class=6, tree=0: <sklearn.tree._tree.Tree object at 0x7fa3c51bbe30>\n",
      "   child_left  child_right  feature  threshold\n",
      "0           1            4        1  -0.022964\n",
      "1           2            3        4  -0.252550\n",
      "2          -1           -1       -2  -2.000000\n",
      "3          -1           -1       -2  -2.000000\n",
      "4           5            6        1  -0.022486\n",
      "5          -1           -1       -2  -2.000000\n",
      "6          -1           -1       -2  -2.000000\n",
      "class=7, tree=0: <sklearn.tree._tree.Tree object at 0x7fa3c51b4110>\n",
      "   child_left  child_right  feature  threshold\n",
      "0           1            4        6  -2.662495\n",
      "1           2            3        0  -1.564881\n",
      "2          -1           -1       -2  -2.000000\n",
      "3          -1           -1       -2  -2.000000\n",
      "4           5            6        1  -0.023006\n",
      "5          -1           -1       -2  -2.000000\n",
      "6          -1           -1       -2  -2.000000\n",
      "class=8, tree=0: <sklearn.tree._tree.Tree object at 0x7fa3c51b4180>\n",
      "   child_left  child_right  feature  threshold\n",
      "0           1            4        0  -1.602776\n",
      "1           2            3        1  -0.022996\n",
      "2          -1           -1       -2  -2.000000\n",
      "3          -1           -1       -2  -2.000000\n",
      "4           5            6        1  -0.022486\n",
      "5          -1           -1       -2  -2.000000\n",
      "6          -1           -1       -2  -2.000000\n",
      "class=9, tree=0: <sklearn.tree._tree.Tree object at 0x7fa3c51b41f0>\n",
      "   child_left  child_right  feature  threshold\n",
      "0           1            4        1  -0.022964\n",
      "1           2            3        6  -1.379250\n",
      "2          -1           -1       -2  -2.000000\n",
      "3          -1           -1       -2  -2.000000\n",
      "4           5            6        6  -3.957395\n",
      "5          -1           -1       -2  -2.000000\n",
      "6          -1           -1       -2  -2.000000\n",
      "class=10, tree=0: <sklearn.tree._tree.Tree object at 0x7fa3c51b4260>\n",
      "   child_left  child_right  feature  threshold\n",
      "0           1            4        0  -1.602776\n",
      "1           2            3        4  -0.252550\n",
      "2          -1           -1       -2  -2.000000\n",
      "3          -1           -1       -2  -2.000000\n",
      "4           5            6        9   1.565012\n",
      "5          -1           -1       -2  -2.000000\n",
      "6          -1           -1       -2  -2.000000\n",
      "class=11, tree=0: <sklearn.tree._tree.Tree object at 0x7fa3c51b42d0>\n",
      "   child_left  child_right  feature  threshold\n",
      "0           1            4        1  -0.022964\n",
      "1           2            3        4  -0.252550\n",
      "2          -1           -1       -2  -2.000000\n",
      "3          -1           -1       -2  -2.000000\n",
      "4           5            6        1  -0.022486\n",
      "5          -1           -1       -2  -2.000000\n",
      "6          -1           -1       -2  -2.000000\n",
      "class=12, tree=0: <sklearn.tree._tree.Tree object at 0x7fa3c51b4340>\n",
      "   child_left  child_right  feature  threshold\n",
      "0           1            4        9   1.332867\n",
      "1           2            3        2   1.888524\n",
      "2          -1           -1       -2  -2.000000\n",
      "3          -1           -1       -2  -2.000000\n",
      "4           5            6        1  -0.022996\n",
      "5          -1           -1       -2  -2.000000\n",
      "6          -1           -1       -2  -2.000000\n",
      "class=13, tree=0: <sklearn.tree._tree.Tree object at 0x7fa3c51b43b0>\n",
      "   child_left  child_right  feature  threshold\n",
      "0           1            4        7  -0.093641\n",
      "1           2            3        1  -0.023438\n",
      "2          -1           -1       -2  -2.000000\n",
      "3          -1           -1       -2  -2.000000\n",
      "4           5            6        1  -0.022997\n",
      "5          -1           -1       -2  -2.000000\n",
      "6          -1           -1       -2  -2.000000\n",
      "class=14, tree=0: <sklearn.tree._tree.Tree object at 0x7fa3c51b4420>\n",
      "   child_left  child_right  feature  threshold\n",
      "0           1            4        0  -1.602776\n",
      "1           2            3        4  -0.252550\n",
      "2          -1           -1       -2  -2.000000\n",
      "3          -1           -1       -2  -2.000000\n",
      "4           5            6        1  -0.022486\n",
      "5          -1           -1       -2  -2.000000\n",
      "6          -1           -1       -2  -2.000000\n",
      "class=15, tree=0: <sklearn.tree._tree.Tree object at 0x7fa3c51b4490>\n",
      "   child_left  child_right  feature  threshold\n",
      "0           1            4        1  -0.022964\n",
      "1           2            3        4  -0.252550\n",
      "2          -1           -1       -2  -2.000000\n",
      "3          -1           -1       -2  -2.000000\n",
      "4           5            6        1  -0.022486\n",
      "5          -1           -1       -2  -2.000000\n",
      "6          -1           -1       -2  -2.000000\n",
      "class=16, tree=0: <sklearn.tree._tree.Tree object at 0x7fa3c51b4500>\n",
      "   child_left  child_right  feature  threshold\n",
      "0           1            4        0  -1.602776\n",
      "1           2            3        4  -0.252550\n",
      "2          -1           -1       -2  -2.000000\n",
      "3          -1           -1       -2  -2.000000\n",
      "4           5            6        1  -0.022486\n",
      "5          -1           -1       -2  -2.000000\n",
      "6          -1           -1       -2  -2.000000\n",
      "class=17, tree=0: <sklearn.tree._tree.Tree object at 0x7fa3c51b4570>\n",
      "   child_left  child_right  feature  threshold\n",
      "0           1            4        5  -0.321275\n",
      "1           2            3        0  -1.640625\n",
      "2          -1           -1       -2  -2.000000\n",
      "3          -1           -1       -2  -2.000000\n",
      "4           5            6        1  -0.022997\n",
      "5          -1           -1       -2  -2.000000\n",
      "6          -1           -1       -2  -2.000000\n",
      "class=18, tree=0: <sklearn.tree._tree.Tree object at 0x7fa3c51b45e0>\n",
      "   child_left  child_right  feature  threshold\n",
      "0           1            4        0  -1.602776\n",
      "1           2            3        8  -0.014225\n",
      "2          -1           -1       -2  -2.000000\n",
      "3          -1           -1       -2  -2.000000\n",
      "4           5            6        1  -0.022486\n",
      "5          -1           -1       -2  -2.000000\n",
      "6          -1           -1       -2  -2.000000\n",
      "class=19, tree=0: <sklearn.tree._tree.Tree object at 0x7fa3c51b4650>\n",
      "   child_left  child_right  feature  threshold\n",
      "0           1            4        0  -1.602776\n",
      "1           2            3        4  -0.252550\n",
      "2          -1           -1       -2  -2.000000\n",
      "3          -1           -1       -2  -2.000000\n",
      "4           5            6        0  -1.311529\n",
      "5          -1           -1       -2  -2.000000\n",
      "6          -1           -1       -2  -2.000000\n",
      "class=20, tree=0: <sklearn.tree._tree.Tree object at 0x7fa3c51b46c0>\n",
      "   child_left  child_right  feature  threshold\n",
      "0           1            4        1  -0.022964\n",
      "1           2            3        6  -0.371602\n",
      "2          -1           -1       -2  -2.000000\n",
      "3          -1           -1       -2  -2.000000\n",
      "4           5            6        2   1.972928\n",
      "5          -1           -1       -2  -2.000000\n",
      "6          -1           -1       -2  -2.000000\n",
      "class=21, tree=0: <sklearn.tree._tree.Tree object at 0x7fa3c51b4730>\n",
      "   child_left  child_right  feature  threshold\n",
      "0           1            4        0  -1.602776\n",
      "1           2            3        5  -0.120657\n",
      "2          -1           -1       -2  -2.000000\n",
      "3          -1           -1       -2  -2.000000\n",
      "4           5            6        1  -0.022486\n",
      "5          -1           -1       -2  -2.000000\n",
      "6          -1           -1       -2  -2.000000\n",
      "class=22, tree=0: <sklearn.tree._tree.Tree object at 0x7fa3c51b47a0>\n",
      "   child_left  child_right  feature  threshold\n",
      "0           1            4        9   1.332867\n",
      "1           2            3        1  -0.022960\n",
      "2          -1           -1       -2  -2.000000\n",
      "3          -1           -1       -2  -2.000000\n",
      "4           5            6        1  -0.022996\n",
      "5          -1           -1       -2  -2.000000\n",
      "6          -1           -1       -2  -2.000000\n",
      "class=23, tree=0: <sklearn.tree._tree.Tree object at 0x7fa3c51b4810>\n",
      "   child_left  child_right  feature  threshold\n",
      "0           1            4        7  -0.149156\n",
      "1           2            3        0  -2.106048\n",
      "2          -1           -1       -2  -2.000000\n",
      "3          -1           -1       -2  -2.000000\n",
      "4           5            6        1  -0.022964\n",
      "5          -1           -1       -2  -2.000000\n",
      "6          -1           -1       -2  -2.000000\n",
      "class=24, tree=0: <sklearn.tree._tree.Tree object at 0x7fa3c51b4880>\n",
      "   child_left  child_right  feature  threshold\n",
      "0           1            4        0  -1.391730\n",
      "1           2            3        6  -0.371602\n",
      "2          -1           -1       -2  -2.000000\n",
      "3          -1           -1       -2  -2.000000\n",
      "4           5            6        5  -0.572634\n",
      "5          -1           -1       -2  -2.000000\n",
      "6          -1           -1       -2  -2.000000\n",
      "class=25, tree=0: <sklearn.tree._tree.Tree object at 0x7fa3c51b48f0>\n",
      "   child_left  child_right  feature  threshold\n",
      "0           1            4        7  -0.149156\n",
      "1           2            3        1  -0.023438\n",
      "2          -1           -1       -2  -2.000000\n",
      "3          -1           -1       -2  -2.000000\n",
      "4           5            6        1  -0.022964\n",
      "5          -1           -1       -2  -2.000000\n",
      "6          -1           -1       -2  -2.000000\n",
      "class=26, tree=0: <sklearn.tree._tree.Tree object at 0x7fa3c51b4960>\n",
      "   child_left  child_right  feature  threshold\n",
      "0           1            4        0  -1.391730\n",
      "1           2            3        4  -0.300389\n",
      "2          -1           -1       -2  -2.000000\n",
      "3          -1           -1       -2  -2.000000\n",
      "4           5            6        1  -0.022486\n",
      "5          -1           -1       -2  -2.000000\n",
      "6          -1           -1       -2  -2.000000\n",
      "class=27, tree=0: <sklearn.tree._tree.Tree object at 0x7fa3c51b49d0>\n",
      "   child_left  child_right  feature  threshold\n",
      "0           1            4        1  -0.022964\n",
      "1           2            3        9  -0.623941\n",
      "2          -1           -1       -2  -2.000000\n",
      "3          -1           -1       -2  -2.000000\n",
      "4           5            6        6  -3.957395\n",
      "5          -1           -1       -2  -2.000000\n",
      "6          -1           -1       -2  -2.000000\n",
      "class=28, tree=0: <sklearn.tree._tree.Tree object at 0x7fa3c51b4a40>\n",
      "   child_left  child_right  feature  threshold\n",
      "0           1            4        0  -1.391730\n",
      "1           2            3        4  -0.300389\n",
      "2          -1           -1       -2  -2.000000\n",
      "3          -1           -1       -2  -2.000000\n",
      "4           5            6        6  -3.957395\n",
      "5          -1           -1       -2  -2.000000\n",
      "6          -1           -1       -2  -2.000000\n",
      "class=29, tree=0: <sklearn.tree._tree.Tree object at 0x7fa3c51b4ab0>\n",
      "   child_left  child_right  feature  threshold\n",
      "0           1            4        1  -0.022964\n",
      "1           2            3        4  -0.252550\n",
      "2          -1           -1       -2  -2.000000\n",
      "3          -1           -1       -2  -2.000000\n",
      "4           5            6        3   0.329181\n",
      "5          -1           -1       -2  -2.000000\n",
      "6          -1           -1       -2  -2.000000\n",
      "class=30, tree=0: <sklearn.tree._tree.Tree object at 0x7fa3c51b4b20>\n",
      "   child_left  child_right  feature  threshold\n",
      "0           1            4        2   1.192752\n",
      "1           2            3        1  -0.023475\n",
      "2          -1           -1       -2  -2.000000\n",
      "3          -1           -1       -2  -2.000000\n",
      "4           5            6        0  -1.539349\n",
      "5          -1           -1       -2  -2.000000\n",
      "6          -1           -1       -2  -2.000000\n",
      "class=31, tree=0: <sklearn.tree._tree.Tree object at 0x7fa3c51b4b90>\n",
      "   child_left  child_right  feature  threshold\n",
      "0           1            4        1  -0.022964\n",
      "1           2            3        9  -0.623941\n",
      "2          -1           -1       -2  -2.000000\n",
      "3          -1           -1       -2  -2.000000\n",
      "4           5            6        0  -1.056398\n",
      "5          -1           -1       -2  -2.000000\n",
      "6          -1           -1       -2  -2.000000\n",
      "class=32, tree=0: <sklearn.tree._tree.Tree object at 0x7fa3c51b4c00>\n",
      "   child_left  child_right  feature  threshold\n",
      "0           1            4        0  -1.391730\n",
      "1           2            3        9  -0.623941\n",
      "2          -1           -1       -2  -2.000000\n",
      "3          -1           -1       -2  -2.000000\n",
      "4           5            6        1  -0.022486\n",
      "5          -1           -1       -2  -2.000000\n",
      "6          -1           -1       -2  -2.000000\n",
      "class=33, tree=0: <sklearn.tree._tree.Tree object at 0x7fa3c51b4c70>\n",
      "   child_left  child_right  feature  threshold\n",
      "0           1            4        1  -0.022964\n",
      "1           2            3        9  -0.623941\n",
      "2          -1           -1       -2  -2.000000\n",
      "3          -1           -1       -2  -2.000000\n",
      "4           5            6        6  -3.957395\n",
      "5          -1           -1       -2  -2.000000\n",
      "6          -1           -1       -2  -2.000000\n",
      "class=34, tree=0: <sklearn.tree._tree.Tree object at 0x7fa3c51b4ce0>\n",
      "   child_left  child_right  feature  threshold\n",
      "0           1            4        4  -0.712850\n",
      "1           2            3        7   0.017680\n",
      "2          -1           -1       -2  -2.000000\n",
      "3          -1           -1       -2  -2.000000\n",
      "4           5            6        0  -1.602776\n",
      "5          -1           -1       -2  -2.000000\n",
      "6          -1           -1       -2  -2.000000\n",
      "class=35, tree=0: <sklearn.tree._tree.Tree object at 0x7fa3c51b4d50>\n",
      "   child_left  child_right  feature  threshold\n",
      "0           1            4        1  -0.022911\n",
      "1           2            3        6  -1.211028\n",
      "2          -1           -1       -2  -2.000000\n",
      "3          -1           -1       -2  -2.000000\n",
      "4           5            6        1  -0.022486\n",
      "5          -1           -1       -2  -2.000000\n",
      "6          -1           -1       -2  -2.000000\n",
      "class=36, tree=0: <sklearn.tree._tree.Tree object at 0x7fa3c51b4dc0>\n",
      "   child_left  child_right  feature  threshold\n",
      "0           1            4        0  -1.391730\n",
      "1           2            3        6  -0.371602\n",
      "2          -1           -1       -2  -2.000000\n",
      "3          -1           -1       -2  -2.000000\n",
      "4           5            6        7  -0.035954\n",
      "5          -1           -1       -2  -2.000000\n",
      "6          -1           -1       -2  -2.000000\n",
      "class=37, tree=0: <sklearn.tree._tree.Tree object at 0x7fa3c51b4e30>\n",
      "   child_left  child_right  feature  threshold\n",
      "0           1            4        7  -0.298692\n",
      "1           2            3        4   0.767772\n",
      "2          -1           -1       -2  -2.000000\n",
      "3          -1           -1       -2  -2.000000\n",
      "4           5            6        1  -0.022486\n",
      "5          -1           -1       -2  -2.000000\n",
      "6          -1           -1       -2  -2.000000\n",
      "class=38, tree=0: <sklearn.tree._tree.Tree object at 0x7fa3c51b4ea0>\n",
      "   child_left  child_right  feature  threshold\n",
      "0           1            4        0  -1.311529\n",
      "1           2            3        6  -1.354475\n",
      "2          -1           -1       -2  -2.000000\n",
      "3          -1           -1       -2  -2.000000\n",
      "4           5            6        7  -0.059870\n",
      "5          -1           -1       -2  -2.000000\n",
      "6          -1           -1       -2  -2.000000\n",
      "class=39, tree=0: <sklearn.tree._tree.Tree object at 0x7fa3c51b4f10>\n",
      "   child_left  child_right  feature  threshold\n",
      "0           1            4        1  -0.022911\n",
      "1           2            3        9   3.581988\n",
      "2          -1           -1       -2  -2.000000\n",
      "3          -1           -1       -2  -2.000000\n",
      "4           5            6        9   1.567849\n",
      "5          -1           -1       -2  -2.000000\n",
      "6          -1           -1       -2  -2.000000\n",
      "class=40, tree=0: <sklearn.tree._tree.Tree object at 0x7fa3c51b4f80>\n",
      "   child_left  child_right  feature  threshold\n",
      "0           1            4        1  -0.022486\n",
      "1           2            3        4  -0.553729\n",
      "2          -1           -1       -2  -2.000000\n",
      "3          -1           -1       -2  -2.000000\n",
      "4           5            6        2  -0.940937\n",
      "5          -1           -1       -2  -2.000000\n",
      "6          -1           -1       -2  -2.000000\n",
      "class=41, tree=0: <sklearn.tree._tree.Tree object at 0x7fa3c51ca030>\n",
      "   child_left  child_right  feature  threshold\n",
      "0           1            4        4  -0.712850\n",
      "1           2            3        1  -0.022243\n",
      "2          -1           -1       -2  -2.000000\n",
      "3          -1           -1       -2  -2.000000\n",
      "4           5            6        0  -2.063299\n",
      "5          -1           -1       -2  -2.000000\n",
      "6          -1           -1       -2  -2.000000\n",
      "class=42, tree=0: <sklearn.tree._tree.Tree object at 0x7fa3c51ca0a0>\n",
      "   child_left  child_right  feature  threshold\n",
      "0           1            4        0  -1.311529\n",
      "1           2            3        4  -0.088353\n",
      "2          -1           -1       -2  -2.000000\n",
      "3          -1           -1       -2  -2.000000\n",
      "4           5            6        7  -0.059870\n",
      "5          -1           -1       -2  -2.000000\n",
      "6          -1           -1       -2  -2.000000\n",
      "class=43, tree=0: <sklearn.tree._tree.Tree object at 0x7fa3c51ca110>\n",
      "   child_left  child_right  feature  threshold\n",
      "0           1            4        0  -1.311529\n",
      "1           2            3        4  -0.088353\n",
      "2          -1           -1       -2  -2.000000\n",
      "3          -1           -1       -2  -2.000000\n",
      "4           5            6        7  -0.035954\n",
      "5          -1           -1       -2  -2.000000\n",
      "6          -1           -1       -2  -2.000000\n",
      "class=44, tree=0: <sklearn.tree._tree.Tree object at 0x7fa3c51ca180>\n",
      "   child_left  child_right  feature  threshold\n",
      "0           1            4        1  -0.022486\n",
      "1           2            3        4  -0.553729\n",
      "2          -1           -1       -2  -2.000000\n",
      "3          -1           -1       -2  -2.000000\n",
      "4           5            6        7  -0.035759\n",
      "5          -1           -1       -2  -2.000000\n",
      "6          -1           -1       -2  -2.000000\n",
      "class=45, tree=0: <sklearn.tree._tree.Tree object at 0x7fa3c51ca1f0>\n",
      "   child_left  child_right  feature  threshold\n",
      "0           1            4        0  -1.056398\n",
      "1           2            3        8  -0.015011\n",
      "2          -1           -1       -2  -2.000000\n",
      "3          -1           -1       -2  -2.000000\n",
      "4           5            6        4   2.444284\n",
      "5          -1           -1       -2  -2.000000\n",
      "6          -1           -1       -2  -2.000000\n",
      "class=46, tree=0: <sklearn.tree._tree.Tree object at 0x7fa3c51ca260>\n",
      "   child_left  child_right  feature  threshold\n",
      "0           1            4        1  -0.022486\n",
      "1           2            3        4  -0.553729\n",
      "2          -1           -1       -2  -2.000000\n",
      "3          -1           -1       -2  -2.000000\n",
      "4           5            6        9   1.019528\n",
      "5          -1           -1       -2  -2.000000\n",
      "6          -1           -1       -2  -2.000000\n",
      "class=47, tree=0: <sklearn.tree._tree.Tree object at 0x7fa3c51ca2d0>\n",
      "   child_left  child_right  feature  threshold\n",
      "0           1            4        0  -1.056398\n",
      "1           2            3        8  -0.015011\n",
      "2          -1           -1       -2  -2.000000\n",
      "3          -1           -1       -2  -2.000000\n",
      "4           5            6        6  -3.969476\n",
      "5          -1           -1       -2  -2.000000\n",
      "6          -1           -1       -2  -2.000000\n",
      "class=48, tree=0: <sklearn.tree._tree.Tree object at 0x7fa3c51ca340>\n",
      "   child_left  child_right  feature  threshold\n",
      "0           1            2        0  -4.671501\n",
      "1          -1           -1       -2  -2.000000\n",
      "2           3            4        1  -0.022486\n",
      "3          -1           -1       -2  -2.000000\n",
      "4          -1           -1       -2  -2.000000\n",
      "class=49, tree=0: <sklearn.tree._tree.Tree object at 0x7fa3c51ca3b0>\n",
      "   child_left  child_right  feature  threshold\n",
      "0           1            4        1  -0.022486\n",
      "1           2            3        9  -0.743743\n",
      "2          -1           -1       -2  -2.000000\n",
      "3          -1           -1       -2  -2.000000\n",
      "4           5            6        9   1.019528\n",
      "5          -1           -1       -2  -2.000000\n",
      "6          -1           -1       -2  -2.000000\n"
     ]
    }
   ],
   "source": [
    "n_classes, n_estimators = clf_best.estimators_.shape\n",
    "for c in range(n_classes):\n",
    "    for t in range(n_estimators):\n",
    "        dtree = clf_best.estimators_[c, t]\n",
    "        print(\"class={}, tree={}: {}\".format(c, t, dtree.tree_))\n",
    "\n",
    "        rules = pd.DataFrame({\n",
    "            'child_left': dtree.tree_.children_left,\n",
    "            'child_right': dtree.tree_.children_right,\n",
    "            'feature': dtree.tree_.feature,\n",
    "            'threshold': dtree.tree_.threshold,\n",
    "        })\n",
    "        print(rules)"
   ]
  },
  {
   "cell_type": "markdown",
   "metadata": {},
   "source": [
    "### Out-of-sample Testing "
   ]
  },
  {
   "cell_type": "code",
   "execution_count": 288,
   "metadata": {},
   "outputs": [
    {
     "name": "stdout",
     "output_type": "stream",
     "text": [
      "******************************************************* \n",
      "Matthews Correlation (MCC) for 2010Q4 is 0.66\n",
      "******************************************************* \n",
      "Out-of-sample (OOS) Classification Report for 2010Q4:\n",
      "              precision    recall  f1-score   support\n",
      "\n",
      "           0       1.00      1.00      1.00      6779\n",
      "           1       0.53      0.83      0.65        24\n",
      "\n",
      "    accuracy                           1.00      6803\n",
      "   macro avg       0.76      0.92      0.82      6803\n",
      "weighted avg       1.00      1.00      1.00      6803\n",
      " \n",
      "\n",
      "\n",
      "******************************************************* \n",
      "Matthews Correlation (MCC) for 2011Q1 is 0.44\n",
      "******************************************************* \n",
      "Out-of-sample (OOS) Classification Report for 2011Q1:\n",
      "              precision    recall  f1-score   support\n",
      "\n",
      "           0       1.00      0.99      0.99      6713\n",
      "           1       0.20      1.00      0.33        19\n",
      "\n",
      "    accuracy                           0.99      6732\n",
      "   macro avg       0.60      0.99      0.66      6732\n",
      "weighted avg       1.00      0.99      0.99      6732\n",
      " \n",
      "\n",
      "\n",
      "******************************************************* \n",
      "Matthews Correlation (MCC) for 2011Q2 is 0.48\n",
      "******************************************************* \n",
      "Out-of-sample (OOS) Classification Report for 2011Q2:\n",
      "              precision    recall  f1-score   support\n",
      "\n",
      "           0       1.00      0.99      1.00      6663\n",
      "           1       0.30      0.76      0.43        25\n",
      "\n",
      "    accuracy                           0.99      6688\n",
      "   macro avg       0.65      0.88      0.71      6688\n",
      "weighted avg       1.00      0.99      0.99      6688\n",
      " \n",
      "\n",
      "\n",
      "******************************************************* \n",
      "Matthews Correlation (MCC) for 2011Q3 is 0.48\n",
      "******************************************************* \n",
      "Out-of-sample (OOS) Classification Report for 2011Q3:\n",
      "              precision    recall  f1-score   support\n",
      "\n",
      "           0       1.00      0.99      1.00      6611\n",
      "           1       0.28      0.83      0.42        18\n",
      "\n",
      "    accuracy                           0.99      6629\n",
      "   macro avg       0.64      0.91      0.71      6629\n",
      "weighted avg       1.00      0.99      1.00      6629\n",
      " \n",
      "\n",
      "\n",
      "******************************************************* \n",
      "Matthews Correlation (MCC) for 2011Q4 is 0.49\n",
      "******************************************************* \n",
      "Out-of-sample (OOS) Classification Report for 2011Q4:\n",
      "              precision    recall  f1-score   support\n",
      "\n",
      "           0       1.00      0.99      1.00      6582\n",
      "           1       0.24      1.00      0.39        13\n",
      "\n",
      "    accuracy                           0.99      6595\n",
      "   macro avg       0.62      1.00      0.69      6595\n",
      "weighted avg       1.00      0.99      1.00      6595\n",
      " \n",
      "\n",
      "\n",
      "******************************************************* \n",
      "Matthews Correlation (MCC) for 2012Q1 is 0.41\n",
      "******************************************************* \n",
      "Out-of-sample (OOS) Classification Report for 2012Q1:\n",
      "              precision    recall  f1-score   support\n",
      "\n",
      "           0       1.00      0.99      1.00      7160\n",
      "           1       0.18      0.93      0.31        15\n",
      "\n",
      "    accuracy                           0.99      7175\n",
      "   macro avg       0.59      0.96      0.65      7175\n",
      "weighted avg       1.00      0.99      0.99      7175\n",
      " \n",
      "\n",
      "\n",
      "******************************************************* \n",
      "Matthews Correlation (MCC) for 2012Q2 is 0.5\n",
      "******************************************************* \n",
      "Out-of-sample (OOS) Classification Report for 2012Q2:\n",
      "              precision    recall  f1-score   support\n",
      "\n",
      "           0       1.00      1.00      1.00      7097\n",
      "           1       0.28      0.92      0.42        12\n",
      "\n",
      "    accuracy                           1.00      7109\n",
      "   macro avg       0.64      0.96      0.71      7109\n",
      "weighted avg       1.00      1.00      1.00      7109\n",
      " \n",
      "\n",
      "\n",
      "******************************************************* \n",
      "Matthews Correlation (MCC) for 2012Q3 is 0.57\n",
      "******************************************************* \n",
      "Out-of-sample (OOS) Classification Report for 2012Q3:\n",
      "              precision    recall  f1-score   support\n",
      "\n",
      "           0       1.00      1.00      1.00      7033\n",
      "           1       0.32      1.00      0.48         8\n",
      "\n",
      "    accuracy                           1.00      7041\n",
      "   macro avg       0.66      1.00      0.74      7041\n",
      "weighted avg       1.00      1.00      1.00      7041\n",
      " \n",
      "\n",
      "\n",
      "******************************************************* \n",
      "Matthews Correlation (MCC) for 2012Q4 is 0.4\n",
      "******************************************************* \n",
      "Out-of-sample (OOS) Classification Report for 2012Q4:\n",
      "              precision    recall  f1-score   support\n",
      "\n",
      "           0       1.00      1.00      1.00      6935\n",
      "           1       0.16      1.00      0.28         4\n",
      "\n",
      "    accuracy                           1.00      6939\n",
      "   macro avg       0.58      1.00      0.64      6939\n",
      "weighted avg       1.00      1.00      1.00      6939\n",
      " \n",
      "\n",
      "\n"
     ]
    }
   ],
   "source": [
    "pd.set_option('use_inf_as_na', True)\n",
    "\n",
    "oos_reports = ['2010Q4', '2011Q1', '2011Q2', '2011Q3', '2011Q4', '2012Q1', '2012Q2', '2012Q3', '2012Q4']\n",
    "results_oos = pd.DataFrame()\n",
    "\n",
    "for report in oos_reports:\n",
    "    oos_df = pd.read_csv('oos/camel_data_after{}_OOS.csv'.format(report))\n",
    "    oos_df.replace([np.inf, -np.inf], np.nan)\n",
    "    oos_df.dropna(inplace=True)\n",
    "    \n",
    "    \n",
    "    y_oos = oos_df['Target']\n",
    "    X_oos = oos_df[['EQTA', 'EQTL', 'LLRTA', 'LLRGL', 'OEXTA', 'INCEMP', 'ROA', 'ROE', 'TDTL', 'TDTA', 'TATA']].copy()\n",
    "    X_oos_scaled = X_scaler.transform(X_oos) \n",
    "    \n",
    "    predictions_oos = clf_best.predict(X_oos_scaled)\n",
    "    mcc = np.round(matthews_corrcoef(y_oos, predictions_oos), 2)\n",
    "    \n",
    "    # Generate out-of-sample classification report\n",
    "    print(\"*\" * 55, \"\\nMatthews Correlation (MCC) for {} is {}\".format(report, mcc))\n",
    "    print(\"*\" * 55,\"\\nOut-of-sample (OOS) Classification Report for {}:\".format(report))\n",
    "    print(classification_report(y_oos, predictions_oos), \"\\n\\n\")\n",
    "   \n",
    "  "
   ]
  },
  {
   "cell_type": "code",
   "execution_count": null,
   "metadata": {},
   "outputs": [],
   "source": []
  }
 ],
 "metadata": {
  "kernelspec": {
   "display_name": "Python 3",
   "language": "python",
   "name": "python3"
  },
  "language_info": {
   "codemirror_mode": {
    "name": "ipython",
    "version": 3
   },
   "file_extension": ".py",
   "mimetype": "text/x-python",
   "name": "python",
   "nbconvert_exporter": "python",
   "pygments_lexer": "ipython3",
   "version": "3.8.3"
  }
 },
 "nbformat": 4,
 "nbformat_minor": 4
}
